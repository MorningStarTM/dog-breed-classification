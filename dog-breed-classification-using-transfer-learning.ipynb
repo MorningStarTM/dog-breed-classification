{
 "cells": [
  {
   "cell_type": "code",
   "execution_count": 1,
   "id": "73447f0c",
   "metadata": {
    "execution": {
     "iopub.execute_input": "2023-03-01T17:03:44.149778Z",
     "iopub.status.busy": "2023-03-01T17:03:44.149216Z",
     "iopub.status.idle": "2023-03-01T17:03:57.716906Z",
     "shell.execute_reply": "2023-03-01T17:03:57.715782Z"
    },
    "papermill": {
     "duration": 13.58354,
     "end_time": "2023-03-01T17:03:57.719851",
     "exception": false,
     "start_time": "2023-03-01T17:03:44.136311",
     "status": "completed"
    },
    "tags": []
   },
   "outputs": [],
   "source": [
    "#import libraries\n",
    "import numpy as np\n",
    "import os\n",
    "import cv2\n",
    "import itertools\n",
    "import matplotlib.pyplot as plt\n",
    "import tensorflow as tf\n",
    "from glob import glob\n",
    "from tensorflow.keras.layers import Dense, Conv2D, MaxPooling2D, Flatten, Dropout, Input\n",
    "from tensorflow.keras.models import Model\n",
    "from tensorflow.keras.applications.vgg16 import VGG16\n",
    "from tensorflow.keras.applications.inception_v3 import InceptionV3\n",
    "from tensorflow.keras.callbacks import Callback, ReduceLROnPlateau, ModelCheckpoint, CSVLogger\n",
    "from sklearn.model_selection import train_test_split\n",
    "from sklearn.metrics import confusion_matrix\n",
    "from sklearn import metrics\n",
    "from sklearn.utils import shuffle"
   ]
  },
  {
   "cell_type": "code",
   "execution_count": 2,
   "id": "4fd4944a",
   "metadata": {
    "execution": {
     "iopub.execute_input": "2023-03-01T17:03:57.741793Z",
     "iopub.status.busy": "2023-03-01T17:03:57.741153Z",
     "iopub.status.idle": "2023-03-01T17:03:57.746072Z",
     "shell.execute_reply": "2023-03-01T17:03:57.745079Z"
    },
    "papermill": {
     "duration": 0.017715,
     "end_time": "2023-03-01T17:03:57.748007",
     "exception": false,
     "start_time": "2023-03-01T17:03:57.730292",
     "status": "completed"
    },
    "tags": []
   },
   "outputs": [],
   "source": [
    "path = \"/kaggle/input/120-dog-breeds-breed-classification/Images\""
   ]
  },
  {
   "cell_type": "code",
   "execution_count": 3,
   "id": "6dbcc587",
   "metadata": {
    "execution": {
     "iopub.execute_input": "2023-03-01T17:03:57.768160Z",
     "iopub.status.busy": "2023-03-01T17:03:57.767886Z",
     "iopub.status.idle": "2023-03-01T17:03:57.772372Z",
     "shell.execute_reply": "2023-03-01T17:03:57.771418Z"
    },
    "papermill": {
     "duration": 0.016889,
     "end_time": "2023-03-01T17:03:57.774435",
     "exception": false,
     "start_time": "2023-03-01T17:03:57.757546",
     "status": "completed"
    },
    "tags": []
   },
   "outputs": [],
   "source": [
    "#parameters\n",
    "IMAGE_SIZE = [224, 224]\n",
    "channel = 3\n",
    "W, H = 224,224\n",
    "num_class = 120\n",
    "batch_size = 128"
   ]
  },
  {
   "cell_type": "markdown",
   "id": "22446f2a",
   "metadata": {
    "papermill": {
     "duration": 0.0091,
     "end_time": "2023-03-01T17:03:57.792573",
     "exception": false,
     "start_time": "2023-03-01T17:03:57.783473",
     "status": "completed"
    },
    "tags": []
   },
   "source": [
    "# Basic Function"
   ]
  },
  {
   "cell_type": "code",
   "execution_count": 4,
   "id": "cc9ce6d6",
   "metadata": {
    "execution": {
     "iopub.execute_input": "2023-03-01T17:03:57.813155Z",
     "iopub.status.busy": "2023-03-01T17:03:57.812339Z",
     "iopub.status.idle": "2023-03-01T17:03:57.817256Z",
     "shell.execute_reply": "2023-03-01T17:03:57.816439Z"
    },
    "papermill": {
     "duration": 0.017404,
     "end_time": "2023-03-01T17:03:57.819189",
     "exception": false,
     "start_time": "2023-03-01T17:03:57.801785",
     "status": "completed"
    },
    "tags": []
   },
   "outputs": [],
   "source": [
    "#get directory of images\n",
    "def get_labels(path):\n",
    "  files = os.listdir(path)\n",
    "  return files"
   ]
  },
  {
   "cell_type": "code",
   "execution_count": 5,
   "id": "a2eb3cc6",
   "metadata": {
    "execution": {
     "iopub.execute_input": "2023-03-01T17:03:57.839200Z",
     "iopub.status.busy": "2023-03-01T17:03:57.838691Z",
     "iopub.status.idle": "2023-03-01T17:03:57.843696Z",
     "shell.execute_reply": "2023-03-01T17:03:57.842792Z"
    },
    "papermill": {
     "duration": 0.01718,
     "end_time": "2023-03-01T17:03:57.845942",
     "exception": false,
     "start_time": "2023-03-01T17:03:57.828762",
     "status": "completed"
    },
    "tags": []
   },
   "outputs": [],
   "source": [
    "#split the name and unique address\n",
    "def get_splited_name(labels):\n",
    "  splited_list = []\n",
    "  labels_list = []\n",
    "  for i in labels:\n",
    "    splited = i.split('-')\n",
    "    labels_list.append(splited[-1])\n",
    "    splited_list.append(splited)\n",
    "  \n",
    "  return splited_list, labels_list"
   ]
  },
  {
   "cell_type": "code",
   "execution_count": 6,
   "id": "74066704",
   "metadata": {
    "execution": {
     "iopub.execute_input": "2023-03-01T17:03:57.866419Z",
     "iopub.status.busy": "2023-03-01T17:03:57.865562Z",
     "iopub.status.idle": "2023-03-01T17:03:57.870599Z",
     "shell.execute_reply": "2023-03-01T17:03:57.869679Z"
    },
    "papermill": {
     "duration": 0.017077,
     "end_time": "2023-03-01T17:03:57.872581",
     "exception": false,
     "start_time": "2023-03-01T17:03:57.855504",
     "status": "completed"
    },
    "tags": []
   },
   "outputs": [],
   "source": [
    "#create dictionary for name and unique address\n",
    "def get_name_index(splited_list):\n",
    "  new_list = [{item[0]: item[1]} for item in splited_list]\n",
    "  return new_list"
   ]
  },
  {
   "cell_type": "code",
   "execution_count": 7,
   "id": "a6da876a",
   "metadata": {
    "execution": {
     "iopub.execute_input": "2023-03-01T17:03:57.892970Z",
     "iopub.status.busy": "2023-03-01T17:03:57.892375Z",
     "iopub.status.idle": "2023-03-01T17:03:57.912172Z",
     "shell.execute_reply": "2023-03-01T17:03:57.911348Z"
    },
    "papermill": {
     "duration": 0.032276,
     "end_time": "2023-03-01T17:03:57.914368",
     "exception": false,
     "start_time": "2023-03-01T17:03:57.882092",
     "status": "completed"
    },
    "tags": []
   },
   "outputs": [],
   "source": [
    "folder = get_labels(path)\n",
    "splited_list, labels_list = get_splited_name(folder)\n",
    "index_list = get_name_index(splited_list)"
   ]
  },
  {
   "cell_type": "code",
   "execution_count": 8,
   "id": "bed0beac",
   "metadata": {
    "execution": {
     "iopub.execute_input": "2023-03-01T17:03:57.934515Z",
     "iopub.status.busy": "2023-03-01T17:03:57.933676Z",
     "iopub.status.idle": "2023-03-01T17:03:57.943539Z",
     "shell.execute_reply": "2023-03-01T17:03:57.942448Z"
    },
    "papermill": {
     "duration": 0.023159,
     "end_time": "2023-03-01T17:03:57.946762",
     "exception": false,
     "start_time": "2023-03-01T17:03:57.923603",
     "status": "completed"
    },
    "tags": []
   },
   "outputs": [
    {
     "data": {
      "text/plain": [
       "['otterhound',\n",
       " 'cocker_spaniel',\n",
       " 'Brittany_spaniel',\n",
       " 'Afghan_hound',\n",
       " 'Maltese_dog',\n",
       " 'schipperke',\n",
       " 'Irish_setter',\n",
       " 'Pekinese',\n",
       " 'golden_retriever',\n",
       " 'vizsla',\n",
       " 'Welsh_springer_spaniel',\n",
       " 'Staffordshire_bullterrier',\n",
       " 'Border_collie',\n",
       " 'Irish_terrier',\n",
       " 'Eskimo_dog',\n",
       " 'pug',\n",
       " 'kelpie',\n",
       " 'Yorkshire_terrier',\n",
       " 'Tibetan_terrier',\n",
       " 'Walker_hound',\n",
       " 'affenpinscher',\n",
       " 'Cardigan',\n",
       " 'English_springer',\n",
       " 'English_foxhound',\n",
       " 'West_Highland_white_terrier',\n",
       " 'Lakeland_terrier',\n",
       " 'Rhodesian_ridgeback',\n",
       " 'Gordon_setter',\n",
       " 'Lhasa',\n",
       " 'coated_retriever',\n",
       " 'beagle',\n",
       " 'Tibetan_mastiff',\n",
       " 'Sussex_spaniel',\n",
       " 'Saint_Bernard',\n",
       " 'toy_terrier',\n",
       " 'standard_poodle',\n",
       " 'Bernese_mountain_dog',\n",
       " 'Pomeranian',\n",
       " 'Ibizan_hound',\n",
       " 'redbone',\n",
       " 'toy_poodle',\n",
       " 'basset',\n",
       " 'Scottish_deerhound',\n",
       " 'miniature_pinscher',\n",
       " 'basenji',\n",
       " 'Border_terrier',\n",
       " 'Bedlington_terrier',\n",
       " 'Kerry_blue_terrier',\n",
       " 'Weimaraner',\n",
       " 'English_setter',\n",
       " 'bluetick',\n",
       " 'Boston_bull',\n",
       " 'Italian_greyhound',\n",
       " 'Dandie_Dinmont',\n",
       " 'Airedale',\n",
       " 'Irish_water_spaniel',\n",
       " 'Norfolk_terrier',\n",
       " 'haired_fox_terrier',\n",
       " 'French_bulldog',\n",
       " 'coated_wheaten_terrier',\n",
       " 'komondor',\n",
       " 'African_hunting_dog',\n",
       " 'Siberian_husky',\n",
       " 'Newfoundland',\n",
       " 'Bouvier_des_Flandres',\n",
       " 'Saluki',\n",
       " 'Shetland_sheepdog',\n",
       " 'collie',\n",
       " 'Rottweiler',\n",
       " 'silky_terrier',\n",
       " 'Norwegian_elkhound',\n",
       " 'Chihuahua',\n",
       " 'Leonberg',\n",
       " 'Norwich_terrier',\n",
       " 'cairn',\n",
       " 'boxer',\n",
       " 'borzoi',\n",
       " 'dhole',\n",
       " 'Samoyed',\n",
       " 'German_shepherd',\n",
       " 'Labrador_retriever',\n",
       " 'Blenheim_spaniel',\n",
       " 'groenendael',\n",
       " 'Doberman',\n",
       " 'Great_Dane',\n",
       " 'coated_retriever',\n",
       " 'Appenzeller',\n",
       " 'Tzu',\n",
       " 'Japanese_spaniel',\n",
       " 'Greater_Swiss_Mountain_dog',\n",
       " 'tan_coonhound',\n",
       " 'dingo',\n",
       " 'Great_Pyrenees',\n",
       " 'whippet',\n",
       " 'keeshond',\n",
       " 'malinois',\n",
       " 'American_Staffordshire_terrier',\n",
       " 'Mexican_hairless',\n",
       " 'giant_schnauzer',\n",
       " 'Brabancon_griffon',\n",
       " 'kuvasz',\n",
       " 'miniature_poodle',\n",
       " 'Irish_wolfhound',\n",
       " 'briard',\n",
       " 'clumber',\n",
       " 'standard_schnauzer',\n",
       " 'bull_mastiff',\n",
       " 'malamute',\n",
       " 'Sealyham_terrier',\n",
       " 'EntleBucher',\n",
       " 'chow',\n",
       " 'papillon',\n",
       " 'Pembroke',\n",
       " 'haired_pointer',\n",
       " 'Old_English_sheepdog',\n",
       " 'Chesapeake_Bay_retriever',\n",
       " 'Scotch_terrier',\n",
       " 'Australian_terrier',\n",
       " 'miniature_schnauzer',\n",
       " 'bloodhound']"
      ]
     },
     "execution_count": 8,
     "metadata": {},
     "output_type": "execute_result"
    }
   ],
   "source": [
    "labels_list"
   ]
  },
  {
   "cell_type": "code",
   "execution_count": 9,
   "id": "c9be6315",
   "metadata": {
    "execution": {
     "iopub.execute_input": "2023-03-01T17:03:57.967780Z",
     "iopub.status.busy": "2023-03-01T17:03:57.967041Z",
     "iopub.status.idle": "2023-03-01T17:03:57.977395Z",
     "shell.execute_reply": "2023-03-01T17:03:57.976441Z"
    },
    "papermill": {
     "duration": 0.023575,
     "end_time": "2023-03-01T17:03:57.979653",
     "exception": false,
     "start_time": "2023-03-01T17:03:57.956078",
     "status": "completed"
    },
    "tags": []
   },
   "outputs": [
    {
     "data": {
      "text/plain": [
       "[{'n02091635': 'otterhound'},\n",
       " {'n02102318': 'cocker_spaniel'},\n",
       " {'n02101388': 'Brittany_spaniel'},\n",
       " {'n02088094': 'Afghan_hound'},\n",
       " {'n02085936': 'Maltese_dog'},\n",
       " {'n02104365': 'schipperke'},\n",
       " {'n02100877': 'Irish_setter'},\n",
       " {'n02086079': 'Pekinese'},\n",
       " {'n02099601': 'golden_retriever'},\n",
       " {'n02100583': 'vizsla'},\n",
       " {'n02102177': 'Welsh_springer_spaniel'},\n",
       " {'n02093256': 'Staffordshire_bullterrier'},\n",
       " {'n02106166': 'Border_collie'},\n",
       " {'n02093991': 'Irish_terrier'},\n",
       " {'n02109961': 'Eskimo_dog'},\n",
       " {'n02110958': 'pug'},\n",
       " {'n02105412': 'kelpie'},\n",
       " {'n02094433': 'Yorkshire_terrier'},\n",
       " {'n02097474': 'Tibetan_terrier'},\n",
       " {'n02089867': 'Walker_hound'},\n",
       " {'n02110627': 'affenpinscher'},\n",
       " {'n02113186': 'Cardigan'},\n",
       " {'n02102040': 'English_springer'},\n",
       " {'n02089973': 'English_foxhound'},\n",
       " {'n02098286': 'West_Highland_white_terrier'},\n",
       " {'n02095570': 'Lakeland_terrier'},\n",
       " {'n02087394': 'Rhodesian_ridgeback'},\n",
       " {'n02101006': 'Gordon_setter'},\n",
       " {'n02098413': 'Lhasa'},\n",
       " {'n02099429': 'curly'},\n",
       " {'n02088364': 'beagle'},\n",
       " {'n02108551': 'Tibetan_mastiff'},\n",
       " {'n02102480': 'Sussex_spaniel'},\n",
       " {'n02109525': 'Saint_Bernard'},\n",
       " {'n02087046': 'toy_terrier'},\n",
       " {'n02113799': 'standard_poodle'},\n",
       " {'n02107683': 'Bernese_mountain_dog'},\n",
       " {'n02112018': 'Pomeranian'},\n",
       " {'n02091244': 'Ibizan_hound'},\n",
       " {'n02090379': 'redbone'},\n",
       " {'n02113624': 'toy_poodle'},\n",
       " {'n02088238': 'basset'},\n",
       " {'n02092002': 'Scottish_deerhound'},\n",
       " {'n02107312': 'miniature_pinscher'},\n",
       " {'n02110806': 'basenji'},\n",
       " {'n02093754': 'Border_terrier'},\n",
       " {'n02093647': 'Bedlington_terrier'},\n",
       " {'n02093859': 'Kerry_blue_terrier'},\n",
       " {'n02092339': 'Weimaraner'},\n",
       " {'n02100735': 'English_setter'},\n",
       " {'n02088632': 'bluetick'},\n",
       " {'n02096585': 'Boston_bull'},\n",
       " {'n02091032': 'Italian_greyhound'},\n",
       " {'n02096437': 'Dandie_Dinmont'},\n",
       " {'n02096051': 'Airedale'},\n",
       " {'n02102973': 'Irish_water_spaniel'},\n",
       " {'n02094114': 'Norfolk_terrier'},\n",
       " {'n02095314': 'wire'},\n",
       " {'n02108915': 'French_bulldog'},\n",
       " {'n02098105': 'soft'},\n",
       " {'n02105505': 'komondor'},\n",
       " {'n02116738': 'African_hunting_dog'},\n",
       " {'n02110185': 'Siberian_husky'},\n",
       " {'n02111277': 'Newfoundland'},\n",
       " {'n02106382': 'Bouvier_des_Flandres'},\n",
       " {'n02091831': 'Saluki'},\n",
       " {'n02105855': 'Shetland_sheepdog'},\n",
       " {'n02106030': 'collie'},\n",
       " {'n02106550': 'Rottweiler'},\n",
       " {'n02097658': 'silky_terrier'},\n",
       " {'n02091467': 'Norwegian_elkhound'},\n",
       " {'n02085620': 'Chihuahua'},\n",
       " {'n02111129': 'Leonberg'},\n",
       " {'n02094258': 'Norwich_terrier'},\n",
       " {'n02096177': 'cairn'},\n",
       " {'n02108089': 'boxer'},\n",
       " {'n02090622': 'borzoi'},\n",
       " {'n02115913': 'dhole'},\n",
       " {'n02111889': 'Samoyed'},\n",
       " {'n02106662': 'German_shepherd'},\n",
       " {'n02099712': 'Labrador_retriever'},\n",
       " {'n02086646': 'Blenheim_spaniel'},\n",
       " {'n02105056': 'groenendael'},\n",
       " {'n02107142': 'Doberman'},\n",
       " {'n02109047': 'Great_Dane'},\n",
       " {'n02099267': 'flat'},\n",
       " {'n02107908': 'Appenzeller'},\n",
       " {'n02086240': 'Shih'},\n",
       " {'n02085782': 'Japanese_spaniel'},\n",
       " {'n02107574': 'Greater_Swiss_Mountain_dog'},\n",
       " {'n02089078': 'black'},\n",
       " {'n02115641': 'dingo'},\n",
       " {'n02111500': 'Great_Pyrenees'},\n",
       " {'n02091134': 'whippet'},\n",
       " {'n02112350': 'keeshond'},\n",
       " {'n02105162': 'malinois'},\n",
       " {'n02093428': 'American_Staffordshire_terrier'},\n",
       " {'n02113978': 'Mexican_hairless'},\n",
       " {'n02097130': 'giant_schnauzer'},\n",
       " {'n02112706': 'Brabancon_griffon'},\n",
       " {'n02104029': 'kuvasz'},\n",
       " {'n02113712': 'miniature_poodle'},\n",
       " {'n02090721': 'Irish_wolfhound'},\n",
       " {'n02105251': 'briard'},\n",
       " {'n02101556': 'clumber'},\n",
       " {'n02097209': 'standard_schnauzer'},\n",
       " {'n02108422': 'bull_mastiff'},\n",
       " {'n02110063': 'malamute'},\n",
       " {'n02095889': 'Sealyham_terrier'},\n",
       " {'n02108000': 'EntleBucher'},\n",
       " {'n02112137': 'chow'},\n",
       " {'n02086910': 'papillon'},\n",
       " {'n02113023': 'Pembroke'},\n",
       " {'n02100236': 'German_short'},\n",
       " {'n02105641': 'Old_English_sheepdog'},\n",
       " {'n02099849': 'Chesapeake_Bay_retriever'},\n",
       " {'n02097298': 'Scotch_terrier'},\n",
       " {'n02096294': 'Australian_terrier'},\n",
       " {'n02097047': 'miniature_schnauzer'},\n",
       " {'n02088466': 'bloodhound'}]"
      ]
     },
     "execution_count": 9,
     "metadata": {},
     "output_type": "execute_result"
    }
   ],
   "source": [
    "index_list"
   ]
  },
  {
   "cell_type": "code",
   "execution_count": 10,
   "id": "54051d93",
   "metadata": {
    "execution": {
     "iopub.execute_input": "2023-03-01T17:03:57.999855Z",
     "iopub.status.busy": "2023-03-01T17:03:57.999583Z",
     "iopub.status.idle": "2023-03-01T17:03:58.003754Z",
     "shell.execute_reply": "2023-03-01T17:03:58.002801Z"
    },
    "papermill": {
     "duration": 0.016507,
     "end_time": "2023-03-01T17:03:58.005773",
     "exception": false,
     "start_time": "2023-03-01T17:03:57.989266",
     "status": "completed"
    },
    "tags": []
   },
   "outputs": [],
   "source": [
    "num_classes = len(index_list)"
   ]
  },
  {
   "cell_type": "code",
   "execution_count": 11,
   "id": "92cc06ef",
   "metadata": {
    "execution": {
     "iopub.execute_input": "2023-03-01T17:03:58.026862Z",
     "iopub.status.busy": "2023-03-01T17:03:58.026011Z",
     "iopub.status.idle": "2023-03-01T17:03:58.032231Z",
     "shell.execute_reply": "2023-03-01T17:03:58.031256Z"
    },
    "papermill": {
     "duration": 0.018915,
     "end_time": "2023-03-01T17:03:58.034191",
     "exception": false,
     "start_time": "2023-03-01T17:03:58.015276",
     "status": "completed"
    },
    "tags": []
   },
   "outputs": [
    {
     "data": {
      "text/plain": [
       "120"
      ]
     },
     "execution_count": 11,
     "metadata": {},
     "output_type": "execute_result"
    }
   ],
   "source": [
    "num_classes"
   ]
  },
  {
   "cell_type": "markdown",
   "id": "d8035f25",
   "metadata": {
    "papermill": {
     "duration": 0.009392,
     "end_time": "2023-03-01T17:03:58.053104",
     "exception": false,
     "start_time": "2023-03-01T17:03:58.043712",
     "status": "completed"
    },
    "tags": []
   },
   "source": [
    "# Data Pipeline"
   ]
  },
  {
   "cell_type": "code",
   "execution_count": 12,
   "id": "9304dca8",
   "metadata": {
    "execution": {
     "iopub.execute_input": "2023-03-01T17:03:58.075025Z",
     "iopub.status.busy": "2023-03-01T17:03:58.074168Z",
     "iopub.status.idle": "2023-03-01T17:03:58.079892Z",
     "shell.execute_reply": "2023-03-01T17:03:58.079023Z"
    },
    "papermill": {
     "duration": 0.018444,
     "end_time": "2023-03-01T17:03:58.081782",
     "exception": false,
     "start_time": "2023-03-01T17:03:58.063338",
     "status": "completed"
    },
    "tags": []
   },
   "outputs": [],
   "source": [
    "def load_data(path, split=0.3):\n",
    "  images = shuffle(glob(os.path.join(path,\"*\",\"*.jpg\")))\n",
    "  split_size = int(len(images)*split)\n",
    "  #split data\n",
    "  train_data, valid_data = train_test_split(images, test_size=split_size, random_state=42)\n",
    "  train_data, test_data = train_test_split(train_data, test_size=split_size, random_state=42)\n",
    "\n",
    "  return train_data, valid_data, test_data"
   ]
  },
  {
   "cell_type": "code",
   "execution_count": 13,
   "id": "2433d103",
   "metadata": {
    "execution": {
     "iopub.execute_input": "2023-03-01T17:03:58.102920Z",
     "iopub.status.busy": "2023-03-01T17:03:58.102339Z",
     "iopub.status.idle": "2023-03-01T17:04:00.901010Z",
     "shell.execute_reply": "2023-03-01T17:04:00.900048Z"
    },
    "papermill": {
     "duration": 2.81199,
     "end_time": "2023-03-01T17:04:00.903537",
     "exception": false,
     "start_time": "2023-03-01T17:03:58.091547",
     "status": "completed"
    },
    "tags": []
   },
   "outputs": [],
   "source": [
    "train_data, valid_data, test_data = load_data(path)"
   ]
  },
  {
   "cell_type": "code",
   "execution_count": 14,
   "id": "eb3fb520",
   "metadata": {
    "execution": {
     "iopub.execute_input": "2023-03-01T17:04:00.927074Z",
     "iopub.status.busy": "2023-03-01T17:04:00.925364Z",
     "iopub.status.idle": "2023-03-01T17:04:00.940132Z",
     "shell.execute_reply": "2023-03-01T17:04:00.933875Z"
    },
    "papermill": {
     "duration": 0.031124,
     "end_time": "2023-03-01T17:04:00.944628",
     "exception": false,
     "start_time": "2023-03-01T17:04:00.913504",
     "status": "completed"
    },
    "tags": []
   },
   "outputs": [
    {
     "name": "stdout",
     "output_type": "stream",
     "text": [
      "train data: 8232\n",
      "test data: 6174\n",
      "valid data: 6174\n"
     ]
    }
   ],
   "source": [
    "print(f'train data: {len(train_data)}')\n",
    "print(f'test data: {len(test_data)}')\n",
    "print(f'valid data: {len(valid_data)}')"
   ]
  },
  {
   "cell_type": "code",
   "execution_count": 15,
   "id": "95a04e9e",
   "metadata": {
    "execution": {
     "iopub.execute_input": "2023-03-01T17:04:00.993822Z",
     "iopub.status.busy": "2023-03-01T17:04:00.993031Z",
     "iopub.status.idle": "2023-03-01T17:04:01.004216Z",
     "shell.execute_reply": "2023-03-01T17:04:01.003241Z"
    },
    "papermill": {
     "duration": 0.038087,
     "end_time": "2023-03-01T17:04:01.006262",
     "exception": false,
     "start_time": "2023-03-01T17:04:00.968175",
     "status": "completed"
    },
    "tags": []
   },
   "outputs": [
    {
     "data": {
      "text/plain": [
       "'/kaggle/input/120-dog-breeds-breed-classification/Images/n02105855-Shetland_sheepdog/n02105855_7410.jpg'"
      ]
     },
     "execution_count": 15,
     "metadata": {},
     "output_type": "execute_result"
    }
   ],
   "source": [
    "train_data[0]"
   ]
  },
  {
   "cell_type": "code",
   "execution_count": 16,
   "id": "aaa09965",
   "metadata": {
    "execution": {
     "iopub.execute_input": "2023-03-01T17:04:01.053789Z",
     "iopub.status.busy": "2023-03-01T17:04:01.052674Z",
     "iopub.status.idle": "2023-03-01T17:04:01.061676Z",
     "shell.execute_reply": "2023-03-01T17:04:01.060411Z"
    },
    "papermill": {
     "duration": 0.033997,
     "end_time": "2023-03-01T17:04:01.064465",
     "exception": false,
     "start_time": "2023-03-01T17:04:01.030468",
     "status": "completed"
    },
    "tags": []
   },
   "outputs": [],
   "source": [
    "def process_image(path):\n",
    "    #decode the path\n",
    "    path = path.decode()\n",
    "    #read image\n",
    "    image = cv2.imread(path, cv2.IMREAD_COLOR)\n",
    "    #resize the image\n",
    "    image = cv2.resize(image, [W, H])\n",
    "    #scale the image\n",
    "    image = image / 255.0\n",
    "    #change the data type of image\n",
    "    image = image.astype(np.float32)\n",
    "\n",
    "    #labeling the image\n",
    "    class_name = path.split(\"/\")[-2].split('-')[-1]\n",
    "    class_idx = labels_list.index(class_name)\n",
    "    class_idx = np.array(class_idx, dtype=np.int32)\n",
    "\n",
    "    return image, class_idx"
   ]
  },
  {
   "cell_type": "code",
   "execution_count": 17,
   "id": "e41e7f66",
   "metadata": {
    "execution": {
     "iopub.execute_input": "2023-03-01T17:04:01.094201Z",
     "iopub.status.busy": "2023-03-01T17:04:01.093821Z",
     "iopub.status.idle": "2023-03-01T17:04:01.100201Z",
     "shell.execute_reply": "2023-03-01T17:04:01.099221Z"
    },
    "papermill": {
     "duration": 0.023996,
     "end_time": "2023-03-01T17:04:01.102406",
     "exception": false,
     "start_time": "2023-03-01T17:04:01.078410",
     "status": "completed"
    },
    "tags": []
   },
   "outputs": [],
   "source": [
    "def parse(path):\n",
    "    image, labels = tf.numpy_function(process_image, [path], (tf.float32, tf.int32))\n",
    "    labels = tf.one_hot(labels, num_class)\n",
    "    image.set_shape([224, 224, 3])\n",
    "    labels.set_shape(num_class)\n",
    "  \n",
    "    return image, labels"
   ]
  },
  {
   "cell_type": "code",
   "execution_count": 18,
   "id": "344562bf",
   "metadata": {
    "execution": {
     "iopub.execute_input": "2023-03-01T17:04:01.132723Z",
     "iopub.status.busy": "2023-03-01T17:04:01.132392Z",
     "iopub.status.idle": "2023-03-01T17:04:01.138300Z",
     "shell.execute_reply": "2023-03-01T17:04:01.137370Z"
    },
    "papermill": {
     "duration": 0.02345,
     "end_time": "2023-03-01T17:04:01.140473",
     "exception": false,
     "start_time": "2023-03-01T17:04:01.117023",
     "status": "completed"
    },
    "tags": []
   },
   "outputs": [],
   "source": [
    "#tensorflow dataset\n",
    "def tf_dataset(images, batch=64):\n",
    "    dataset = tf.data.Dataset.from_tensor_slices((images))\n",
    "    dataset = dataset.map(parse)\n",
    "    dataset = dataset.batch(batch_size)\n",
    "    dataset = dataset.prefetch(64)\n",
    "    return dataset"
   ]
  },
  {
   "cell_type": "markdown",
   "id": "7ed91ddb",
   "metadata": {
    "papermill": {
     "duration": 0.014952,
     "end_time": "2023-03-01T17:04:01.170294",
     "exception": false,
     "start_time": "2023-03-01T17:04:01.155342",
     "status": "completed"
    },
    "tags": []
   },
   "source": [
    "# Model 1 - VGG16"
   ]
  },
  {
   "cell_type": "code",
   "execution_count": 19,
   "id": "08bf4717",
   "metadata": {
    "execution": {
     "iopub.execute_input": "2023-03-01T17:04:01.201749Z",
     "iopub.status.busy": "2023-03-01T17:04:01.201337Z",
     "iopub.status.idle": "2023-03-01T17:04:06.258842Z",
     "shell.execute_reply": "2023-03-01T17:04:06.257754Z"
    },
    "papermill": {
     "duration": 5.07576,
     "end_time": "2023-03-01T17:04:06.261524",
     "exception": false,
     "start_time": "2023-03-01T17:04:01.185764",
     "status": "completed"
    },
    "tags": []
   },
   "outputs": [
    {
     "name": "stdout",
     "output_type": "stream",
     "text": [
      "Downloading data from https://storage.googleapis.com/tensorflow/keras-applications/vgg16/vgg16_weights_tf_dim_ordering_tf_kernels_notop.h5\n",
      "58889256/58889256 [==============================] - 0s 0us/step\n"
     ]
    }
   ],
   "source": [
    "vgg = VGG16(input_shape=IMAGE_SIZE + [3], weights='imagenet', include_top=False)"
   ]
  },
  {
   "cell_type": "code",
   "execution_count": 20,
   "id": "500cf916",
   "metadata": {
    "execution": {
     "iopub.execute_input": "2023-03-01T17:04:06.285953Z",
     "iopub.status.busy": "2023-03-01T17:04:06.285068Z",
     "iopub.status.idle": "2023-03-01T17:04:06.290544Z",
     "shell.execute_reply": "2023-03-01T17:04:06.289748Z"
    },
    "papermill": {
     "duration": 0.019758,
     "end_time": "2023-03-01T17:04:06.292695",
     "exception": false,
     "start_time": "2023-03-01T17:04:06.272937",
     "status": "completed"
    },
    "tags": []
   },
   "outputs": [],
   "source": [
    "#freeze training existing layer\n",
    "for layer in vgg.layers:\n",
    "  layer.trainable = False"
   ]
  },
  {
   "cell_type": "code",
   "execution_count": 21,
   "id": "87f397f7",
   "metadata": {
    "execution": {
     "iopub.execute_input": "2023-03-01T17:04:06.315196Z",
     "iopub.status.busy": "2023-03-01T17:04:06.314509Z",
     "iopub.status.idle": "2023-03-01T17:04:06.325645Z",
     "shell.execute_reply": "2023-03-01T17:04:06.324740Z"
    },
    "papermill": {
     "duration": 0.024417,
     "end_time": "2023-03-01T17:04:06.327595",
     "exception": false,
     "start_time": "2023-03-01T17:04:06.303178",
     "status": "completed"
    },
    "tags": []
   },
   "outputs": [],
   "source": [
    "#build our layers\n",
    "x = Flatten()(vgg.output)"
   ]
  },
  {
   "cell_type": "code",
   "execution_count": 22,
   "id": "2689b0b2",
   "metadata": {
    "execution": {
     "iopub.execute_input": "2023-03-01T17:04:06.350028Z",
     "iopub.status.busy": "2023-03-01T17:04:06.349294Z",
     "iopub.status.idle": "2023-03-01T17:04:06.365113Z",
     "shell.execute_reply": "2023-03-01T17:04:06.364163Z"
    },
    "papermill": {
     "duration": 0.029045,
     "end_time": "2023-03-01T17:04:06.367148",
     "exception": false,
     "start_time": "2023-03-01T17:04:06.338103",
     "status": "completed"
    },
    "tags": []
   },
   "outputs": [],
   "source": [
    "#set last layer\n",
    "prediction_layer = Dense(num_classes, activation='softmax' )(x)\n",
    "#declare the model\n",
    "model = Model(inputs=vgg.input, outputs=prediction_layer)"
   ]
  },
  {
   "cell_type": "code",
   "execution_count": 23,
   "id": "7b377555",
   "metadata": {
    "execution": {
     "iopub.execute_input": "2023-03-01T17:04:06.390496Z",
     "iopub.status.busy": "2023-03-01T17:04:06.388847Z",
     "iopub.status.idle": "2023-03-01T17:04:06.436474Z",
     "shell.execute_reply": "2023-03-01T17:04:06.435616Z"
    },
    "papermill": {
     "duration": 0.094832,
     "end_time": "2023-03-01T17:04:06.472202",
     "exception": false,
     "start_time": "2023-03-01T17:04:06.377370",
     "status": "completed"
    },
    "tags": []
   },
   "outputs": [
    {
     "name": "stdout",
     "output_type": "stream",
     "text": [
      "Model: \"model\"\n",
      "_________________________________________________________________\n",
      " Layer (type)                Output Shape              Param #   \n",
      "=================================================================\n",
      " input_1 (InputLayer)        [(None, 224, 224, 3)]     0         \n",
      "                                                                 \n",
      " block1_conv1 (Conv2D)       (None, 224, 224, 64)      1792      \n",
      "                                                                 \n",
      " block1_conv2 (Conv2D)       (None, 224, 224, 64)      36928     \n",
      "                                                                 \n",
      " block1_pool (MaxPooling2D)  (None, 112, 112, 64)      0         \n",
      "                                                                 \n",
      " block2_conv1 (Conv2D)       (None, 112, 112, 128)     73856     \n",
      "                                                                 \n",
      " block2_conv2 (Conv2D)       (None, 112, 112, 128)     147584    \n",
      "                                                                 \n",
      " block2_pool (MaxPooling2D)  (None, 56, 56, 128)       0         \n",
      "                                                                 \n",
      " block3_conv1 (Conv2D)       (None, 56, 56, 256)       295168    \n",
      "                                                                 \n",
      " block3_conv2 (Conv2D)       (None, 56, 56, 256)       590080    \n",
      "                                                                 \n",
      " block3_conv3 (Conv2D)       (None, 56, 56, 256)       590080    \n",
      "                                                                 \n",
      " block3_pool (MaxPooling2D)  (None, 28, 28, 256)       0         \n",
      "                                                                 \n",
      " block4_conv1 (Conv2D)       (None, 28, 28, 512)       1180160   \n",
      "                                                                 \n",
      " block4_conv2 (Conv2D)       (None, 28, 28, 512)       2359808   \n",
      "                                                                 \n",
      " block4_conv3 (Conv2D)       (None, 28, 28, 512)       2359808   \n",
      "                                                                 \n",
      " block4_pool (MaxPooling2D)  (None, 14, 14, 512)       0         \n",
      "                                                                 \n",
      " block5_conv1 (Conv2D)       (None, 14, 14, 512)       2359808   \n",
      "                                                                 \n",
      " block5_conv2 (Conv2D)       (None, 14, 14, 512)       2359808   \n",
      "                                                                 \n",
      " block5_conv3 (Conv2D)       (None, 14, 14, 512)       2359808   \n",
      "                                                                 \n",
      " block5_pool (MaxPooling2D)  (None, 7, 7, 512)         0         \n",
      "                                                                 \n",
      " flatten (Flatten)           (None, 25088)             0         \n",
      "                                                                 \n",
      " dense (Dense)               (None, 120)               3010680   \n",
      "                                                                 \n",
      "=================================================================\n",
      "Total params: 17,725,368\n",
      "Trainable params: 3,010,680\n",
      "Non-trainable params: 14,714,688\n",
      "_________________________________________________________________\n"
     ]
    }
   ],
   "source": [
    "model.summary()"
   ]
  },
  {
   "cell_type": "markdown",
   "id": "54a841c0",
   "metadata": {
    "papermill": {
     "duration": 0.012909,
     "end_time": "2023-03-01T17:04:06.498430",
     "exception": false,
     "start_time": "2023-03-01T17:04:06.485521",
     "status": "completed"
    },
    "tags": []
   },
   "source": [
    "# Model II - Inception V3"
   ]
  },
  {
   "cell_type": "code",
   "execution_count": 24,
   "id": "07b721a6",
   "metadata": {
    "execution": {
     "iopub.execute_input": "2023-03-01T17:04:06.526256Z",
     "iopub.status.busy": "2023-03-01T17:04:06.525935Z",
     "iopub.status.idle": "2023-03-01T17:04:09.781632Z",
     "shell.execute_reply": "2023-03-01T17:04:09.780590Z"
    },
    "papermill": {
     "duration": 3.272703,
     "end_time": "2023-03-01T17:04:09.784253",
     "exception": false,
     "start_time": "2023-03-01T17:04:06.511550",
     "status": "completed"
    },
    "tags": []
   },
   "outputs": [
    {
     "name": "stdout",
     "output_type": "stream",
     "text": [
      "Downloading data from https://storage.googleapis.com/tensorflow/keras-applications/inception_v3/inception_v3_weights_tf_dim_ordering_tf_kernels_notop.h5\n",
      "87910968/87910968 [==============================] - 0s 0us/step\n"
     ]
    }
   ],
   "source": [
    "model_I = InceptionV3( include_top=False,\n",
    "    weights='imagenet',\n",
    "    input_shape=IMAGE_SIZE + [3],\n",
    "    classes=num_classes,\n",
    "    classifier_activation='softmax'\n",
    ")"
   ]
  },
  {
   "cell_type": "code",
   "execution_count": 25,
   "id": "9cbd6c12",
   "metadata": {
    "execution": {
     "iopub.execute_input": "2023-03-01T17:04:09.815198Z",
     "iopub.status.busy": "2023-03-01T17:04:09.813456Z",
     "iopub.status.idle": "2023-03-01T17:04:09.827877Z",
     "shell.execute_reply": "2023-03-01T17:04:09.826943Z"
    },
    "papermill": {
     "duration": 0.031223,
     "end_time": "2023-03-01T17:04:09.829967",
     "exception": false,
     "start_time": "2023-03-01T17:04:09.798744",
     "status": "completed"
    },
    "tags": []
   },
   "outputs": [],
   "source": [
    "#freeze training existing layer\n",
    "for layer in model_I.layers:\n",
    "  layer.trainable = False"
   ]
  },
  {
   "cell_type": "code",
   "execution_count": 26,
   "id": "ef1ac7f6",
   "metadata": {
    "execution": {
     "iopub.execute_input": "2023-03-01T17:04:09.858717Z",
     "iopub.status.busy": "2023-03-01T17:04:09.858434Z",
     "iopub.status.idle": "2023-03-01T17:04:09.870481Z",
     "shell.execute_reply": "2023-03-01T17:04:09.869611Z"
    },
    "papermill": {
     "duration": 0.028771,
     "end_time": "2023-03-01T17:04:09.872550",
     "exception": false,
     "start_time": "2023-03-01T17:04:09.843779",
     "status": "completed"
    },
    "tags": []
   },
   "outputs": [],
   "source": [
    "#build our layers\n",
    "x = Flatten()(model_I.output)\n",
    "x = Dropout(0.5)(x)"
   ]
  },
  {
   "cell_type": "code",
   "execution_count": 27,
   "id": "e22c634e",
   "metadata": {
    "execution": {
     "iopub.execute_input": "2023-03-01T17:04:09.901597Z",
     "iopub.status.busy": "2023-03-01T17:04:09.901327Z",
     "iopub.status.idle": "2023-03-01T17:04:09.930706Z",
     "shell.execute_reply": "2023-03-01T17:04:09.929895Z"
    },
    "papermill": {
     "duration": 0.04597,
     "end_time": "2023-03-01T17:04:09.932592",
     "exception": false,
     "start_time": "2023-03-01T17:04:09.886622",
     "status": "completed"
    },
    "tags": []
   },
   "outputs": [],
   "source": [
    "#set last layer\n",
    "prediction_layer = Dense(num_classes, activation='softmax' )(x)\n",
    "#declare the model\n",
    "model = Model(inputs=model_I.input, outputs=prediction_layer)"
   ]
  },
  {
   "cell_type": "code",
   "execution_count": 28,
   "id": "417d664e",
   "metadata": {
    "execution": {
     "iopub.execute_input": "2023-03-01T17:04:09.960354Z",
     "iopub.status.busy": "2023-03-01T17:04:09.960084Z",
     "iopub.status.idle": "2023-03-01T17:04:09.964348Z",
     "shell.execute_reply": "2023-03-01T17:04:09.963059Z"
    },
    "papermill": {
     "duration": 0.020542,
     "end_time": "2023-03-01T17:04:09.966455",
     "exception": false,
     "start_time": "2023-03-01T17:04:09.945913",
     "status": "completed"
    },
    "tags": []
   },
   "outputs": [],
   "source": [
    "model_path = \"/kaggle/working/dog-breed-inceptionV3.h5\"\n",
    "csv_path = \"/kaggle/working/dog-breed.csv\""
   ]
  },
  {
   "cell_type": "code",
   "execution_count": 29,
   "id": "84875712",
   "metadata": {
    "execution": {
     "iopub.execute_input": "2023-03-01T17:04:09.993707Z",
     "iopub.status.busy": "2023-03-01T17:04:09.993433Z",
     "iopub.status.idle": "2023-03-01T17:04:09.998373Z",
     "shell.execute_reply": "2023-03-01T17:04:09.997369Z"
    },
    "papermill": {
     "duration": 0.021303,
     "end_time": "2023-03-01T17:04:10.000635",
     "exception": false,
     "start_time": "2023-03-01T17:04:09.979332",
     "status": "completed"
    },
    "tags": []
   },
   "outputs": [],
   "source": [
    "#initalize callbacks\n",
    "callbacks = [\n",
    "    ModelCheckpoint(model_path, verbose=1, save_best_only=True),\n",
    "    CSVLogger(csv_path),\n",
    "    ReduceLROnPlateau(monitor='val_accuracy', factor=0.1, patience=5, min_lr=1e-8, verbose=1)\n",
    "]"
   ]
  },
  {
   "cell_type": "code",
   "execution_count": 30,
   "id": "5716235f",
   "metadata": {
    "execution": {
     "iopub.execute_input": "2023-03-01T17:04:10.029199Z",
     "iopub.status.busy": "2023-03-01T17:04:10.028891Z",
     "iopub.status.idle": "2023-03-01T17:04:10.046098Z",
     "shell.execute_reply": "2023-03-01T17:04:10.045158Z"
    },
    "papermill": {
     "duration": 0.034165,
     "end_time": "2023-03-01T17:04:10.048168",
     "exception": false,
     "start_time": "2023-03-01T17:04:10.014003",
     "status": "completed"
    },
    "tags": []
   },
   "outputs": [],
   "source": [
    "model.compile(optimizer='adam', loss='categorical_crossentropy', metrics=['accuracy'])"
   ]
  },
  {
   "cell_type": "code",
   "execution_count": 31,
   "id": "696a4698",
   "metadata": {
    "execution": {
     "iopub.execute_input": "2023-03-01T17:04:10.077048Z",
     "iopub.status.busy": "2023-03-01T17:04:10.076765Z",
     "iopub.status.idle": "2023-03-01T17:04:10.762191Z",
     "shell.execute_reply": "2023-03-01T17:04:10.761170Z"
    },
    "papermill": {
     "duration": 1.231329,
     "end_time": "2023-03-01T17:04:11.293201",
     "exception": false,
     "start_time": "2023-03-01T17:04:10.061872",
     "status": "completed"
    },
    "tags": []
   },
   "outputs": [
    {
     "name": "stdout",
     "output_type": "stream",
     "text": [
      "Model: \"model_1\"\n",
      "__________________________________________________________________________________________________\n",
      " Layer (type)                   Output Shape         Param #     Connected to                     \n",
      "==================================================================================================\n",
      " input_2 (InputLayer)           [(None, 224, 224, 3  0           []                               \n",
      "                                )]                                                                \n",
      "                                                                                                  \n",
      " conv2d (Conv2D)                (None, 111, 111, 32  864         ['input_2[0][0]']                \n",
      "                                )                                                                 \n",
      "                                                                                                  \n",
      " batch_normalization (BatchNorm  (None, 111, 111, 32  96         ['conv2d[0][0]']                 \n",
      " alization)                     )                                                                 \n",
      "                                                                                                  \n",
      " activation (Activation)        (None, 111, 111, 32  0           ['batch_normalization[0][0]']    \n",
      "                                )                                                                 \n",
      "                                                                                                  \n",
      " conv2d_1 (Conv2D)              (None, 109, 109, 32  9216        ['activation[0][0]']             \n",
      "                                )                                                                 \n",
      "                                                                                                  \n",
      " batch_normalization_1 (BatchNo  (None, 109, 109, 32  96         ['conv2d_1[0][0]']               \n",
      " rmalization)                   )                                                                 \n",
      "                                                                                                  \n",
      " activation_1 (Activation)      (None, 109, 109, 32  0           ['batch_normalization_1[0][0]']  \n",
      "                                )                                                                 \n",
      "                                                                                                  \n",
      " conv2d_2 (Conv2D)              (None, 109, 109, 64  18432       ['activation_1[0][0]']           \n",
      "                                )                                                                 \n",
      "                                                                                                  \n",
      " batch_normalization_2 (BatchNo  (None, 109, 109, 64  192        ['conv2d_2[0][0]']               \n",
      " rmalization)                   )                                                                 \n",
      "                                                                                                  \n",
      " activation_2 (Activation)      (None, 109, 109, 64  0           ['batch_normalization_2[0][0]']  \n",
      "                                )                                                                 \n",
      "                                                                                                  \n",
      " max_pooling2d (MaxPooling2D)   (None, 54, 54, 64)   0           ['activation_2[0][0]']           \n",
      "                                                                                                  \n",
      " conv2d_3 (Conv2D)              (None, 54, 54, 80)   5120        ['max_pooling2d[0][0]']          \n",
      "                                                                                                  \n",
      " batch_normalization_3 (BatchNo  (None, 54, 54, 80)  240         ['conv2d_3[0][0]']               \n",
      " rmalization)                                                                                     \n",
      "                                                                                                  \n",
      " activation_3 (Activation)      (None, 54, 54, 80)   0           ['batch_normalization_3[0][0]']  \n",
      "                                                                                                  \n",
      " conv2d_4 (Conv2D)              (None, 52, 52, 192)  138240      ['activation_3[0][0]']           \n",
      "                                                                                                  \n",
      " batch_normalization_4 (BatchNo  (None, 52, 52, 192)  576        ['conv2d_4[0][0]']               \n",
      " rmalization)                                                                                     \n",
      "                                                                                                  \n",
      " activation_4 (Activation)      (None, 52, 52, 192)  0           ['batch_normalization_4[0][0]']  \n",
      "                                                                                                  \n",
      " max_pooling2d_1 (MaxPooling2D)  (None, 25, 25, 192)  0          ['activation_4[0][0]']           \n",
      "                                                                                                  \n",
      " conv2d_8 (Conv2D)              (None, 25, 25, 64)   12288       ['max_pooling2d_1[0][0]']        \n",
      "                                                                                                  \n",
      " batch_normalization_8 (BatchNo  (None, 25, 25, 64)  192         ['conv2d_8[0][0]']               \n",
      " rmalization)                                                                                     \n",
      "                                                                                                  \n",
      " activation_8 (Activation)      (None, 25, 25, 64)   0           ['batch_normalization_8[0][0]']  \n",
      "                                                                                                  \n",
      " conv2d_6 (Conv2D)              (None, 25, 25, 48)   9216        ['max_pooling2d_1[0][0]']        \n",
      "                                                                                                  \n",
      " conv2d_9 (Conv2D)              (None, 25, 25, 96)   55296       ['activation_8[0][0]']           \n",
      "                                                                                                  \n",
      " batch_normalization_6 (BatchNo  (None, 25, 25, 48)  144         ['conv2d_6[0][0]']               \n",
      " rmalization)                                                                                     \n",
      "                                                                                                  \n",
      " batch_normalization_9 (BatchNo  (None, 25, 25, 96)  288         ['conv2d_9[0][0]']               \n",
      " rmalization)                                                                                     \n",
      "                                                                                                  \n",
      " activation_6 (Activation)      (None, 25, 25, 48)   0           ['batch_normalization_6[0][0]']  \n",
      "                                                                                                  \n",
      " activation_9 (Activation)      (None, 25, 25, 96)   0           ['batch_normalization_9[0][0]']  \n",
      "                                                                                                  \n",
      " average_pooling2d (AveragePool  (None, 25, 25, 192)  0          ['max_pooling2d_1[0][0]']        \n",
      " ing2D)                                                                                           \n",
      "                                                                                                  \n",
      " conv2d_5 (Conv2D)              (None, 25, 25, 64)   12288       ['max_pooling2d_1[0][0]']        \n",
      "                                                                                                  \n",
      " conv2d_7 (Conv2D)              (None, 25, 25, 64)   76800       ['activation_6[0][0]']           \n",
      "                                                                                                  \n",
      " conv2d_10 (Conv2D)             (None, 25, 25, 96)   82944       ['activation_9[0][0]']           \n",
      "                                                                                                  \n",
      " conv2d_11 (Conv2D)             (None, 25, 25, 32)   6144        ['average_pooling2d[0][0]']      \n",
      "                                                                                                  \n",
      " batch_normalization_5 (BatchNo  (None, 25, 25, 64)  192         ['conv2d_5[0][0]']               \n",
      " rmalization)                                                                                     \n",
      "                                                                                                  \n",
      " batch_normalization_7 (BatchNo  (None, 25, 25, 64)  192         ['conv2d_7[0][0]']               \n",
      " rmalization)                                                                                     \n",
      "                                                                                                  \n",
      " batch_normalization_10 (BatchN  (None, 25, 25, 96)  288         ['conv2d_10[0][0]']              \n",
      " ormalization)                                                                                    \n",
      "                                                                                                  \n",
      " batch_normalization_11 (BatchN  (None, 25, 25, 32)  96          ['conv2d_11[0][0]']              \n",
      " ormalization)                                                                                    \n",
      "                                                                                                  \n",
      " activation_5 (Activation)      (None, 25, 25, 64)   0           ['batch_normalization_5[0][0]']  \n",
      "                                                                                                  \n",
      " activation_7 (Activation)      (None, 25, 25, 64)   0           ['batch_normalization_7[0][0]']  \n",
      "                                                                                                  \n",
      " activation_10 (Activation)     (None, 25, 25, 96)   0           ['batch_normalization_10[0][0]'] \n",
      "                                                                                                  \n",
      " activation_11 (Activation)     (None, 25, 25, 32)   0           ['batch_normalization_11[0][0]'] \n",
      "                                                                                                  \n",
      " mixed0 (Concatenate)           (None, 25, 25, 256)  0           ['activation_5[0][0]',           \n",
      "                                                                  'activation_7[0][0]',           \n",
      "                                                                  'activation_10[0][0]',          \n",
      "                                                                  'activation_11[0][0]']          \n",
      "                                                                                                  \n",
      " conv2d_15 (Conv2D)             (None, 25, 25, 64)   16384       ['mixed0[0][0]']                 \n",
      "                                                                                                  \n",
      " batch_normalization_15 (BatchN  (None, 25, 25, 64)  192         ['conv2d_15[0][0]']              \n",
      " ormalization)                                                                                    \n",
      "                                                                                                  \n",
      " activation_15 (Activation)     (None, 25, 25, 64)   0           ['batch_normalization_15[0][0]'] \n",
      "                                                                                                  \n",
      " conv2d_13 (Conv2D)             (None, 25, 25, 48)   12288       ['mixed0[0][0]']                 \n",
      "                                                                                                  \n",
      " conv2d_16 (Conv2D)             (None, 25, 25, 96)   55296       ['activation_15[0][0]']          \n",
      "                                                                                                  \n",
      " batch_normalization_13 (BatchN  (None, 25, 25, 48)  144         ['conv2d_13[0][0]']              \n",
      " ormalization)                                                                                    \n",
      "                                                                                                  \n",
      " batch_normalization_16 (BatchN  (None, 25, 25, 96)  288         ['conv2d_16[0][0]']              \n",
      " ormalization)                                                                                    \n",
      "                                                                                                  \n",
      " activation_13 (Activation)     (None, 25, 25, 48)   0           ['batch_normalization_13[0][0]'] \n",
      "                                                                                                  \n",
      " activation_16 (Activation)     (None, 25, 25, 96)   0           ['batch_normalization_16[0][0]'] \n",
      "                                                                                                  \n",
      " average_pooling2d_1 (AveragePo  (None, 25, 25, 256)  0          ['mixed0[0][0]']                 \n",
      " oling2D)                                                                                         \n",
      "                                                                                                  \n",
      " conv2d_12 (Conv2D)             (None, 25, 25, 64)   16384       ['mixed0[0][0]']                 \n",
      "                                                                                                  \n",
      " conv2d_14 (Conv2D)             (None, 25, 25, 64)   76800       ['activation_13[0][0]']          \n",
      "                                                                                                  \n",
      " conv2d_17 (Conv2D)             (None, 25, 25, 96)   82944       ['activation_16[0][0]']          \n",
      "                                                                                                  \n",
      " conv2d_18 (Conv2D)             (None, 25, 25, 64)   16384       ['average_pooling2d_1[0][0]']    \n",
      "                                                                                                  \n",
      " batch_normalization_12 (BatchN  (None, 25, 25, 64)  192         ['conv2d_12[0][0]']              \n",
      " ormalization)                                                                                    \n",
      "                                                                                                  \n",
      " batch_normalization_14 (BatchN  (None, 25, 25, 64)  192         ['conv2d_14[0][0]']              \n",
      " ormalization)                                                                                    \n",
      "                                                                                                  \n",
      " batch_normalization_17 (BatchN  (None, 25, 25, 96)  288         ['conv2d_17[0][0]']              \n",
      " ormalization)                                                                                    \n",
      "                                                                                                  \n",
      " batch_normalization_18 (BatchN  (None, 25, 25, 64)  192         ['conv2d_18[0][0]']              \n",
      " ormalization)                                                                                    \n",
      "                                                                                                  \n",
      " activation_12 (Activation)     (None, 25, 25, 64)   0           ['batch_normalization_12[0][0]'] \n",
      "                                                                                                  \n",
      " activation_14 (Activation)     (None, 25, 25, 64)   0           ['batch_normalization_14[0][0]'] \n",
      "                                                                                                  \n",
      " activation_17 (Activation)     (None, 25, 25, 96)   0           ['batch_normalization_17[0][0]'] \n",
      "                                                                                                  \n",
      " activation_18 (Activation)     (None, 25, 25, 64)   0           ['batch_normalization_18[0][0]'] \n",
      "                                                                                                  \n",
      " mixed1 (Concatenate)           (None, 25, 25, 288)  0           ['activation_12[0][0]',          \n",
      "                                                                  'activation_14[0][0]',          \n",
      "                                                                  'activation_17[0][0]',          \n",
      "                                                                  'activation_18[0][0]']          \n",
      "                                                                                                  \n",
      " conv2d_22 (Conv2D)             (None, 25, 25, 64)   18432       ['mixed1[0][0]']                 \n",
      "                                                                                                  \n",
      " batch_normalization_22 (BatchN  (None, 25, 25, 64)  192         ['conv2d_22[0][0]']              \n",
      " ormalization)                                                                                    \n",
      "                                                                                                  \n",
      " activation_22 (Activation)     (None, 25, 25, 64)   0           ['batch_normalization_22[0][0]'] \n",
      "                                                                                                  \n",
      " conv2d_20 (Conv2D)             (None, 25, 25, 48)   13824       ['mixed1[0][0]']                 \n",
      "                                                                                                  \n",
      " conv2d_23 (Conv2D)             (None, 25, 25, 96)   55296       ['activation_22[0][0]']          \n",
      "                                                                                                  \n",
      " batch_normalization_20 (BatchN  (None, 25, 25, 48)  144         ['conv2d_20[0][0]']              \n",
      " ormalization)                                                                                    \n",
      "                                                                                                  \n",
      " batch_normalization_23 (BatchN  (None, 25, 25, 96)  288         ['conv2d_23[0][0]']              \n",
      " ormalization)                                                                                    \n",
      "                                                                                                  \n",
      " activation_20 (Activation)     (None, 25, 25, 48)   0           ['batch_normalization_20[0][0]'] \n",
      "                                                                                                  \n",
      " activation_23 (Activation)     (None, 25, 25, 96)   0           ['batch_normalization_23[0][0]'] \n",
      "                                                                                                  \n",
      " average_pooling2d_2 (AveragePo  (None, 25, 25, 288)  0          ['mixed1[0][0]']                 \n",
      " oling2D)                                                                                         \n",
      "                                                                                                  \n",
      " conv2d_19 (Conv2D)             (None, 25, 25, 64)   18432       ['mixed1[0][0]']                 \n",
      "                                                                                                  \n",
      " conv2d_21 (Conv2D)             (None, 25, 25, 64)   76800       ['activation_20[0][0]']          \n",
      "                                                                                                  \n",
      " conv2d_24 (Conv2D)             (None, 25, 25, 96)   82944       ['activation_23[0][0]']          \n",
      "                                                                                                  \n",
      " conv2d_25 (Conv2D)             (None, 25, 25, 64)   18432       ['average_pooling2d_2[0][0]']    \n",
      "                                                                                                  \n",
      " batch_normalization_19 (BatchN  (None, 25, 25, 64)  192         ['conv2d_19[0][0]']              \n",
      " ormalization)                                                                                    \n",
      "                                                                                                  \n",
      " batch_normalization_21 (BatchN  (None, 25, 25, 64)  192         ['conv2d_21[0][0]']              \n",
      " ormalization)                                                                                    \n",
      "                                                                                                  \n",
      " batch_normalization_24 (BatchN  (None, 25, 25, 96)  288         ['conv2d_24[0][0]']              \n",
      " ormalization)                                                                                    \n",
      "                                                                                                  \n",
      " batch_normalization_25 (BatchN  (None, 25, 25, 64)  192         ['conv2d_25[0][0]']              \n",
      " ormalization)                                                                                    \n",
      "                                                                                                  \n",
      " activation_19 (Activation)     (None, 25, 25, 64)   0           ['batch_normalization_19[0][0]'] \n",
      "                                                                                                  \n",
      " activation_21 (Activation)     (None, 25, 25, 64)   0           ['batch_normalization_21[0][0]'] \n",
      "                                                                                                  \n",
      " activation_24 (Activation)     (None, 25, 25, 96)   0           ['batch_normalization_24[0][0]'] \n",
      "                                                                                                  \n",
      " activation_25 (Activation)     (None, 25, 25, 64)   0           ['batch_normalization_25[0][0]'] \n",
      "                                                                                                  \n",
      " mixed2 (Concatenate)           (None, 25, 25, 288)  0           ['activation_19[0][0]',          \n",
      "                                                                  'activation_21[0][0]',          \n",
      "                                                                  'activation_24[0][0]',          \n",
      "                                                                  'activation_25[0][0]']          \n",
      "                                                                                                  \n",
      " conv2d_27 (Conv2D)             (None, 25, 25, 64)   18432       ['mixed2[0][0]']                 \n",
      "                                                                                                  \n",
      " batch_normalization_27 (BatchN  (None, 25, 25, 64)  192         ['conv2d_27[0][0]']              \n",
      " ormalization)                                                                                    \n",
      "                                                                                                  \n",
      " activation_27 (Activation)     (None, 25, 25, 64)   0           ['batch_normalization_27[0][0]'] \n",
      "                                                                                                  \n",
      " conv2d_28 (Conv2D)             (None, 25, 25, 96)   55296       ['activation_27[0][0]']          \n",
      "                                                                                                  \n",
      " batch_normalization_28 (BatchN  (None, 25, 25, 96)  288         ['conv2d_28[0][0]']              \n",
      " ormalization)                                                                                    \n",
      "                                                                                                  \n",
      " activation_28 (Activation)     (None, 25, 25, 96)   0           ['batch_normalization_28[0][0]'] \n",
      "                                                                                                  \n",
      " conv2d_26 (Conv2D)             (None, 12, 12, 384)  995328      ['mixed2[0][0]']                 \n",
      "                                                                                                  \n",
      " conv2d_29 (Conv2D)             (None, 12, 12, 96)   82944       ['activation_28[0][0]']          \n",
      "                                                                                                  \n",
      " batch_normalization_26 (BatchN  (None, 12, 12, 384)  1152       ['conv2d_26[0][0]']              \n",
      " ormalization)                                                                                    \n",
      "                                                                                                  \n",
      " batch_normalization_29 (BatchN  (None, 12, 12, 96)  288         ['conv2d_29[0][0]']              \n",
      " ormalization)                                                                                    \n",
      "                                                                                                  \n",
      " activation_26 (Activation)     (None, 12, 12, 384)  0           ['batch_normalization_26[0][0]'] \n",
      "                                                                                                  \n",
      " activation_29 (Activation)     (None, 12, 12, 96)   0           ['batch_normalization_29[0][0]'] \n",
      "                                                                                                  \n",
      " max_pooling2d_2 (MaxPooling2D)  (None, 12, 12, 288)  0          ['mixed2[0][0]']                 \n",
      "                                                                                                  \n",
      " mixed3 (Concatenate)           (None, 12, 12, 768)  0           ['activation_26[0][0]',          \n",
      "                                                                  'activation_29[0][0]',          \n",
      "                                                                  'max_pooling2d_2[0][0]']        \n",
      "                                                                                                  \n",
      " conv2d_34 (Conv2D)             (None, 12, 12, 128)  98304       ['mixed3[0][0]']                 \n",
      "                                                                                                  \n",
      " batch_normalization_34 (BatchN  (None, 12, 12, 128)  384        ['conv2d_34[0][0]']              \n",
      " ormalization)                                                                                    \n",
      "                                                                                                  \n",
      " activation_34 (Activation)     (None, 12, 12, 128)  0           ['batch_normalization_34[0][0]'] \n",
      "                                                                                                  \n",
      " conv2d_35 (Conv2D)             (None, 12, 12, 128)  114688      ['activation_34[0][0]']          \n",
      "                                                                                                  \n",
      " batch_normalization_35 (BatchN  (None, 12, 12, 128)  384        ['conv2d_35[0][0]']              \n",
      " ormalization)                                                                                    \n",
      "                                                                                                  \n",
      " activation_35 (Activation)     (None, 12, 12, 128)  0           ['batch_normalization_35[0][0]'] \n",
      "                                                                                                  \n",
      " conv2d_31 (Conv2D)             (None, 12, 12, 128)  98304       ['mixed3[0][0]']                 \n",
      "                                                                                                  \n",
      " conv2d_36 (Conv2D)             (None, 12, 12, 128)  114688      ['activation_35[0][0]']          \n",
      "                                                                                                  \n",
      " batch_normalization_31 (BatchN  (None, 12, 12, 128)  384        ['conv2d_31[0][0]']              \n",
      " ormalization)                                                                                    \n",
      "                                                                                                  \n",
      " batch_normalization_36 (BatchN  (None, 12, 12, 128)  384        ['conv2d_36[0][0]']              \n",
      " ormalization)                                                                                    \n",
      "                                                                                                  \n",
      " activation_31 (Activation)     (None, 12, 12, 128)  0           ['batch_normalization_31[0][0]'] \n",
      "                                                                                                  \n",
      " activation_36 (Activation)     (None, 12, 12, 128)  0           ['batch_normalization_36[0][0]'] \n",
      "                                                                                                  \n",
      " conv2d_32 (Conv2D)             (None, 12, 12, 128)  114688      ['activation_31[0][0]']          \n",
      "                                                                                                  \n",
      " conv2d_37 (Conv2D)             (None, 12, 12, 128)  114688      ['activation_36[0][0]']          \n",
      "                                                                                                  \n",
      " batch_normalization_32 (BatchN  (None, 12, 12, 128)  384        ['conv2d_32[0][0]']              \n",
      " ormalization)                                                                                    \n",
      "                                                                                                  \n",
      " batch_normalization_37 (BatchN  (None, 12, 12, 128)  384        ['conv2d_37[0][0]']              \n",
      " ormalization)                                                                                    \n",
      "                                                                                                  \n",
      " activation_32 (Activation)     (None, 12, 12, 128)  0           ['batch_normalization_32[0][0]'] \n",
      "                                                                                                  \n",
      " activation_37 (Activation)     (None, 12, 12, 128)  0           ['batch_normalization_37[0][0]'] \n",
      "                                                                                                  \n",
      " average_pooling2d_3 (AveragePo  (None, 12, 12, 768)  0          ['mixed3[0][0]']                 \n",
      " oling2D)                                                                                         \n",
      "                                                                                                  \n",
      " conv2d_30 (Conv2D)             (None, 12, 12, 192)  147456      ['mixed3[0][0]']                 \n",
      "                                                                                                  \n",
      " conv2d_33 (Conv2D)             (None, 12, 12, 192)  172032      ['activation_32[0][0]']          \n",
      "                                                                                                  \n",
      " conv2d_38 (Conv2D)             (None, 12, 12, 192)  172032      ['activation_37[0][0]']          \n",
      "                                                                                                  \n",
      " conv2d_39 (Conv2D)             (None, 12, 12, 192)  147456      ['average_pooling2d_3[0][0]']    \n",
      "                                                                                                  \n",
      " batch_normalization_30 (BatchN  (None, 12, 12, 192)  576        ['conv2d_30[0][0]']              \n",
      " ormalization)                                                                                    \n",
      "                                                                                                  \n",
      " batch_normalization_33 (BatchN  (None, 12, 12, 192)  576        ['conv2d_33[0][0]']              \n",
      " ormalization)                                                                                    \n",
      "                                                                                                  \n",
      " batch_normalization_38 (BatchN  (None, 12, 12, 192)  576        ['conv2d_38[0][0]']              \n",
      " ormalization)                                                                                    \n",
      "                                                                                                  \n",
      " batch_normalization_39 (BatchN  (None, 12, 12, 192)  576        ['conv2d_39[0][0]']              \n",
      " ormalization)                                                                                    \n",
      "                                                                                                  \n",
      " activation_30 (Activation)     (None, 12, 12, 192)  0           ['batch_normalization_30[0][0]'] \n",
      "                                                                                                  \n",
      " activation_33 (Activation)     (None, 12, 12, 192)  0           ['batch_normalization_33[0][0]'] \n",
      "                                                                                                  \n",
      " activation_38 (Activation)     (None, 12, 12, 192)  0           ['batch_normalization_38[0][0]'] \n",
      "                                                                                                  \n",
      " activation_39 (Activation)     (None, 12, 12, 192)  0           ['batch_normalization_39[0][0]'] \n",
      "                                                                                                  \n",
      " mixed4 (Concatenate)           (None, 12, 12, 768)  0           ['activation_30[0][0]',          \n",
      "                                                                  'activation_33[0][0]',          \n",
      "                                                                  'activation_38[0][0]',          \n",
      "                                                                  'activation_39[0][0]']          \n",
      "                                                                                                  \n",
      " conv2d_44 (Conv2D)             (None, 12, 12, 160)  122880      ['mixed4[0][0]']                 \n",
      "                                                                                                  \n",
      " batch_normalization_44 (BatchN  (None, 12, 12, 160)  480        ['conv2d_44[0][0]']              \n",
      " ormalization)                                                                                    \n",
      "                                                                                                  \n",
      " activation_44 (Activation)     (None, 12, 12, 160)  0           ['batch_normalization_44[0][0]'] \n",
      "                                                                                                  \n",
      " conv2d_45 (Conv2D)             (None, 12, 12, 160)  179200      ['activation_44[0][0]']          \n",
      "                                                                                                  \n",
      " batch_normalization_45 (BatchN  (None, 12, 12, 160)  480        ['conv2d_45[0][0]']              \n",
      " ormalization)                                                                                    \n",
      "                                                                                                  \n",
      " activation_45 (Activation)     (None, 12, 12, 160)  0           ['batch_normalization_45[0][0]'] \n",
      "                                                                                                  \n",
      " conv2d_41 (Conv2D)             (None, 12, 12, 160)  122880      ['mixed4[0][0]']                 \n",
      "                                                                                                  \n",
      " conv2d_46 (Conv2D)             (None, 12, 12, 160)  179200      ['activation_45[0][0]']          \n",
      "                                                                                                  \n",
      " batch_normalization_41 (BatchN  (None, 12, 12, 160)  480        ['conv2d_41[0][0]']              \n",
      " ormalization)                                                                                    \n",
      "                                                                                                  \n",
      " batch_normalization_46 (BatchN  (None, 12, 12, 160)  480        ['conv2d_46[0][0]']              \n",
      " ormalization)                                                                                    \n",
      "                                                                                                  \n",
      " activation_41 (Activation)     (None, 12, 12, 160)  0           ['batch_normalization_41[0][0]'] \n",
      "                                                                                                  \n",
      " activation_46 (Activation)     (None, 12, 12, 160)  0           ['batch_normalization_46[0][0]'] \n",
      "                                                                                                  \n",
      " conv2d_42 (Conv2D)             (None, 12, 12, 160)  179200      ['activation_41[0][0]']          \n",
      "                                                                                                  \n",
      " conv2d_47 (Conv2D)             (None, 12, 12, 160)  179200      ['activation_46[0][0]']          \n",
      "                                                                                                  \n",
      " batch_normalization_42 (BatchN  (None, 12, 12, 160)  480        ['conv2d_42[0][0]']              \n",
      " ormalization)                                                                                    \n",
      "                                                                                                  \n",
      " batch_normalization_47 (BatchN  (None, 12, 12, 160)  480        ['conv2d_47[0][0]']              \n",
      " ormalization)                                                                                    \n",
      "                                                                                                  \n",
      " activation_42 (Activation)     (None, 12, 12, 160)  0           ['batch_normalization_42[0][0]'] \n",
      "                                                                                                  \n",
      " activation_47 (Activation)     (None, 12, 12, 160)  0           ['batch_normalization_47[0][0]'] \n",
      "                                                                                                  \n",
      " average_pooling2d_4 (AveragePo  (None, 12, 12, 768)  0          ['mixed4[0][0]']                 \n",
      " oling2D)                                                                                         \n",
      "                                                                                                  \n",
      " conv2d_40 (Conv2D)             (None, 12, 12, 192)  147456      ['mixed4[0][0]']                 \n",
      "                                                                                                  \n",
      " conv2d_43 (Conv2D)             (None, 12, 12, 192)  215040      ['activation_42[0][0]']          \n",
      "                                                                                                  \n",
      " conv2d_48 (Conv2D)             (None, 12, 12, 192)  215040      ['activation_47[0][0]']          \n",
      "                                                                                                  \n",
      " conv2d_49 (Conv2D)             (None, 12, 12, 192)  147456      ['average_pooling2d_4[0][0]']    \n",
      "                                                                                                  \n",
      " batch_normalization_40 (BatchN  (None, 12, 12, 192)  576        ['conv2d_40[0][0]']              \n",
      " ormalization)                                                                                    \n",
      "                                                                                                  \n",
      " batch_normalization_43 (BatchN  (None, 12, 12, 192)  576        ['conv2d_43[0][0]']              \n",
      " ormalization)                                                                                    \n",
      "                                                                                                  \n",
      " batch_normalization_48 (BatchN  (None, 12, 12, 192)  576        ['conv2d_48[0][0]']              \n",
      " ormalization)                                                                                    \n",
      "                                                                                                  \n",
      " batch_normalization_49 (BatchN  (None, 12, 12, 192)  576        ['conv2d_49[0][0]']              \n",
      " ormalization)                                                                                    \n",
      "                                                                                                  \n",
      " activation_40 (Activation)     (None, 12, 12, 192)  0           ['batch_normalization_40[0][0]'] \n",
      "                                                                                                  \n",
      " activation_43 (Activation)     (None, 12, 12, 192)  0           ['batch_normalization_43[0][0]'] \n",
      "                                                                                                  \n",
      " activation_48 (Activation)     (None, 12, 12, 192)  0           ['batch_normalization_48[0][0]'] \n",
      "                                                                                                  \n",
      " activation_49 (Activation)     (None, 12, 12, 192)  0           ['batch_normalization_49[0][0]'] \n",
      "                                                                                                  \n",
      " mixed5 (Concatenate)           (None, 12, 12, 768)  0           ['activation_40[0][0]',          \n",
      "                                                                  'activation_43[0][0]',          \n",
      "                                                                  'activation_48[0][0]',          \n",
      "                                                                  'activation_49[0][0]']          \n",
      "                                                                                                  \n",
      " conv2d_54 (Conv2D)             (None, 12, 12, 160)  122880      ['mixed5[0][0]']                 \n",
      "                                                                                                  \n",
      " batch_normalization_54 (BatchN  (None, 12, 12, 160)  480        ['conv2d_54[0][0]']              \n",
      " ormalization)                                                                                    \n",
      "                                                                                                  \n",
      " activation_54 (Activation)     (None, 12, 12, 160)  0           ['batch_normalization_54[0][0]'] \n",
      "                                                                                                  \n",
      " conv2d_55 (Conv2D)             (None, 12, 12, 160)  179200      ['activation_54[0][0]']          \n",
      "                                                                                                  \n",
      " batch_normalization_55 (BatchN  (None, 12, 12, 160)  480        ['conv2d_55[0][0]']              \n",
      " ormalization)                                                                                    \n",
      "                                                                                                  \n",
      " activation_55 (Activation)     (None, 12, 12, 160)  0           ['batch_normalization_55[0][0]'] \n",
      "                                                                                                  \n",
      " conv2d_51 (Conv2D)             (None, 12, 12, 160)  122880      ['mixed5[0][0]']                 \n",
      "                                                                                                  \n",
      " conv2d_56 (Conv2D)             (None, 12, 12, 160)  179200      ['activation_55[0][0]']          \n",
      "                                                                                                  \n",
      " batch_normalization_51 (BatchN  (None, 12, 12, 160)  480        ['conv2d_51[0][0]']              \n",
      " ormalization)                                                                                    \n",
      "                                                                                                  \n",
      " batch_normalization_56 (BatchN  (None, 12, 12, 160)  480        ['conv2d_56[0][0]']              \n",
      " ormalization)                                                                                    \n",
      "                                                                                                  \n",
      " activation_51 (Activation)     (None, 12, 12, 160)  0           ['batch_normalization_51[0][0]'] \n",
      "                                                                                                  \n",
      " activation_56 (Activation)     (None, 12, 12, 160)  0           ['batch_normalization_56[0][0]'] \n",
      "                                                                                                  \n",
      " conv2d_52 (Conv2D)             (None, 12, 12, 160)  179200      ['activation_51[0][0]']          \n",
      "                                                                                                  \n",
      " conv2d_57 (Conv2D)             (None, 12, 12, 160)  179200      ['activation_56[0][0]']          \n",
      "                                                                                                  \n",
      " batch_normalization_52 (BatchN  (None, 12, 12, 160)  480        ['conv2d_52[0][0]']              \n",
      " ormalization)                                                                                    \n",
      "                                                                                                  \n",
      " batch_normalization_57 (BatchN  (None, 12, 12, 160)  480        ['conv2d_57[0][0]']              \n",
      " ormalization)                                                                                    \n",
      "                                                                                                  \n",
      " activation_52 (Activation)     (None, 12, 12, 160)  0           ['batch_normalization_52[0][0]'] \n",
      "                                                                                                  \n",
      " activation_57 (Activation)     (None, 12, 12, 160)  0           ['batch_normalization_57[0][0]'] \n",
      "                                                                                                  \n",
      " average_pooling2d_5 (AveragePo  (None, 12, 12, 768)  0          ['mixed5[0][0]']                 \n",
      " oling2D)                                                                                         \n",
      "                                                                                                  \n",
      " conv2d_50 (Conv2D)             (None, 12, 12, 192)  147456      ['mixed5[0][0]']                 \n",
      "                                                                                                  \n",
      " conv2d_53 (Conv2D)             (None, 12, 12, 192)  215040      ['activation_52[0][0]']          \n",
      "                                                                                                  \n",
      " conv2d_58 (Conv2D)             (None, 12, 12, 192)  215040      ['activation_57[0][0]']          \n",
      "                                                                                                  \n",
      " conv2d_59 (Conv2D)             (None, 12, 12, 192)  147456      ['average_pooling2d_5[0][0]']    \n",
      "                                                                                                  \n",
      " batch_normalization_50 (BatchN  (None, 12, 12, 192)  576        ['conv2d_50[0][0]']              \n",
      " ormalization)                                                                                    \n",
      "                                                                                                  \n",
      " batch_normalization_53 (BatchN  (None, 12, 12, 192)  576        ['conv2d_53[0][0]']              \n",
      " ormalization)                                                                                    \n",
      "                                                                                                  \n",
      " batch_normalization_58 (BatchN  (None, 12, 12, 192)  576        ['conv2d_58[0][0]']              \n",
      " ormalization)                                                                                    \n",
      "                                                                                                  \n",
      " batch_normalization_59 (BatchN  (None, 12, 12, 192)  576        ['conv2d_59[0][0]']              \n",
      " ormalization)                                                                                    \n",
      "                                                                                                  \n",
      " activation_50 (Activation)     (None, 12, 12, 192)  0           ['batch_normalization_50[0][0]'] \n",
      "                                                                                                  \n",
      " activation_53 (Activation)     (None, 12, 12, 192)  0           ['batch_normalization_53[0][0]'] \n",
      "                                                                                                  \n",
      " activation_58 (Activation)     (None, 12, 12, 192)  0           ['batch_normalization_58[0][0]'] \n",
      "                                                                                                  \n",
      " activation_59 (Activation)     (None, 12, 12, 192)  0           ['batch_normalization_59[0][0]'] \n",
      "                                                                                                  \n",
      " mixed6 (Concatenate)           (None, 12, 12, 768)  0           ['activation_50[0][0]',          \n",
      "                                                                  'activation_53[0][0]',          \n",
      "                                                                  'activation_58[0][0]',          \n",
      "                                                                  'activation_59[0][0]']          \n",
      "                                                                                                  \n",
      " conv2d_64 (Conv2D)             (None, 12, 12, 192)  147456      ['mixed6[0][0]']                 \n",
      "                                                                                                  \n",
      " batch_normalization_64 (BatchN  (None, 12, 12, 192)  576        ['conv2d_64[0][0]']              \n",
      " ormalization)                                                                                    \n",
      "                                                                                                  \n",
      " activation_64 (Activation)     (None, 12, 12, 192)  0           ['batch_normalization_64[0][0]'] \n",
      "                                                                                                  \n",
      " conv2d_65 (Conv2D)             (None, 12, 12, 192)  258048      ['activation_64[0][0]']          \n",
      "                                                                                                  \n",
      " batch_normalization_65 (BatchN  (None, 12, 12, 192)  576        ['conv2d_65[0][0]']              \n",
      " ormalization)                                                                                    \n",
      "                                                                                                  \n",
      " activation_65 (Activation)     (None, 12, 12, 192)  0           ['batch_normalization_65[0][0]'] \n",
      "                                                                                                  \n",
      " conv2d_61 (Conv2D)             (None, 12, 12, 192)  147456      ['mixed6[0][0]']                 \n",
      "                                                                                                  \n",
      " conv2d_66 (Conv2D)             (None, 12, 12, 192)  258048      ['activation_65[0][0]']          \n",
      "                                                                                                  \n",
      " batch_normalization_61 (BatchN  (None, 12, 12, 192)  576        ['conv2d_61[0][0]']              \n",
      " ormalization)                                                                                    \n",
      "                                                                                                  \n",
      " batch_normalization_66 (BatchN  (None, 12, 12, 192)  576        ['conv2d_66[0][0]']              \n",
      " ormalization)                                                                                    \n",
      "                                                                                                  \n",
      " activation_61 (Activation)     (None, 12, 12, 192)  0           ['batch_normalization_61[0][0]'] \n",
      "                                                                                                  \n",
      " activation_66 (Activation)     (None, 12, 12, 192)  0           ['batch_normalization_66[0][0]'] \n",
      "                                                                                                  \n",
      " conv2d_62 (Conv2D)             (None, 12, 12, 192)  258048      ['activation_61[0][0]']          \n",
      "                                                                                                  \n",
      " conv2d_67 (Conv2D)             (None, 12, 12, 192)  258048      ['activation_66[0][0]']          \n",
      "                                                                                                  \n",
      " batch_normalization_62 (BatchN  (None, 12, 12, 192)  576        ['conv2d_62[0][0]']              \n",
      " ormalization)                                                                                    \n",
      "                                                                                                  \n",
      " batch_normalization_67 (BatchN  (None, 12, 12, 192)  576        ['conv2d_67[0][0]']              \n",
      " ormalization)                                                                                    \n",
      "                                                                                                  \n",
      " activation_62 (Activation)     (None, 12, 12, 192)  0           ['batch_normalization_62[0][0]'] \n",
      "                                                                                                  \n",
      " activation_67 (Activation)     (None, 12, 12, 192)  0           ['batch_normalization_67[0][0]'] \n",
      "                                                                                                  \n",
      " average_pooling2d_6 (AveragePo  (None, 12, 12, 768)  0          ['mixed6[0][0]']                 \n",
      " oling2D)                                                                                         \n",
      "                                                                                                  \n",
      " conv2d_60 (Conv2D)             (None, 12, 12, 192)  147456      ['mixed6[0][0]']                 \n",
      "                                                                                                  \n",
      " conv2d_63 (Conv2D)             (None, 12, 12, 192)  258048      ['activation_62[0][0]']          \n",
      "                                                                                                  \n",
      " conv2d_68 (Conv2D)             (None, 12, 12, 192)  258048      ['activation_67[0][0]']          \n",
      "                                                                                                  \n",
      " conv2d_69 (Conv2D)             (None, 12, 12, 192)  147456      ['average_pooling2d_6[0][0]']    \n",
      "                                                                                                  \n",
      " batch_normalization_60 (BatchN  (None, 12, 12, 192)  576        ['conv2d_60[0][0]']              \n",
      " ormalization)                                                                                    \n",
      "                                                                                                  \n",
      " batch_normalization_63 (BatchN  (None, 12, 12, 192)  576        ['conv2d_63[0][0]']              \n",
      " ormalization)                                                                                    \n",
      "                                                                                                  \n",
      " batch_normalization_68 (BatchN  (None, 12, 12, 192)  576        ['conv2d_68[0][0]']              \n",
      " ormalization)                                                                                    \n",
      "                                                                                                  \n",
      " batch_normalization_69 (BatchN  (None, 12, 12, 192)  576        ['conv2d_69[0][0]']              \n",
      " ormalization)                                                                                    \n",
      "                                                                                                  \n",
      " activation_60 (Activation)     (None, 12, 12, 192)  0           ['batch_normalization_60[0][0]'] \n",
      "                                                                                                  \n",
      " activation_63 (Activation)     (None, 12, 12, 192)  0           ['batch_normalization_63[0][0]'] \n",
      "                                                                                                  \n",
      " activation_68 (Activation)     (None, 12, 12, 192)  0           ['batch_normalization_68[0][0]'] \n",
      "                                                                                                  \n",
      " activation_69 (Activation)     (None, 12, 12, 192)  0           ['batch_normalization_69[0][0]'] \n",
      "                                                                                                  \n",
      " mixed7 (Concatenate)           (None, 12, 12, 768)  0           ['activation_60[0][0]',          \n",
      "                                                                  'activation_63[0][0]',          \n",
      "                                                                  'activation_68[0][0]',          \n",
      "                                                                  'activation_69[0][0]']          \n",
      "                                                                                                  \n",
      " conv2d_72 (Conv2D)             (None, 12, 12, 192)  147456      ['mixed7[0][0]']                 \n",
      "                                                                                                  \n",
      " batch_normalization_72 (BatchN  (None, 12, 12, 192)  576        ['conv2d_72[0][0]']              \n",
      " ormalization)                                                                                    \n",
      "                                                                                                  \n",
      " activation_72 (Activation)     (None, 12, 12, 192)  0           ['batch_normalization_72[0][0]'] \n",
      "                                                                                                  \n",
      " conv2d_73 (Conv2D)             (None, 12, 12, 192)  258048      ['activation_72[0][0]']          \n",
      "                                                                                                  \n",
      " batch_normalization_73 (BatchN  (None, 12, 12, 192)  576        ['conv2d_73[0][0]']              \n",
      " ormalization)                                                                                    \n",
      "                                                                                                  \n",
      " activation_73 (Activation)     (None, 12, 12, 192)  0           ['batch_normalization_73[0][0]'] \n",
      "                                                                                                  \n",
      " conv2d_70 (Conv2D)             (None, 12, 12, 192)  147456      ['mixed7[0][0]']                 \n",
      "                                                                                                  \n",
      " conv2d_74 (Conv2D)             (None, 12, 12, 192)  258048      ['activation_73[0][0]']          \n",
      "                                                                                                  \n",
      " batch_normalization_70 (BatchN  (None, 12, 12, 192)  576        ['conv2d_70[0][0]']              \n",
      " ormalization)                                                                                    \n",
      "                                                                                                  \n",
      " batch_normalization_74 (BatchN  (None, 12, 12, 192)  576        ['conv2d_74[0][0]']              \n",
      " ormalization)                                                                                    \n",
      "                                                                                                  \n",
      " activation_70 (Activation)     (None, 12, 12, 192)  0           ['batch_normalization_70[0][0]'] \n",
      "                                                                                                  \n",
      " activation_74 (Activation)     (None, 12, 12, 192)  0           ['batch_normalization_74[0][0]'] \n",
      "                                                                                                  \n",
      " conv2d_71 (Conv2D)             (None, 5, 5, 320)    552960      ['activation_70[0][0]']          \n",
      "                                                                                                  \n",
      " conv2d_75 (Conv2D)             (None, 5, 5, 192)    331776      ['activation_74[0][0]']          \n",
      "                                                                                                  \n",
      " batch_normalization_71 (BatchN  (None, 5, 5, 320)   960         ['conv2d_71[0][0]']              \n",
      " ormalization)                                                                                    \n",
      "                                                                                                  \n",
      " batch_normalization_75 (BatchN  (None, 5, 5, 192)   576         ['conv2d_75[0][0]']              \n",
      " ormalization)                                                                                    \n",
      "                                                                                                  \n",
      " activation_71 (Activation)     (None, 5, 5, 320)    0           ['batch_normalization_71[0][0]'] \n",
      "                                                                                                  \n",
      " activation_75 (Activation)     (None, 5, 5, 192)    0           ['batch_normalization_75[0][0]'] \n",
      "                                                                                                  \n",
      " max_pooling2d_3 (MaxPooling2D)  (None, 5, 5, 768)   0           ['mixed7[0][0]']                 \n",
      "                                                                                                  \n",
      " mixed8 (Concatenate)           (None, 5, 5, 1280)   0           ['activation_71[0][0]',          \n",
      "                                                                  'activation_75[0][0]',          \n",
      "                                                                  'max_pooling2d_3[0][0]']        \n",
      "                                                                                                  \n",
      " conv2d_80 (Conv2D)             (None, 5, 5, 448)    573440      ['mixed8[0][0]']                 \n",
      "                                                                                                  \n",
      " batch_normalization_80 (BatchN  (None, 5, 5, 448)   1344        ['conv2d_80[0][0]']              \n",
      " ormalization)                                                                                    \n",
      "                                                                                                  \n",
      " activation_80 (Activation)     (None, 5, 5, 448)    0           ['batch_normalization_80[0][0]'] \n",
      "                                                                                                  \n",
      " conv2d_77 (Conv2D)             (None, 5, 5, 384)    491520      ['mixed8[0][0]']                 \n",
      "                                                                                                  \n",
      " conv2d_81 (Conv2D)             (None, 5, 5, 384)    1548288     ['activation_80[0][0]']          \n",
      "                                                                                                  \n",
      " batch_normalization_77 (BatchN  (None, 5, 5, 384)   1152        ['conv2d_77[0][0]']              \n",
      " ormalization)                                                                                    \n",
      "                                                                                                  \n",
      " batch_normalization_81 (BatchN  (None, 5, 5, 384)   1152        ['conv2d_81[0][0]']              \n",
      " ormalization)                                                                                    \n",
      "                                                                                                  \n",
      " activation_77 (Activation)     (None, 5, 5, 384)    0           ['batch_normalization_77[0][0]'] \n",
      "                                                                                                  \n",
      " activation_81 (Activation)     (None, 5, 5, 384)    0           ['batch_normalization_81[0][0]'] \n",
      "                                                                                                  \n",
      " conv2d_78 (Conv2D)             (None, 5, 5, 384)    442368      ['activation_77[0][0]']          \n",
      "                                                                                                  \n",
      " conv2d_79 (Conv2D)             (None, 5, 5, 384)    442368      ['activation_77[0][0]']          \n",
      "                                                                                                  \n",
      " conv2d_82 (Conv2D)             (None, 5, 5, 384)    442368      ['activation_81[0][0]']          \n",
      "                                                                                                  \n",
      " conv2d_83 (Conv2D)             (None, 5, 5, 384)    442368      ['activation_81[0][0]']          \n",
      "                                                                                                  \n",
      " average_pooling2d_7 (AveragePo  (None, 5, 5, 1280)  0           ['mixed8[0][0]']                 \n",
      " oling2D)                                                                                         \n",
      "                                                                                                  \n",
      " conv2d_76 (Conv2D)             (None, 5, 5, 320)    409600      ['mixed8[0][0]']                 \n",
      "                                                                                                  \n",
      " batch_normalization_78 (BatchN  (None, 5, 5, 384)   1152        ['conv2d_78[0][0]']              \n",
      " ormalization)                                                                                    \n",
      "                                                                                                  \n",
      " batch_normalization_79 (BatchN  (None, 5, 5, 384)   1152        ['conv2d_79[0][0]']              \n",
      " ormalization)                                                                                    \n",
      "                                                                                                  \n",
      " batch_normalization_82 (BatchN  (None, 5, 5, 384)   1152        ['conv2d_82[0][0]']              \n",
      " ormalization)                                                                                    \n",
      "                                                                                                  \n",
      " batch_normalization_83 (BatchN  (None, 5, 5, 384)   1152        ['conv2d_83[0][0]']              \n",
      " ormalization)                                                                                    \n",
      "                                                                                                  \n",
      " conv2d_84 (Conv2D)             (None, 5, 5, 192)    245760      ['average_pooling2d_7[0][0]']    \n",
      "                                                                                                  \n",
      " batch_normalization_76 (BatchN  (None, 5, 5, 320)   960         ['conv2d_76[0][0]']              \n",
      " ormalization)                                                                                    \n",
      "                                                                                                  \n",
      " activation_78 (Activation)     (None, 5, 5, 384)    0           ['batch_normalization_78[0][0]'] \n",
      "                                                                                                  \n",
      " activation_79 (Activation)     (None, 5, 5, 384)    0           ['batch_normalization_79[0][0]'] \n",
      "                                                                                                  \n",
      " activation_82 (Activation)     (None, 5, 5, 384)    0           ['batch_normalization_82[0][0]'] \n",
      "                                                                                                  \n",
      " activation_83 (Activation)     (None, 5, 5, 384)    0           ['batch_normalization_83[0][0]'] \n",
      "                                                                                                  \n",
      " batch_normalization_84 (BatchN  (None, 5, 5, 192)   576         ['conv2d_84[0][0]']              \n",
      " ormalization)                                                                                    \n",
      "                                                                                                  \n",
      " activation_76 (Activation)     (None, 5, 5, 320)    0           ['batch_normalization_76[0][0]'] \n",
      "                                                                                                  \n",
      " mixed9_0 (Concatenate)         (None, 5, 5, 768)    0           ['activation_78[0][0]',          \n",
      "                                                                  'activation_79[0][0]']          \n",
      "                                                                                                  \n",
      " concatenate (Concatenate)      (None, 5, 5, 768)    0           ['activation_82[0][0]',          \n",
      "                                                                  'activation_83[0][0]']          \n",
      "                                                                                                  \n",
      " activation_84 (Activation)     (None, 5, 5, 192)    0           ['batch_normalization_84[0][0]'] \n",
      "                                                                                                  \n",
      " mixed9 (Concatenate)           (None, 5, 5, 2048)   0           ['activation_76[0][0]',          \n",
      "                                                                  'mixed9_0[0][0]',               \n",
      "                                                                  'concatenate[0][0]',            \n",
      "                                                                  'activation_84[0][0]']          \n",
      "                                                                                                  \n",
      " conv2d_89 (Conv2D)             (None, 5, 5, 448)    917504      ['mixed9[0][0]']                 \n",
      "                                                                                                  \n",
      " batch_normalization_89 (BatchN  (None, 5, 5, 448)   1344        ['conv2d_89[0][0]']              \n",
      " ormalization)                                                                                    \n",
      "                                                                                                  \n",
      " activation_89 (Activation)     (None, 5, 5, 448)    0           ['batch_normalization_89[0][0]'] \n",
      "                                                                                                  \n",
      " conv2d_86 (Conv2D)             (None, 5, 5, 384)    786432      ['mixed9[0][0]']                 \n",
      "                                                                                                  \n",
      " conv2d_90 (Conv2D)             (None, 5, 5, 384)    1548288     ['activation_89[0][0]']          \n",
      "                                                                                                  \n",
      " batch_normalization_86 (BatchN  (None, 5, 5, 384)   1152        ['conv2d_86[0][0]']              \n",
      " ormalization)                                                                                    \n",
      "                                                                                                  \n",
      " batch_normalization_90 (BatchN  (None, 5, 5, 384)   1152        ['conv2d_90[0][0]']              \n",
      " ormalization)                                                                                    \n",
      "                                                                                                  \n",
      " activation_86 (Activation)     (None, 5, 5, 384)    0           ['batch_normalization_86[0][0]'] \n",
      "                                                                                                  \n",
      " activation_90 (Activation)     (None, 5, 5, 384)    0           ['batch_normalization_90[0][0]'] \n",
      "                                                                                                  \n",
      " conv2d_87 (Conv2D)             (None, 5, 5, 384)    442368      ['activation_86[0][0]']          \n",
      "                                                                                                  \n",
      " conv2d_88 (Conv2D)             (None, 5, 5, 384)    442368      ['activation_86[0][0]']          \n",
      "                                                                                                  \n",
      " conv2d_91 (Conv2D)             (None, 5, 5, 384)    442368      ['activation_90[0][0]']          \n",
      "                                                                                                  \n",
      " conv2d_92 (Conv2D)             (None, 5, 5, 384)    442368      ['activation_90[0][0]']          \n",
      "                                                                                                  \n",
      " average_pooling2d_8 (AveragePo  (None, 5, 5, 2048)  0           ['mixed9[0][0]']                 \n",
      " oling2D)                                                                                         \n",
      "                                                                                                  \n",
      " conv2d_85 (Conv2D)             (None, 5, 5, 320)    655360      ['mixed9[0][0]']                 \n",
      "                                                                                                  \n",
      " batch_normalization_87 (BatchN  (None, 5, 5, 384)   1152        ['conv2d_87[0][0]']              \n",
      " ormalization)                                                                                    \n",
      "                                                                                                  \n",
      " batch_normalization_88 (BatchN  (None, 5, 5, 384)   1152        ['conv2d_88[0][0]']              \n",
      " ormalization)                                                                                    \n",
      "                                                                                                  \n",
      " batch_normalization_91 (BatchN  (None, 5, 5, 384)   1152        ['conv2d_91[0][0]']              \n",
      " ormalization)                                                                                    \n",
      "                                                                                                  \n",
      " batch_normalization_92 (BatchN  (None, 5, 5, 384)   1152        ['conv2d_92[0][0]']              \n",
      " ormalization)                                                                                    \n",
      "                                                                                                  \n",
      " conv2d_93 (Conv2D)             (None, 5, 5, 192)    393216      ['average_pooling2d_8[0][0]']    \n",
      "                                                                                                  \n",
      " batch_normalization_85 (BatchN  (None, 5, 5, 320)   960         ['conv2d_85[0][0]']              \n",
      " ormalization)                                                                                    \n",
      "                                                                                                  \n",
      " activation_87 (Activation)     (None, 5, 5, 384)    0           ['batch_normalization_87[0][0]'] \n",
      "                                                                                                  \n",
      " activation_88 (Activation)     (None, 5, 5, 384)    0           ['batch_normalization_88[0][0]'] \n",
      "                                                                                                  \n",
      " activation_91 (Activation)     (None, 5, 5, 384)    0           ['batch_normalization_91[0][0]'] \n",
      "                                                                                                  \n",
      " activation_92 (Activation)     (None, 5, 5, 384)    0           ['batch_normalization_92[0][0]'] \n",
      "                                                                                                  \n",
      " batch_normalization_93 (BatchN  (None, 5, 5, 192)   576         ['conv2d_93[0][0]']              \n",
      " ormalization)                                                                                    \n",
      "                                                                                                  \n",
      " activation_85 (Activation)     (None, 5, 5, 320)    0           ['batch_normalization_85[0][0]'] \n",
      "                                                                                                  \n",
      " mixed9_1 (Concatenate)         (None, 5, 5, 768)    0           ['activation_87[0][0]',          \n",
      "                                                                  'activation_88[0][0]']          \n",
      "                                                                                                  \n",
      " concatenate_1 (Concatenate)    (None, 5, 5, 768)    0           ['activation_91[0][0]',          \n",
      "                                                                  'activation_92[0][0]']          \n",
      "                                                                                                  \n",
      " activation_93 (Activation)     (None, 5, 5, 192)    0           ['batch_normalization_93[0][0]'] \n",
      "                                                                                                  \n",
      " mixed10 (Concatenate)          (None, 5, 5, 2048)   0           ['activation_85[0][0]',          \n",
      "                                                                  'mixed9_1[0][0]',               \n",
      "                                                                  'concatenate_1[0][0]',          \n",
      "                                                                  'activation_93[0][0]']          \n",
      "                                                                                                  \n",
      " flatten_1 (Flatten)            (None, 51200)        0           ['mixed10[0][0]']                \n",
      "                                                                                                  \n",
      " dropout (Dropout)              (None, 51200)        0           ['flatten_1[0][0]']              \n",
      "                                                                                                  \n",
      " dense_1 (Dense)                (None, 120)          6144120     ['dropout[0][0]']                \n",
      "                                                                                                  \n",
      "==================================================================================================\n",
      "Total params: 27,946,904\n",
      "Trainable params: 6,144,120\n",
      "Non-trainable params: 21,802,784\n",
      "__________________________________________________________________________________________________\n"
     ]
    }
   ],
   "source": [
    "model.summary()"
   ]
  },
  {
   "cell_type": "code",
   "execution_count": 32,
   "id": "1310db11",
   "metadata": {
    "execution": {
     "iopub.execute_input": "2023-03-01T17:04:11.409938Z",
     "iopub.status.busy": "2023-03-01T17:04:11.409247Z",
     "iopub.status.idle": "2023-03-01T17:04:11.596463Z",
     "shell.execute_reply": "2023-03-01T17:04:11.595415Z"
    },
    "papermill": {
     "duration": 0.248178,
     "end_time": "2023-03-01T17:04:11.598800",
     "exception": false,
     "start_time": "2023-03-01T17:04:11.350622",
     "status": "completed"
    },
    "tags": []
   },
   "outputs": [],
   "source": [
    "#tensor dataset\n",
    "train_df = tf_dataset(train_data)\n",
    "test_df = tf_dataset(test_data)\n",
    "valid_df = tf_dataset(valid_data) "
   ]
  },
  {
   "cell_type": "code",
   "execution_count": 33,
   "id": "b3761bb7",
   "metadata": {
    "execution": {
     "iopub.execute_input": "2023-03-01T17:04:11.720695Z",
     "iopub.status.busy": "2023-03-01T17:04:11.720323Z",
     "iopub.status.idle": "2023-03-01T17:20:13.102809Z",
     "shell.execute_reply": "2023-03-01T17:20:13.101713Z"
    },
    "papermill": {
     "duration": 961.526927,
     "end_time": "2023-03-01T17:20:13.188363",
     "exception": false,
     "start_time": "2023-03-01T17:04:11.661436",
     "status": "completed"
    },
    "tags": []
   },
   "outputs": [
    {
     "name": "stdout",
     "output_type": "stream",
     "text": [
      "Epoch 1/8\n",
      "65/65 [==============================] - ETA: 0s - loss: 9.7875 - accuracy: 0.4523\n",
      "Epoch 1: val_loss improved from inf to 6.63529, saving model to /kaggle/working/dog-breed-inceptionV3.h5\n",
      "65/65 [==============================] - 173s 2s/step - loss: 9.7875 - accuracy: 0.4523 - val_loss: 6.6353 - val_accuracy: 0.5494 - lr: 0.0010\n",
      "Epoch 2/8\n",
      "65/65 [==============================] - ETA: 0s - loss: 2.3349 - accuracy: 0.7653\n",
      "Epoch 2: val_loss did not improve from 6.63529\n",
      "65/65 [==============================] - 89s 1s/step - loss: 2.3349 - accuracy: 0.7653 - val_loss: 7.0485 - val_accuracy: 0.5596 - lr: 0.0010\n",
      "Epoch 3/8\n",
      "65/65 [==============================] - ETA: 0s - loss: 1.4241 - accuracy: 0.8398\n",
      "Epoch 3: val_loss did not improve from 6.63529\n",
      "65/65 [==============================] - 89s 1s/step - loss: 1.4241 - accuracy: 0.8398 - val_loss: 7.4458 - val_accuracy: 0.5758 - lr: 0.0010\n",
      "Epoch 4/8\n",
      "65/65 [==============================] - ETA: 0s - loss: 1.0272 - accuracy: 0.8890\n",
      "Epoch 4: val_loss did not improve from 6.63529\n",
      "65/65 [==============================] - 88s 1s/step - loss: 1.0272 - accuracy: 0.8890 - val_loss: 8.7179 - val_accuracy: 0.5701 - lr: 0.0010\n",
      "Epoch 5/8\n",
      "65/65 [==============================] - ETA: 0s - loss: 0.7368 - accuracy: 0.9161\n",
      "Epoch 5: val_loss did not improve from 6.63529\n",
      "65/65 [==============================] - 89s 1s/step - loss: 0.7368 - accuracy: 0.9161 - val_loss: 8.4984 - val_accuracy: 0.5768 - lr: 0.0010\n",
      "Epoch 6/8\n",
      "65/65 [==============================] - ETA: 0s - loss: 0.4979 - accuracy: 0.9385\n",
      "Epoch 6: val_loss did not improve from 6.63529\n",
      "65/65 [==============================] - 88s 1s/step - loss: 0.4979 - accuracy: 0.9385 - val_loss: 8.5972 - val_accuracy: 0.5946 - lr: 0.0010\n",
      "Epoch 7/8\n",
      "65/65 [==============================] - ETA: 0s - loss: 0.5027 - accuracy: 0.9427\n",
      "Epoch 7: val_loss did not improve from 6.63529\n",
      "65/65 [==============================] - 91s 1s/step - loss: 0.5027 - accuracy: 0.9427 - val_loss: 8.5691 - val_accuracy: 0.5969 - lr: 0.0010\n",
      "Epoch 8/8\n",
      "65/65 [==============================] - ETA: 0s - loss: 0.4914 - accuracy: 0.9458\n",
      "Epoch 8: val_loss did not improve from 6.63529\n",
      "65/65 [==============================] - 94s 1s/step - loss: 0.4914 - accuracy: 0.9458 - val_loss: 8.9578 - val_accuracy: 0.6024 - lr: 0.0010\n"
     ]
    },
    {
     "data": {
      "text/plain": [
       "<keras.callbacks.History at 0x7f0bd0537810>"
      ]
     },
     "execution_count": 33,
     "metadata": {},
     "output_type": "execute_result"
    }
   ],
   "source": [
    "#training\n",
    "model.fit(\n",
    "    train_df,\n",
    "    validation_data=valid_df,\n",
    "    epochs=8,\n",
    "    batch_size=8,\n",
    "    callbacks=callbacks\n",
    ")"
   ]
  },
  {
   "cell_type": "markdown",
   "id": "a79e808a",
   "metadata": {
    "papermill": {
     "duration": 0.082921,
     "end_time": "2023-03-01T17:20:13.354069",
     "exception": false,
     "start_time": "2023-03-01T17:20:13.271148",
     "status": "completed"
    },
    "tags": []
   },
   "source": [
    "# Evaluate the model"
   ]
  },
  {
   "cell_type": "code",
   "execution_count": 34,
   "id": "374ddc64",
   "metadata": {
    "execution": {
     "iopub.execute_input": "2023-03-01T17:20:13.527803Z",
     "iopub.status.busy": "2023-03-01T17:20:13.527395Z",
     "iopub.status.idle": "2023-03-01T17:21:20.097088Z",
     "shell.execute_reply": "2023-03-01T17:21:20.096047Z"
    },
    "papermill": {
     "duration": 66.655824,
     "end_time": "2023-03-01T17:21:20.099677",
     "exception": false,
     "start_time": "2023-03-01T17:20:13.443853",
     "status": "completed"
    },
    "tags": []
   },
   "outputs": [
    {
     "name": "stdout",
     "output_type": "stream",
     "text": [
      "49/49 [==============================] - 67s 1s/step - loss: 8.9751 - accuracy: 0.6088\n"
     ]
    },
    {
     "data": {
      "text/plain": [
       "[8.975053787231445, 0.6088435649871826]"
      ]
     },
     "execution_count": 34,
     "metadata": {},
     "output_type": "execute_result"
    }
   ],
   "source": [
    "model.evaluate(test_df)"
   ]
  },
  {
   "cell_type": "code",
   "execution_count": 35,
   "id": "8e6549d5",
   "metadata": {
    "execution": {
     "iopub.execute_input": "2023-03-01T17:21:20.277460Z",
     "iopub.status.busy": "2023-03-01T17:21:20.277129Z",
     "iopub.status.idle": "2023-03-01T17:21:20.283223Z",
     "shell.execute_reply": "2023-03-01T17:21:20.282170Z"
    },
    "papermill": {
     "duration": 0.094347,
     "end_time": "2023-03-01T17:21:20.285409",
     "exception": false,
     "start_time": "2023-03-01T17:21:20.191062",
     "status": "completed"
    },
    "tags": []
   },
   "outputs": [],
   "source": [
    "#function for get labels of test set\n",
    "def get_test_data_class(test_path):\n",
    "  names = []\n",
    "  for i in test_path:\n",
    "    name = i.split(\"/\")[-2].split('-')[-1]\n",
    "    name_idx = labels_list.index(name)\n",
    "    names.append(name_idx)\n",
    "  names = np.array(names, dtype=np.int32)\n",
    "  return names"
   ]
  },
  {
   "cell_type": "code",
   "execution_count": 36,
   "id": "fae3bc55",
   "metadata": {
    "execution": {
     "iopub.execute_input": "2023-03-01T17:21:20.463585Z",
     "iopub.status.busy": "2023-03-01T17:21:20.462491Z",
     "iopub.status.idle": "2023-03-01T17:21:20.479706Z",
     "shell.execute_reply": "2023-03-01T17:21:20.478844Z"
    },
    "papermill": {
     "duration": 0.110374,
     "end_time": "2023-03-01T17:21:20.481693",
     "exception": false,
     "start_time": "2023-03-01T17:21:20.371319",
     "status": "completed"
    },
    "tags": []
   },
   "outputs": [],
   "source": [
    "classes = get_test_data_class(test_data)"
   ]
  },
  {
   "cell_type": "markdown",
   "id": "6ef27416",
   "metadata": {
    "papermill": {
     "duration": 0.085198,
     "end_time": "2023-03-01T17:21:20.652810",
     "exception": false,
     "start_time": "2023-03-01T17:21:20.567612",
     "status": "completed"
    },
    "tags": []
   },
   "source": [
    "# test the model"
   ]
  },
  {
   "cell_type": "code",
   "execution_count": 37,
   "id": "b3e5b89c",
   "metadata": {
    "execution": {
     "iopub.execute_input": "2023-03-01T17:21:20.824447Z",
     "iopub.status.busy": "2023-03-01T17:21:20.824022Z",
     "iopub.status.idle": "2023-03-01T17:21:20.830192Z",
     "shell.execute_reply": "2023-03-01T17:21:20.829290Z"
    },
    "papermill": {
     "duration": 0.093447,
     "end_time": "2023-03-01T17:21:20.832102",
     "exception": false,
     "start_time": "2023-03-01T17:21:20.738655",
     "status": "completed"
    },
    "tags": []
   },
   "outputs": [
    {
     "data": {
      "text/plain": [
       "'/kaggle/input/120-dog-breeds-breed-classification/Images/n02107142-Doberman/n02107142_9621.jpg'"
      ]
     },
     "execution_count": 37,
     "metadata": {},
     "output_type": "execute_result"
    }
   ],
   "source": [
    "#image and name\n",
    "test_data[0]"
   ]
  },
  {
   "cell_type": "code",
   "execution_count": 38,
   "id": "2b86ec42",
   "metadata": {
    "execution": {
     "iopub.execute_input": "2023-03-01T17:21:21.005618Z",
     "iopub.status.busy": "2023-03-01T17:21:21.004722Z",
     "iopub.status.idle": "2023-03-01T17:21:21.442311Z",
     "shell.execute_reply": "2023-03-01T17:21:21.441336Z"
    },
    "papermill": {
     "duration": 0.529749,
     "end_time": "2023-03-01T17:21:21.447472",
     "exception": false,
     "start_time": "2023-03-01T17:21:20.917723",
     "status": "completed"
    },
    "tags": []
   },
   "outputs": [
    {
     "data": {
      "text/plain": [
       "<matplotlib.image.AxesImage at 0x7f0bd0532ed0>"
      ]
     },
     "execution_count": 38,
     "metadata": {},
     "output_type": "execute_result"
    },
    {
     "data": {
      "image/png": "[encoded data removed]",
      "text/plain": [
       "<Figure size 640x480 with 1 Axes>"
      ]
     },
     "metadata": {},
     "output_type": "display_data"
    }
   ],
   "source": [
    "#read the image \n",
    "img = cv2.imread(test_data[0], cv2.IMREAD_COLOR)\n",
    "plt.imshow(img)"
   ]
  },
  {
   "cell_type": "code",
   "execution_count": 39,
   "id": "93efc62b",
   "metadata": {
    "execution": {
     "iopub.execute_input": "2023-03-01T17:21:21.633830Z",
     "iopub.status.busy": "2023-03-01T17:21:21.633409Z",
     "iopub.status.idle": "2023-03-01T17:21:21.639074Z",
     "shell.execute_reply": "2023-03-01T17:21:21.638107Z"
    },
    "papermill": {
     "duration": 0.100481,
     "end_time": "2023-03-01T17:21:21.641187",
     "exception": false,
     "start_time": "2023-03-01T17:21:21.540706",
     "status": "completed"
    },
    "tags": []
   },
   "outputs": [],
   "source": [
    "img_new = cv2.resize(img, (224,224))\n",
    "img = np.array(img_new).reshape(-1, 224, 224, 3)"
   ]
  },
  {
   "cell_type": "code",
   "execution_count": 40,
   "id": "42e99e1c",
   "metadata": {
    "execution": {
     "iopub.execute_input": "2023-03-01T17:21:21.826930Z",
     "iopub.status.busy": "2023-03-01T17:21:21.826553Z",
     "iopub.status.idle": "2023-03-01T17:21:21.831984Z",
     "shell.execute_reply": "2023-03-01T17:21:21.830823Z"
    },
    "papermill": {
     "duration": 0.102079,
     "end_time": "2023-03-01T17:21:21.834237",
     "exception": false,
     "start_time": "2023-03-01T17:21:21.732158",
     "status": "completed"
    },
    "tags": []
   },
   "outputs": [],
   "source": [
    "img = img.astype('float32')\n",
    "img /= 255"
   ]
  },
  {
   "cell_type": "code",
   "execution_count": 41,
   "id": "d4ed9f67",
   "metadata": {
    "execution": {
     "iopub.execute_input": "2023-03-01T17:21:22.024210Z",
     "iopub.status.busy": "2023-03-01T17:21:22.023583Z",
     "iopub.status.idle": "2023-03-01T17:21:24.036087Z",
     "shell.execute_reply": "2023-03-01T17:21:24.034818Z"
    },
    "papermill": {
     "duration": 2.112353,
     "end_time": "2023-03-01T17:21:24.038604",
     "exception": false,
     "start_time": "2023-03-01T17:21:21.926251",
     "status": "completed"
    },
    "tags": []
   },
   "outputs": [
    {
     "data": {
      "text/plain": [
       "array([[0.0000000e+00, 6.9124245e-35, 0.0000000e+00, 1.9467867e-29,\n",
       "        0.0000000e+00, 3.6146378e-31, 0.0000000e+00, 5.4697629e-35,\n",
       "        0.0000000e+00, 2.1371766e-33, 0.0000000e+00, 1.4642296e-36,\n",
       "        0.0000000e+00, 4.0326416e-28, 0.0000000e+00, 1.5130344e-35,\n",
       "        9.6666102e-28, 2.2046500e-31, 0.0000000e+00, 2.2459533e-33,\n",
       "        0.0000000e+00, 2.6981283e-36, 0.0000000e+00, 3.8780340e-36,\n",
       "        9.4839746e-37, 0.0000000e+00, 1.2253206e-20, 0.0000000e+00,\n",
       "        0.0000000e+00, 5.6669498e-35, 0.0000000e+00, 0.0000000e+00,\n",
       "        0.0000000e+00, 0.0000000e+00, 1.6273174e-26, 0.0000000e+00,\n",
       "        0.0000000e+00, 0.0000000e+00, 1.9997511e-32, 3.1758090e-32,\n",
       "        0.0000000e+00, 9.2272863e-36, 0.0000000e+00, 2.5087498e-15,\n",
       "        4.8295046e-25, 0.0000000e+00, 0.0000000e+00, 0.0000000e+00,\n",
       "        0.0000000e+00, 0.0000000e+00, 1.2199756e-35, 4.1642334e-31,\n",
       "        6.3836590e-36, 0.0000000e+00, 0.0000000e+00, 0.0000000e+00,\n",
       "        3.4811758e-33, 4.7123834e-30, 4.4942464e-34, 0.0000000e+00,\n",
       "        1.4747508e-37, 0.0000000e+00, 7.2973161e-38, 2.6746202e-36,\n",
       "        0.0000000e+00, 0.0000000e+00, 0.0000000e+00, 0.0000000e+00,\n",
       "        1.0176372e-36, 0.0000000e+00, 3.4781575e-36, 3.0185023e-27,\n",
       "        0.0000000e+00, 0.0000000e+00, 0.0000000e+00, 1.3295072e-24,\n",
       "        0.0000000e+00, 0.0000000e+00, 0.0000000e+00, 0.0000000e+00,\n",
       "        1.4531293e-28, 0.0000000e+00, 0.0000000e+00, 1.0000000e+00,\n",
       "        1.3113543e-31, 0.0000000e+00, 0.0000000e+00, 1.4048953e-36,\n",
       "        2.7361022e-38, 6.7261716e-37, 1.2858410e-27, 0.0000000e+00,\n",
       "        4.4709710e-35, 0.0000000e+00, 5.0831109e-37, 4.3812779e-23,\n",
       "        1.0756512e-36, 2.4115216e-20, 7.3346629e-29, 0.0000000e+00,\n",
       "        0.0000000e+00, 0.0000000e+00, 0.0000000e+00, 0.0000000e+00,\n",
       "        0.0000000e+00, 0.0000000e+00, 0.0000000e+00, 3.7274902e-37,\n",
       "        0.0000000e+00, 2.1810447e-38, 6.5821220e-38, 0.0000000e+00,\n",
       "        6.7661836e-31, 0.0000000e+00, 0.0000000e+00, 0.0000000e+00,\n",
       "        1.2565060e-33, 1.2973356e-27, 0.0000000e+00, 0.0000000e+00]],\n",
       "      dtype=float32)"
      ]
     },
     "execution_count": 41,
     "metadata": {},
     "output_type": "execute_result"
    }
   ],
   "source": [
    "pred = model.predict(img, verbose=0)\n",
    "pred"
   ]
  },
  {
   "cell_type": "code",
   "execution_count": 42,
   "id": "f4fd4cba",
   "metadata": {
    "execution": {
     "iopub.execute_input": "2023-03-01T17:21:24.231200Z",
     "iopub.status.busy": "2023-03-01T17:21:24.230855Z",
     "iopub.status.idle": "2023-03-01T17:21:24.237439Z",
     "shell.execute_reply": "2023-03-01T17:21:24.236546Z"
    },
    "papermill": {
     "duration": 0.100927,
     "end_time": "2023-03-01T17:21:24.239327",
     "exception": false,
     "start_time": "2023-03-01T17:21:24.138400",
     "status": "completed"
    },
    "tags": []
   },
   "outputs": [
    {
     "data": {
      "text/plain": [
       "83"
      ]
     },
     "execution_count": 42,
     "metadata": {},
     "output_type": "execute_result"
    }
   ],
   "source": [
    "val = np.argmax(pred)\n",
    "val"
   ]
  },
  {
   "cell_type": "code",
   "execution_count": 43,
   "id": "e16623b8",
   "metadata": {
    "execution": {
     "iopub.execute_input": "2023-03-01T17:21:24.434042Z",
     "iopub.status.busy": "2023-03-01T17:21:24.433292Z",
     "iopub.status.idle": "2023-03-01T17:21:24.440052Z",
     "shell.execute_reply": "2023-03-01T17:21:24.438994Z"
    },
    "papermill": {
     "duration": 0.109916,
     "end_time": "2023-03-01T17:21:24.442479",
     "exception": false,
     "start_time": "2023-03-01T17:21:24.332563",
     "status": "completed"
    },
    "tags": []
   },
   "outputs": [
    {
     "data": {
      "text/plain": [
       "'Doberman'"
      ]
     },
     "execution_count": 43,
     "metadata": {},
     "output_type": "execute_result"
    }
   ],
   "source": [
    "name = int(val)\n",
    "labels_list[name]"
   ]
  },
  {
   "cell_type": "code",
   "execution_count": null,
   "id": "0bf6988e",
   "metadata": {
    "papermill": {
     "duration": 0.090551,
     "end_time": "2023-03-01T17:21:24.623417",
     "exception": false,
     "start_time": "2023-03-01T17:21:24.532866",
     "status": "completed"
    },
    "tags": []
   },
   "outputs": [],
   "source": []
  }
 ],
 "metadata": {
  "kernelspec": {
   "display_name": "Python 3",
   "language": "python",
   "name": "python3"
  },
  "language_info": {
   "codemirror_mode": {
    "name": "ipython",
    "version": 3
   },
   "file_extension": ".py",
   "mimetype": "text/x-python",
   "name": "python",
   "nbconvert_exporter": "python",
   "pygments_lexer": "ipython3",
   "version": "3.7.12"
  },
  "papermill": {
   "default_parameters": {},
   "duration": 1074.608721,
   "end_time": "2023-03-01T17:21:27.999100",
   "environment_variables": {},
   "exception": null,
   "input_path": "__notebook__.ipynb",
   "output_path": "__notebook__.ipynb",
   "parameters": {},
   "start_time": "2023-03-01T17:03:33.390379",
   "version": "2.3.4"
  }
 },
 "nbformat": 4,
 "nbformat_minor": 5
}
