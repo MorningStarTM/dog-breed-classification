{
 "cells": [
  {
   "cell_type": "code",
   "execution_count": 1,
   "id": "b6d9aee5",
   "metadata": {
    "execution": {
     "iopub.execute_input": "2023-03-01T20:38:26.588236Z",
     "iopub.status.busy": "2023-03-01T20:38:26.587757Z",
     "iopub.status.idle": "2023-03-01T20:38:34.476348Z",
     "shell.execute_reply": "2023-03-01T20:38:34.475396Z"
    },
    "papermill": {
     "duration": 7.903252,
     "end_time": "2023-03-01T20:38:34.479142",
     "exception": false,
     "start_time": "2023-03-01T20:38:26.575890",
     "status": "completed"
    },
    "tags": []
   },
   "outputs": [],
   "source": [
    "#import libraries\n",
    "import numpy as np\n",
    "import os\n",
    "import cv2\n",
    "import itertools\n",
    "import matplotlib.pyplot as plt\n",
    "import tensorflow as tf\n",
    "from glob import glob\n",
    "from tensorflow.keras.layers import Dense, Conv2D, MaxPooling2D, Flatten, Dropout, Input\n",
    "from tensorflow.keras.models import Model\n",
    "from tensorflow.keras.applications.vgg16 import VGG16\n",
    "from tensorflow.keras.applications.inception_v3 import InceptionV3\n",
    "from tensorflow.keras.callbacks import Callback, ReduceLROnPlateau, ModelCheckpoint, CSVLogger\n",
    "from sklearn.model_selection import train_test_split\n",
    "from sklearn.metrics import confusion_matrix\n",
    "from sklearn import metrics\n",
    "from sklearn.utils import shuffle"
   ]
  },
  {
   "cell_type": "code",
   "execution_count": 2,
   "id": "e3b60470",
   "metadata": {
    "execution": {
     "iopub.execute_input": "2023-03-01T20:38:34.499163Z",
     "iopub.status.busy": "2023-03-01T20:38:34.498635Z",
     "iopub.status.idle": "2023-03-01T20:38:34.503228Z",
     "shell.execute_reply": "2023-03-01T20:38:34.502180Z"
    },
    "papermill": {
     "duration": 0.016664,
     "end_time": "2023-03-01T20:38:34.505445",
     "exception": false,
     "start_time": "2023-03-01T20:38:34.488781",
     "status": "completed"
    },
    "tags": []
   },
   "outputs": [],
   "source": [
    "path = \"/kaggle/input/120-dog-breeds-breed-classification/Images\""
   ]
  },
  {
   "cell_type": "code",
   "execution_count": 3,
   "id": "eacb9865",
   "metadata": {
    "execution": {
     "iopub.execute_input": "2023-03-01T20:38:34.524601Z",
     "iopub.status.busy": "2023-03-01T20:38:34.523840Z",
     "iopub.status.idle": "2023-03-01T20:38:34.528814Z",
     "shell.execute_reply": "2023-03-01T20:38:34.527986Z"
    },
    "papermill": {
     "duration": 0.016459,
     "end_time": "2023-03-01T20:38:34.530687",
     "exception": false,
     "start_time": "2023-03-01T20:38:34.514228",
     "status": "completed"
    },
    "tags": []
   },
   "outputs": [],
   "source": [
    "#parameters\n",
    "IMAGE_SIZE = [224, 224]\n",
    "channel = 3\n",
    "W, H = 224,224\n",
    "num_class = 120\n",
    "batch_size = 32"
   ]
  },
  {
   "cell_type": "markdown",
   "id": "585fbb35",
   "metadata": {
    "papermill": {
     "duration": 0.008611,
     "end_time": "2023-03-01T20:38:34.548154",
     "exception": false,
     "start_time": "2023-03-01T20:38:34.539543",
     "status": "completed"
    },
    "tags": []
   },
   "source": [
    "# Basic Function"
   ]
  },
  {
   "cell_type": "code",
   "execution_count": 4,
   "id": "d03e4372",
   "metadata": {
    "execution": {
     "iopub.execute_input": "2023-03-01T20:38:34.568317Z",
     "iopub.status.busy": "2023-03-01T20:38:34.567436Z",
     "iopub.status.idle": "2023-03-01T20:38:34.572281Z",
     "shell.execute_reply": "2023-03-01T20:38:34.571424Z"
    },
    "papermill": {
     "duration": 0.016681,
     "end_time": "2023-03-01T20:38:34.574214",
     "exception": false,
     "start_time": "2023-03-01T20:38:34.557533",
     "status": "completed"
    },
    "tags": []
   },
   "outputs": [],
   "source": [
    "#get directory of images\n",
    "def get_labels(path):\n",
    "  files = os.listdir(path)\n",
    "  return files"
   ]
  },
  {
   "cell_type": "code",
   "execution_count": 5,
   "id": "e4dcdb2d",
   "metadata": {
    "execution": {
     "iopub.execute_input": "2023-03-01T20:38:34.593683Z",
     "iopub.status.busy": "2023-03-01T20:38:34.592847Z",
     "iopub.status.idle": "2023-03-01T20:38:34.598219Z",
     "shell.execute_reply": "2023-03-01T20:38:34.597422Z"
    },
    "papermill": {
     "duration": 0.016936,
     "end_time": "2023-03-01T20:38:34.600150",
     "exception": false,
     "start_time": "2023-03-01T20:38:34.583214",
     "status": "completed"
    },
    "tags": []
   },
   "outputs": [],
   "source": [
    "#split the name and unique address\n",
    "def get_splited_name(labels):\n",
    "  splited_list = []\n",
    "  labels_list = []\n",
    "  for i in labels:\n",
    "    splited = i.split('-')\n",
    "    labels_list.append(splited[-1])\n",
    "    splited_list.append(splited)\n",
    "  \n",
    "  return splited_list, labels_list"
   ]
  },
  {
   "cell_type": "code",
   "execution_count": 6,
   "id": "5b5fd430",
   "metadata": {
    "execution": {
     "iopub.execute_input": "2023-03-01T20:38:34.620386Z",
     "iopub.status.busy": "2023-03-01T20:38:34.618882Z",
     "iopub.status.idle": "2023-03-01T20:38:34.624200Z",
     "shell.execute_reply": "2023-03-01T20:38:34.623382Z"
    },
    "papermill": {
     "duration": 0.017199,
     "end_time": "2023-03-01T20:38:34.626137",
     "exception": false,
     "start_time": "2023-03-01T20:38:34.608938",
     "status": "completed"
    },
    "tags": []
   },
   "outputs": [],
   "source": [
    "#create dictionary for name and unique address\n",
    "def get_name_index(splited_list):\n",
    "  new_list = [{item[0]: item[1]} for item in splited_list]\n",
    "  return new_list"
   ]
  },
  {
   "cell_type": "code",
   "execution_count": 7,
   "id": "04171ec5",
   "metadata": {
    "execution": {
     "iopub.execute_input": "2023-03-01T20:38:34.645294Z",
     "iopub.status.busy": "2023-03-01T20:38:34.644481Z",
     "iopub.status.idle": "2023-03-01T20:38:34.660283Z",
     "shell.execute_reply": "2023-03-01T20:38:34.659449Z"
    },
    "papermill": {
     "duration": 0.027283,
     "end_time": "2023-03-01T20:38:34.662212",
     "exception": false,
     "start_time": "2023-03-01T20:38:34.634929",
     "status": "completed"
    },
    "tags": []
   },
   "outputs": [],
   "source": [
    "folder = get_labels(path)\n",
    "splited_list, labels_list = get_splited_name(folder)\n",
    "index_list = get_name_index(splited_list)"
   ]
  },
  {
   "cell_type": "code",
   "execution_count": 8,
   "id": "5c25b6c5",
   "metadata": {
    "execution": {
     "iopub.execute_input": "2023-03-01T20:38:34.681480Z",
     "iopub.status.busy": "2023-03-01T20:38:34.680606Z",
     "iopub.status.idle": "2023-03-01T20:38:34.690123Z",
     "shell.execute_reply": "2023-03-01T20:38:34.689266Z"
    },
    "papermill": {
     "duration": 0.021301,
     "end_time": "2023-03-01T20:38:34.692309",
     "exception": false,
     "start_time": "2023-03-01T20:38:34.671008",
     "status": "completed"
    },
    "tags": []
   },
   "outputs": [
    {
     "data": {
      "text/plain": [
       "['otterhound',\n",
       " 'cocker_spaniel',\n",
       " 'Brittany_spaniel',\n",
       " 'Afghan_hound',\n",
       " 'Maltese_dog',\n",
       " 'schipperke',\n",
       " 'Irish_setter',\n",
       " 'Pekinese',\n",
       " 'golden_retriever',\n",
       " 'vizsla',\n",
       " 'Welsh_springer_spaniel',\n",
       " 'Staffordshire_bullterrier',\n",
       " 'Border_collie',\n",
       " 'Irish_terrier',\n",
       " 'Eskimo_dog',\n",
       " 'pug',\n",
       " 'kelpie',\n",
       " 'Yorkshire_terrier',\n",
       " 'Tibetan_terrier',\n",
       " 'Walker_hound',\n",
       " 'affenpinscher',\n",
       " 'Cardigan',\n",
       " 'English_springer',\n",
       " 'English_foxhound',\n",
       " 'West_Highland_white_terrier',\n",
       " 'Lakeland_terrier',\n",
       " 'Rhodesian_ridgeback',\n",
       " 'Gordon_setter',\n",
       " 'Lhasa',\n",
       " 'coated_retriever',\n",
       " 'beagle',\n",
       " 'Tibetan_mastiff',\n",
       " 'Sussex_spaniel',\n",
       " 'Saint_Bernard',\n",
       " 'toy_terrier',\n",
       " 'standard_poodle',\n",
       " 'Bernese_mountain_dog',\n",
       " 'Pomeranian',\n",
       " 'Ibizan_hound',\n",
       " 'redbone',\n",
       " 'toy_poodle',\n",
       " 'basset',\n",
       " 'Scottish_deerhound',\n",
       " 'miniature_pinscher',\n",
       " 'basenji',\n",
       " 'Border_terrier',\n",
       " 'Bedlington_terrier',\n",
       " 'Kerry_blue_terrier',\n",
       " 'Weimaraner',\n",
       " 'English_setter',\n",
       " 'bluetick',\n",
       " 'Boston_bull',\n",
       " 'Italian_greyhound',\n",
       " 'Dandie_Dinmont',\n",
       " 'Airedale',\n",
       " 'Irish_water_spaniel',\n",
       " 'Norfolk_terrier',\n",
       " 'haired_fox_terrier',\n",
       " 'French_bulldog',\n",
       " 'coated_wheaten_terrier',\n",
       " 'komondor',\n",
       " 'African_hunting_dog',\n",
       " 'Siberian_husky',\n",
       " 'Newfoundland',\n",
       " 'Bouvier_des_Flandres',\n",
       " 'Saluki',\n",
       " 'Shetland_sheepdog',\n",
       " 'collie',\n",
       " 'Rottweiler',\n",
       " 'silky_terrier',\n",
       " 'Norwegian_elkhound',\n",
       " 'Chihuahua',\n",
       " 'Leonberg',\n",
       " 'Norwich_terrier',\n",
       " 'cairn',\n",
       " 'boxer',\n",
       " 'borzoi',\n",
       " 'dhole',\n",
       " 'Samoyed',\n",
       " 'German_shepherd',\n",
       " 'Labrador_retriever',\n",
       " 'Blenheim_spaniel',\n",
       " 'groenendael',\n",
       " 'Doberman',\n",
       " 'Great_Dane',\n",
       " 'coated_retriever',\n",
       " 'Appenzeller',\n",
       " 'Tzu',\n",
       " 'Japanese_spaniel',\n",
       " 'Greater_Swiss_Mountain_dog',\n",
       " 'tan_coonhound',\n",
       " 'dingo',\n",
       " 'Great_Pyrenees',\n",
       " 'whippet',\n",
       " 'keeshond',\n",
       " 'malinois',\n",
       " 'American_Staffordshire_terrier',\n",
       " 'Mexican_hairless',\n",
       " 'giant_schnauzer',\n",
       " 'Brabancon_griffon',\n",
       " 'kuvasz',\n",
       " 'miniature_poodle',\n",
       " 'Irish_wolfhound',\n",
       " 'briard',\n",
       " 'clumber',\n",
       " 'standard_schnauzer',\n",
       " 'bull_mastiff',\n",
       " 'malamute',\n",
       " 'Sealyham_terrier',\n",
       " 'EntleBucher',\n",
       " 'chow',\n",
       " 'papillon',\n",
       " 'Pembroke',\n",
       " 'haired_pointer',\n",
       " 'Old_English_sheepdog',\n",
       " 'Chesapeake_Bay_retriever',\n",
       " 'Scotch_terrier',\n",
       " 'Australian_terrier',\n",
       " 'miniature_schnauzer',\n",
       " 'bloodhound']"
      ]
     },
     "execution_count": 8,
     "metadata": {},
     "output_type": "execute_result"
    }
   ],
   "source": [
    "labels_list"
   ]
  },
  {
   "cell_type": "code",
   "execution_count": 9,
   "id": "e01f1569",
   "metadata": {
    "execution": {
     "iopub.execute_input": "2023-03-01T20:38:34.712179Z",
     "iopub.status.busy": "2023-03-01T20:38:34.711400Z",
     "iopub.status.idle": "2023-03-01T20:38:34.721111Z",
     "shell.execute_reply": "2023-03-01T20:38:34.720144Z"
    },
    "papermill": {
     "duration": 0.021417,
     "end_time": "2023-03-01T20:38:34.723042",
     "exception": false,
     "start_time": "2023-03-01T20:38:34.701625",
     "status": "completed"
    },
    "tags": []
   },
   "outputs": [
    {
     "data": {
      "text/plain": [
       "[{'n02091635': 'otterhound'},\n",
       " {'n02102318': 'cocker_spaniel'},\n",
       " {'n02101388': 'Brittany_spaniel'},\n",
       " {'n02088094': 'Afghan_hound'},\n",
       " {'n02085936': 'Maltese_dog'},\n",
       " {'n02104365': 'schipperke'},\n",
       " {'n02100877': 'Irish_setter'},\n",
       " {'n02086079': 'Pekinese'},\n",
       " {'n02099601': 'golden_retriever'},\n",
       " {'n02100583': 'vizsla'},\n",
       " {'n02102177': 'Welsh_springer_spaniel'},\n",
       " {'n02093256': 'Staffordshire_bullterrier'},\n",
       " {'n02106166': 'Border_collie'},\n",
       " {'n02093991': 'Irish_terrier'},\n",
       " {'n02109961': 'Eskimo_dog'},\n",
       " {'n02110958': 'pug'},\n",
       " {'n02105412': 'kelpie'},\n",
       " {'n02094433': 'Yorkshire_terrier'},\n",
       " {'n02097474': 'Tibetan_terrier'},\n",
       " {'n02089867': 'Walker_hound'},\n",
       " {'n02110627': 'affenpinscher'},\n",
       " {'n02113186': 'Cardigan'},\n",
       " {'n02102040': 'English_springer'},\n",
       " {'n02089973': 'English_foxhound'},\n",
       " {'n02098286': 'West_Highland_white_terrier'},\n",
       " {'n02095570': 'Lakeland_terrier'},\n",
       " {'n02087394': 'Rhodesian_ridgeback'},\n",
       " {'n02101006': 'Gordon_setter'},\n",
       " {'n02098413': 'Lhasa'},\n",
       " {'n02099429': 'curly'},\n",
       " {'n02088364': 'beagle'},\n",
       " {'n02108551': 'Tibetan_mastiff'},\n",
       " {'n02102480': 'Sussex_spaniel'},\n",
       " {'n02109525': 'Saint_Bernard'},\n",
       " {'n02087046': 'toy_terrier'},\n",
       " {'n02113799': 'standard_poodle'},\n",
       " {'n02107683': 'Bernese_mountain_dog'},\n",
       " {'n02112018': 'Pomeranian'},\n",
       " {'n02091244': 'Ibizan_hound'},\n",
       " {'n02090379': 'redbone'},\n",
       " {'n02113624': 'toy_poodle'},\n",
       " {'n02088238': 'basset'},\n",
       " {'n02092002': 'Scottish_deerhound'},\n",
       " {'n02107312': 'miniature_pinscher'},\n",
       " {'n02110806': 'basenji'},\n",
       " {'n02093754': 'Border_terrier'},\n",
       " {'n02093647': 'Bedlington_terrier'},\n",
       " {'n02093859': 'Kerry_blue_terrier'},\n",
       " {'n02092339': 'Weimaraner'},\n",
       " {'n02100735': 'English_setter'},\n",
       " {'n02088632': 'bluetick'},\n",
       " {'n02096585': 'Boston_bull'},\n",
       " {'n02091032': 'Italian_greyhound'},\n",
       " {'n02096437': 'Dandie_Dinmont'},\n",
       " {'n02096051': 'Airedale'},\n",
       " {'n02102973': 'Irish_water_spaniel'},\n",
       " {'n02094114': 'Norfolk_terrier'},\n",
       " {'n02095314': 'wire'},\n",
       " {'n02108915': 'French_bulldog'},\n",
       " {'n02098105': 'soft'},\n",
       " {'n02105505': 'komondor'},\n",
       " {'n02116738': 'African_hunting_dog'},\n",
       " {'n02110185': 'Siberian_husky'},\n",
       " {'n02111277': 'Newfoundland'},\n",
       " {'n02106382': 'Bouvier_des_Flandres'},\n",
       " {'n02091831': 'Saluki'},\n",
       " {'n02105855': 'Shetland_sheepdog'},\n",
       " {'n02106030': 'collie'},\n",
       " {'n02106550': 'Rottweiler'},\n",
       " {'n02097658': 'silky_terrier'},\n",
       " {'n02091467': 'Norwegian_elkhound'},\n",
       " {'n02085620': 'Chihuahua'},\n",
       " {'n02111129': 'Leonberg'},\n",
       " {'n02094258': 'Norwich_terrier'},\n",
       " {'n02096177': 'cairn'},\n",
       " {'n02108089': 'boxer'},\n",
       " {'n02090622': 'borzoi'},\n",
       " {'n02115913': 'dhole'},\n",
       " {'n02111889': 'Samoyed'},\n",
       " {'n02106662': 'German_shepherd'},\n",
       " {'n02099712': 'Labrador_retriever'},\n",
       " {'n02086646': 'Blenheim_spaniel'},\n",
       " {'n02105056': 'groenendael'},\n",
       " {'n02107142': 'Doberman'},\n",
       " {'n02109047': 'Great_Dane'},\n",
       " {'n02099267': 'flat'},\n",
       " {'n02107908': 'Appenzeller'},\n",
       " {'n02086240': 'Shih'},\n",
       " {'n02085782': 'Japanese_spaniel'},\n",
       " {'n02107574': 'Greater_Swiss_Mountain_dog'},\n",
       " {'n02089078': 'black'},\n",
       " {'n02115641': 'dingo'},\n",
       " {'n02111500': 'Great_Pyrenees'},\n",
       " {'n02091134': 'whippet'},\n",
       " {'n02112350': 'keeshond'},\n",
       " {'n02105162': 'malinois'},\n",
       " {'n02093428': 'American_Staffordshire_terrier'},\n",
       " {'n02113978': 'Mexican_hairless'},\n",
       " {'n02097130': 'giant_schnauzer'},\n",
       " {'n02112706': 'Brabancon_griffon'},\n",
       " {'n02104029': 'kuvasz'},\n",
       " {'n02113712': 'miniature_poodle'},\n",
       " {'n02090721': 'Irish_wolfhound'},\n",
       " {'n02105251': 'briard'},\n",
       " {'n02101556': 'clumber'},\n",
       " {'n02097209': 'standard_schnauzer'},\n",
       " {'n02108422': 'bull_mastiff'},\n",
       " {'n02110063': 'malamute'},\n",
       " {'n02095889': 'Sealyham_terrier'},\n",
       " {'n02108000': 'EntleBucher'},\n",
       " {'n02112137': 'chow'},\n",
       " {'n02086910': 'papillon'},\n",
       " {'n02113023': 'Pembroke'},\n",
       " {'n02100236': 'German_short'},\n",
       " {'n02105641': 'Old_English_sheepdog'},\n",
       " {'n02099849': 'Chesapeake_Bay_retriever'},\n",
       " {'n02097298': 'Scotch_terrier'},\n",
       " {'n02096294': 'Australian_terrier'},\n",
       " {'n02097047': 'miniature_schnauzer'},\n",
       " {'n02088466': 'bloodhound'}]"
      ]
     },
     "execution_count": 9,
     "metadata": {},
     "output_type": "execute_result"
    }
   ],
   "source": [
    "index_list"
   ]
  },
  {
   "cell_type": "code",
   "execution_count": 10,
   "id": "4fab6ad9",
   "metadata": {
    "execution": {
     "iopub.execute_input": "2023-03-01T20:38:34.743040Z",
     "iopub.status.busy": "2023-03-01T20:38:34.742595Z",
     "iopub.status.idle": "2023-03-01T20:38:34.746312Z",
     "shell.execute_reply": "2023-03-01T20:38:34.745415Z"
    },
    "papermill": {
     "duration": 0.01591,
     "end_time": "2023-03-01T20:38:34.748188",
     "exception": false,
     "start_time": "2023-03-01T20:38:34.732278",
     "status": "completed"
    },
    "tags": []
   },
   "outputs": [],
   "source": [
    "num_classes = len(index_list)"
   ]
  },
  {
   "cell_type": "code",
   "execution_count": 11,
   "id": "7b94d18a",
   "metadata": {
    "execution": {
     "iopub.execute_input": "2023-03-01T20:38:34.768221Z",
     "iopub.status.busy": "2023-03-01T20:38:34.767428Z",
     "iopub.status.idle": "2023-03-01T20:38:34.773187Z",
     "shell.execute_reply": "2023-03-01T20:38:34.772295Z"
    },
    "papermill": {
     "duration": 0.017671,
     "end_time": "2023-03-01T20:38:34.775140",
     "exception": false,
     "start_time": "2023-03-01T20:38:34.757469",
     "status": "completed"
    },
    "tags": []
   },
   "outputs": [
    {
     "data": {
      "text/plain": [
       "120"
      ]
     },
     "execution_count": 11,
     "metadata": {},
     "output_type": "execute_result"
    }
   ],
   "source": [
    "num_classes"
   ]
  },
  {
   "cell_type": "markdown",
   "id": "a676ea3a",
   "metadata": {
    "papermill": {
     "duration": 0.009078,
     "end_time": "2023-03-01T20:38:34.793441",
     "exception": false,
     "start_time": "2023-03-01T20:38:34.784363",
     "status": "completed"
    },
    "tags": []
   },
   "source": [
    "# Data Pipeline"
   ]
  },
  {
   "cell_type": "code",
   "execution_count": 12,
   "id": "26b1beef",
   "metadata": {
    "execution": {
     "iopub.execute_input": "2023-03-01T20:38:34.813539Z",
     "iopub.status.busy": "2023-03-01T20:38:34.812719Z",
     "iopub.status.idle": "2023-03-01T20:38:34.818179Z",
     "shell.execute_reply": "2023-03-01T20:38:34.817392Z"
    },
    "papermill": {
     "duration": 0.017396,
     "end_time": "2023-03-01T20:38:34.820134",
     "exception": false,
     "start_time": "2023-03-01T20:38:34.802738",
     "status": "completed"
    },
    "tags": []
   },
   "outputs": [],
   "source": [
    "def load_data(path, split=0.3):\n",
    "  images = shuffle(glob(os.path.join(path,\"*\",\"*.jpg\")))\n",
    "  split_size = int(len(images)*split)\n",
    "  #split data\n",
    "  train_data, test_data = train_test_split(images, test_size=split_size, random_state=42)\n",
    "  #train_data, test_data = train_test_split(train_data, test_size=split_size, random_state=42)\n",
    "\n",
    "  return train_data, test_data"
   ]
  },
  {
   "cell_type": "code",
   "execution_count": 13,
   "id": "6ff47fd9",
   "metadata": {
    "execution": {
     "iopub.execute_input": "2023-03-01T20:38:34.840414Z",
     "iopub.status.busy": "2023-03-01T20:38:34.839568Z",
     "iopub.status.idle": "2023-03-01T20:38:39.360633Z",
     "shell.execute_reply": "2023-03-01T20:38:39.359655Z"
    },
    "papermill": {
     "duration": 4.533489,
     "end_time": "2023-03-01T20:38:39.363001",
     "exception": false,
     "start_time": "2023-03-01T20:38:34.829512",
     "status": "completed"
    },
    "tags": []
   },
   "outputs": [],
   "source": [
    "train_data, test_data = load_data(path)"
   ]
  },
  {
   "cell_type": "code",
   "execution_count": 14,
   "id": "c097bfc9",
   "metadata": {
    "execution": {
     "iopub.execute_input": "2023-03-01T20:38:39.384966Z",
     "iopub.status.busy": "2023-03-01T20:38:39.383373Z",
     "iopub.status.idle": "2023-03-01T20:38:39.390380Z",
     "shell.execute_reply": "2023-03-01T20:38:39.389241Z"
    },
    "papermill": {
     "duration": 0.020138,
     "end_time": "2023-03-01T20:38:39.392949",
     "exception": false,
     "start_time": "2023-03-01T20:38:39.372811",
     "status": "completed"
    },
    "tags": []
   },
   "outputs": [
    {
     "name": "stdout",
     "output_type": "stream",
     "text": [
      "train data: 14406\n",
      "test data: 6174\n"
     ]
    }
   ],
   "source": [
    "print(f'train data: {len(train_data)}')\n",
    "print(f'test data: {len(test_data)}')"
   ]
  },
  {
   "cell_type": "code",
   "execution_count": 15,
   "id": "0cb28913",
   "metadata": {
    "execution": {
     "iopub.execute_input": "2023-03-01T20:38:39.413361Z",
     "iopub.status.busy": "2023-03-01T20:38:39.413054Z",
     "iopub.status.idle": "2023-03-01T20:38:39.419068Z",
     "shell.execute_reply": "2023-03-01T20:38:39.418179Z"
    },
    "papermill": {
     "duration": 0.018357,
     "end_time": "2023-03-01T20:38:39.420955",
     "exception": false,
     "start_time": "2023-03-01T20:38:39.402598",
     "status": "completed"
    },
    "tags": []
   },
   "outputs": [
    {
     "data": {
      "text/plain": [
       "'/kaggle/input/120-dog-breeds-breed-classification/Images/n02093754-Border_terrier/n02093754_1861.jpg'"
      ]
     },
     "execution_count": 15,
     "metadata": {},
     "output_type": "execute_result"
    }
   ],
   "source": [
    "train_data[0]"
   ]
  },
  {
   "cell_type": "code",
   "execution_count": 16,
   "id": "2f6920ab",
   "metadata": {
    "execution": {
     "iopub.execute_input": "2023-03-01T20:38:39.442011Z",
     "iopub.status.busy": "2023-03-01T20:38:39.441003Z",
     "iopub.status.idle": "2023-03-01T20:38:39.448315Z",
     "shell.execute_reply": "2023-03-01T20:38:39.447322Z"
    },
    "papermill": {
     "duration": 0.019944,
     "end_time": "2023-03-01T20:38:39.450497",
     "exception": false,
     "start_time": "2023-03-01T20:38:39.430553",
     "status": "completed"
    },
    "tags": []
   },
   "outputs": [],
   "source": [
    "def process_image(path):\n",
    "    #decode the path\n",
    "    path = path.decode()\n",
    "    #read image\n",
    "    image = cv2.imread(path, cv2.IMREAD_COLOR)\n",
    "    #resize the image\n",
    "    image = cv2.resize(image, [W, H])\n",
    "    #scale the image\n",
    "    image = image / 255.0\n",
    "    #change the data type of image\n",
    "    image = image.astype(np.float32)\n",
    "\n",
    "    #labeling the image\n",
    "    class_name = path.split(\"/\")[-2].split('-')[-1]\n",
    "    class_idx = labels_list.index(class_name)\n",
    "    class_idx = np.array(class_idx, dtype=np.int32)\n",
    "\n",
    "    return image, class_idx"
   ]
  },
  {
   "cell_type": "code",
   "execution_count": 17,
   "id": "5b77a066",
   "metadata": {
    "execution": {
     "iopub.execute_input": "2023-03-01T20:38:39.470706Z",
     "iopub.status.busy": "2023-03-01T20:38:39.470421Z",
     "iopub.status.idle": "2023-03-01T20:38:39.475408Z",
     "shell.execute_reply": "2023-03-01T20:38:39.474456Z"
    },
    "papermill": {
     "duration": 0.017639,
     "end_time": "2023-03-01T20:38:39.477597",
     "exception": false,
     "start_time": "2023-03-01T20:38:39.459958",
     "status": "completed"
    },
    "tags": []
   },
   "outputs": [],
   "source": [
    "def parse(path):\n",
    "    image, labels = tf.numpy_function(process_image, [path], (tf.float32, tf.int32))\n",
    "    labels = tf.one_hot(labels, num_class)\n",
    "    image.set_shape([224, 224, 3])\n",
    "    labels.set_shape(num_class)\n",
    "  \n",
    "    return image, labels"
   ]
  },
  {
   "cell_type": "code",
   "execution_count": 18,
   "id": "2e0ac651",
   "metadata": {
    "execution": {
     "iopub.execute_input": "2023-03-01T20:38:39.499086Z",
     "iopub.status.busy": "2023-03-01T20:38:39.498572Z",
     "iopub.status.idle": "2023-03-01T20:38:39.503617Z",
     "shell.execute_reply": "2023-03-01T20:38:39.502500Z"
    },
    "papermill": {
     "duration": 0.018483,
     "end_time": "2023-03-01T20:38:39.505764",
     "exception": false,
     "start_time": "2023-03-01T20:38:39.487281",
     "status": "completed"
    },
    "tags": []
   },
   "outputs": [],
   "source": [
    "#tensorflow dataset\n",
    "def tf_dataset(images, batch=64):\n",
    "    dataset = tf.data.Dataset.from_tensor_slices((images))\n",
    "    dataset = dataset.map(parse)\n",
    "    dataset = dataset.batch(batch_size)\n",
    "    dataset = dataset.prefetch(64)\n",
    "    return dataset"
   ]
  },
  {
   "cell_type": "markdown",
   "id": "f067d2e7",
   "metadata": {
    "papermill": {
     "duration": 0.00927,
     "end_time": "2023-03-01T20:38:39.525216",
     "exception": false,
     "start_time": "2023-03-01T20:38:39.515946",
     "status": "completed"
    },
    "tags": []
   },
   "source": [
    "# Model 1 - VGG16"
   ]
  },
  {
   "cell_type": "code",
   "execution_count": 19,
   "id": "03588994",
   "metadata": {
    "execution": {
     "iopub.execute_input": "2023-03-01T20:38:39.545415Z",
     "iopub.status.busy": "2023-03-01T20:38:39.545136Z",
     "iopub.status.idle": "2023-03-01T20:38:42.972354Z",
     "shell.execute_reply": "2023-03-01T20:38:42.971363Z"
    },
    "papermill": {
     "duration": 3.440219,
     "end_time": "2023-03-01T20:38:42.974953",
     "exception": false,
     "start_time": "2023-03-01T20:38:39.534734",
     "status": "completed"
    },
    "tags": []
   },
   "outputs": [
    {
     "name": "stdout",
     "output_type": "stream",
     "text": [
      "Downloading data from https://storage.googleapis.com/tensorflow/keras-applications/vgg16/vgg16_weights_tf_dim_ordering_tf_kernels_notop.h5\n",
      "58889256/58889256 [==============================] - 0s 0us/step\n"
     ]
    }
   ],
   "source": [
    "vgg = VGG16(input_shape=IMAGE_SIZE + [3], weights='imagenet', include_top=False)"
   ]
  },
  {
   "cell_type": "code",
   "execution_count": 20,
   "id": "a313cd41",
   "metadata": {
    "execution": {
     "iopub.execute_input": "2023-03-01T20:38:42.998225Z",
     "iopub.status.busy": "2023-03-01T20:38:42.996537Z",
     "iopub.status.idle": "2023-03-01T20:38:43.002482Z",
     "shell.execute_reply": "2023-03-01T20:38:43.001555Z"
    },
    "papermill": {
     "duration": 0.019164,
     "end_time": "2023-03-01T20:38:43.004573",
     "exception": false,
     "start_time": "2023-03-01T20:38:42.985409",
     "status": "completed"
    },
    "tags": []
   },
   "outputs": [],
   "source": [
    "#freeze training existing layer\n",
    "for layer in vgg.layers:\n",
    "  layer.trainable = False"
   ]
  },
  {
   "cell_type": "code",
   "execution_count": 21,
   "id": "1c510e7a",
   "metadata": {
    "execution": {
     "iopub.execute_input": "2023-03-01T20:38:43.026218Z",
     "iopub.status.busy": "2023-03-01T20:38:43.025461Z",
     "iopub.status.idle": "2023-03-01T20:38:43.037554Z",
     "shell.execute_reply": "2023-03-01T20:38:43.036721Z"
    },
    "papermill": {
     "duration": 0.025072,
     "end_time": "2023-03-01T20:38:43.039539",
     "exception": false,
     "start_time": "2023-03-01T20:38:43.014467",
     "status": "completed"
    },
    "tags": []
   },
   "outputs": [],
   "source": [
    "#build our layers\n",
    "x = Flatten()(vgg.output)"
   ]
  },
  {
   "cell_type": "code",
   "execution_count": 22,
   "id": "e68e3c0a",
   "metadata": {
    "execution": {
     "iopub.execute_input": "2023-03-01T20:38:43.060750Z",
     "iopub.status.busy": "2023-03-01T20:38:43.060486Z",
     "iopub.status.idle": "2023-03-01T20:38:43.076233Z",
     "shell.execute_reply": "2023-03-01T20:38:43.075403Z"
    },
    "papermill": {
     "duration": 0.028586,
     "end_time": "2023-03-01T20:38:43.078154",
     "exception": false,
     "start_time": "2023-03-01T20:38:43.049568",
     "status": "completed"
    },
    "tags": []
   },
   "outputs": [],
   "source": [
    "#set last layer\n",
    "prediction_layer = Dense(num_classes, activation='softmax' )(x)\n",
    "#declare the model\n",
    "model_I = Model(inputs=vgg.input, outputs=prediction_layer)"
   ]
  },
  {
   "cell_type": "code",
   "execution_count": 23,
   "id": "f1ceda14",
   "metadata": {
    "execution": {
     "iopub.execute_input": "2023-03-01T20:38:43.099517Z",
     "iopub.status.busy": "2023-03-01T20:38:43.098797Z",
     "iopub.status.idle": "2023-03-01T20:38:43.147322Z",
     "shell.execute_reply": "2023-03-01T20:38:43.146463Z"
    },
    "papermill": {
     "duration": 0.090648,
     "end_time": "2023-03-01T20:38:43.178715",
     "exception": false,
     "start_time": "2023-03-01T20:38:43.088067",
     "status": "completed"
    },
    "tags": []
   },
   "outputs": [
    {
     "name": "stdout",
     "output_type": "stream",
     "text": [
      "Model: \"model\"\n",
      "_________________________________________________________________\n",
      " Layer (type)                Output Shape              Param #   \n",
      "=================================================================\n",
      " input_1 (InputLayer)        [(None, 224, 224, 3)]     0         \n",
      "                                                                 \n",
      " block1_conv1 (Conv2D)       (None, 224, 224, 64)      1792      \n",
      "                                                                 \n",
      " block1_conv2 (Conv2D)       (None, 224, 224, 64)      36928     \n",
      "                                                                 \n",
      " block1_pool (MaxPooling2D)  (None, 112, 112, 64)      0         \n",
      "                                                                 \n",
      " block2_conv1 (Conv2D)       (None, 112, 112, 128)     73856     \n",
      "                                                                 \n",
      " block2_conv2 (Conv2D)       (None, 112, 112, 128)     147584    \n",
      "                                                                 \n",
      " block2_pool (MaxPooling2D)  (None, 56, 56, 128)       0         \n",
      "                                                                 \n",
      " block3_conv1 (Conv2D)       (None, 56, 56, 256)       295168    \n",
      "                                                                 \n",
      " block3_conv2 (Conv2D)       (None, 56, 56, 256)       590080    \n",
      "                                                                 \n",
      " block3_conv3 (Conv2D)       (None, 56, 56, 256)       590080    \n",
      "                                                                 \n",
      " block3_pool (MaxPooling2D)  (None, 28, 28, 256)       0         \n",
      "                                                                 \n",
      " block4_conv1 (Conv2D)       (None, 28, 28, 512)       1180160   \n",
      "                                                                 \n",
      " block4_conv2 (Conv2D)       (None, 28, 28, 512)       2359808   \n",
      "                                                                 \n",
      " block4_conv3 (Conv2D)       (None, 28, 28, 512)       2359808   \n",
      "                                                                 \n",
      " block4_pool (MaxPooling2D)  (None, 14, 14, 512)       0         \n",
      "                                                                 \n",
      " block5_conv1 (Conv2D)       (None, 14, 14, 512)       2359808   \n",
      "                                                                 \n",
      " block5_conv2 (Conv2D)       (None, 14, 14, 512)       2359808   \n",
      "                                                                 \n",
      " block5_conv3 (Conv2D)       (None, 14, 14, 512)       2359808   \n",
      "                                                                 \n",
      " block5_pool (MaxPooling2D)  (None, 7, 7, 512)         0         \n",
      "                                                                 \n",
      " flatten (Flatten)           (None, 25088)             0         \n",
      "                                                                 \n",
      " dense (Dense)               (None, 120)               3010680   \n",
      "                                                                 \n",
      "=================================================================\n",
      "Total params: 17,725,368\n",
      "Trainable params: 3,010,680\n",
      "Non-trainable params: 14,714,688\n",
      "_________________________________________________________________\n"
     ]
    }
   ],
   "source": [
    "model_I.summary()"
   ]
  },
  {
   "cell_type": "markdown",
   "id": "d40ce2da",
   "metadata": {
    "papermill": {
     "duration": 0.012278,
     "end_time": "2023-03-01T20:38:43.203800",
     "exception": false,
     "start_time": "2023-03-01T20:38:43.191522",
     "status": "completed"
    },
    "tags": []
   },
   "source": [
    "# Model II - Inception V3"
   ]
  },
  {
   "cell_type": "code",
   "execution_count": 24,
   "id": "4ce6c7aa",
   "metadata": {
    "execution": {
     "iopub.execute_input": "2023-03-01T20:38:43.229883Z",
     "iopub.status.busy": "2023-03-01T20:38:43.229521Z",
     "iopub.status.idle": "2023-03-01T20:38:46.105952Z",
     "shell.execute_reply": "2023-03-01T20:38:46.104978Z"
    },
    "papermill": {
     "duration": 2.892328,
     "end_time": "2023-03-01T20:38:46.108412",
     "exception": false,
     "start_time": "2023-03-01T20:38:43.216084",
     "status": "completed"
    },
    "tags": []
   },
   "outputs": [
    {
     "name": "stdout",
     "output_type": "stream",
     "text": [
      "Downloading data from https://storage.googleapis.com/tensorflow/keras-applications/inception_v3/inception_v3_weights_tf_dim_ordering_tf_kernels_notop.h5\n",
      "87910968/87910968 [==============================] - 1s 0us/step\n"
     ]
    }
   ],
   "source": [
    "inception = InceptionV3( include_top=False,\n",
    "    weights='imagenet',\n",
    "    input_shape=IMAGE_SIZE + [3],\n",
    "    classes=num_classes,\n",
    "    classifier_activation='softmax'\n",
    ")"
   ]
  },
  {
   "cell_type": "code",
   "execution_count": 25,
   "id": "4589f28f",
   "metadata": {
    "execution": {
     "iopub.execute_input": "2023-03-01T20:38:46.137772Z",
     "iopub.status.busy": "2023-03-01T20:38:46.136861Z",
     "iopub.status.idle": "2023-03-01T20:38:46.149791Z",
     "shell.execute_reply": "2023-03-01T20:38:46.148829Z"
    },
    "papermill": {
     "duration": 0.030074,
     "end_time": "2023-03-01T20:38:46.151902",
     "exception": false,
     "start_time": "2023-03-01T20:38:46.121828",
     "status": "completed"
    },
    "tags": []
   },
   "outputs": [],
   "source": [
    "#freeze training existing layer\n",
    "for layer in inception.layers:\n",
    "  layer.trainable = False"
   ]
  },
  {
   "cell_type": "code",
   "execution_count": 26,
   "id": "7f8e01f8",
   "metadata": {
    "execution": {
     "iopub.execute_input": "2023-03-01T20:38:46.179817Z",
     "iopub.status.busy": "2023-03-01T20:38:46.179046Z",
     "iopub.status.idle": "2023-03-01T20:38:46.191110Z",
     "shell.execute_reply": "2023-03-01T20:38:46.190295Z"
    },
    "papermill": {
     "duration": 0.027972,
     "end_time": "2023-03-01T20:38:46.193061",
     "exception": false,
     "start_time": "2023-03-01T20:38:46.165089",
     "status": "completed"
    },
    "tags": []
   },
   "outputs": [],
   "source": [
    "#build our layers\n",
    "x = Flatten()(inception.output)\n",
    "x = Dropout(0.5)(x)"
   ]
  },
  {
   "cell_type": "code",
   "execution_count": 27,
   "id": "b11e355f",
   "metadata": {
    "execution": {
     "iopub.execute_input": "2023-03-01T20:38:46.221294Z",
     "iopub.status.busy": "2023-03-01T20:38:46.219866Z",
     "iopub.status.idle": "2023-03-01T20:38:46.248219Z",
     "shell.execute_reply": "2023-03-01T20:38:46.247396Z"
    },
    "papermill": {
     "duration": 0.044064,
     "end_time": "2023-03-01T20:38:46.250130",
     "exception": false,
     "start_time": "2023-03-01T20:38:46.206066",
     "status": "completed"
    },
    "tags": []
   },
   "outputs": [],
   "source": [
    "#set last layer\n",
    "prediction_layer = Dense(num_classes, activation='softmax' )(x)\n",
    "#declare the model\n",
    "model_II = Model(inputs=inception.input, outputs=prediction_layer)"
   ]
  },
  {
   "cell_type": "code",
   "execution_count": 28,
   "id": "d4d6a0e9",
   "metadata": {
    "execution": {
     "iopub.execute_input": "2023-03-01T20:38:46.278305Z",
     "iopub.status.busy": "2023-03-01T20:38:46.277385Z",
     "iopub.status.idle": "2023-03-01T20:38:46.282120Z",
     "shell.execute_reply": "2023-03-01T20:38:46.281299Z"
    },
    "papermill": {
     "duration": 0.020841,
     "end_time": "2023-03-01T20:38:46.283962",
     "exception": false,
     "start_time": "2023-03-01T20:38:46.263121",
     "status": "completed"
    },
    "tags": []
   },
   "outputs": [],
   "source": [
    "model_path = \"/kaggle/working/dog-breed-inceptionV3.h5\"\n",
    "csv_path = \"/kaggle/working/dog-breed.csv\""
   ]
  },
  {
   "cell_type": "code",
   "execution_count": 29,
   "id": "4ffca59b",
   "metadata": {
    "execution": {
     "iopub.execute_input": "2023-03-01T20:38:46.312426Z",
     "iopub.status.busy": "2023-03-01T20:38:46.311530Z",
     "iopub.status.idle": "2023-03-01T20:38:46.316844Z",
     "shell.execute_reply": "2023-03-01T20:38:46.316003Z"
    },
    "papermill": {
     "duration": 0.021366,
     "end_time": "2023-03-01T20:38:46.318816",
     "exception": false,
     "start_time": "2023-03-01T20:38:46.297450",
     "status": "completed"
    },
    "tags": []
   },
   "outputs": [],
   "source": [
    "#initalize callbacks\n",
    "callbacks = [\n",
    "    ModelCheckpoint(model_path, verbose=1, save_best_only=True),\n",
    "    CSVLogger(csv_path),\n",
    "    ReduceLROnPlateau(monitor='val_loss', factor=0.1, patience=5, min_lr=1e-8, verbose=1)\n",
    "]"
   ]
  },
  {
   "cell_type": "code",
   "execution_count": 30,
   "id": "8a9cc399",
   "metadata": {
    "execution": {
     "iopub.execute_input": "2023-03-01T20:38:46.347395Z",
     "iopub.status.busy": "2023-03-01T20:38:46.345971Z",
     "iopub.status.idle": "2023-03-01T20:38:46.363576Z",
     "shell.execute_reply": "2023-03-01T20:38:46.362657Z"
    },
    "papermill": {
     "duration": 0.033763,
     "end_time": "2023-03-01T20:38:46.365574",
     "exception": false,
     "start_time": "2023-03-01T20:38:46.331811",
     "status": "completed"
    },
    "tags": []
   },
   "outputs": [],
   "source": [
    "model_II.compile(optimizer='adam', loss='categorical_crossentropy', metrics=['accuracy'])"
   ]
  },
  {
   "cell_type": "code",
   "execution_count": 31,
   "id": "4bb15d5f",
   "metadata": {
    "execution": {
     "iopub.execute_input": "2023-03-01T20:38:46.393179Z",
     "iopub.status.busy": "2023-03-01T20:38:46.392342Z",
     "iopub.status.idle": "2023-03-01T20:38:46.554410Z",
     "shell.execute_reply": "2023-03-01T20:38:46.553438Z"
    },
    "papermill": {
     "duration": 0.17844,
     "end_time": "2023-03-01T20:38:46.557008",
     "exception": false,
     "start_time": "2023-03-01T20:38:46.378568",
     "status": "completed"
    },
    "tags": []
   },
   "outputs": [],
   "source": [
    "#tensor dataset\n",
    "train_df = tf_dataset(train_data)\n",
    "test_df = tf_dataset(test_data)"
   ]
  },
  {
   "cell_type": "code",
   "execution_count": 32,
   "id": "7df79510",
   "metadata": {
    "execution": {
     "iopub.execute_input": "2023-03-01T20:38:46.585857Z",
     "iopub.status.busy": "2023-03-01T20:38:46.584938Z",
     "iopub.status.idle": "2023-03-01T20:38:46.591658Z",
     "shell.execute_reply": "2023-03-01T20:38:46.590727Z"
    },
    "papermill": {
     "duration": 0.022969,
     "end_time": "2023-03-01T20:38:46.593718",
     "exception": false,
     "start_time": "2023-03-01T20:38:46.570749",
     "status": "completed"
    },
    "tags": []
   },
   "outputs": [
    {
     "data": {
      "text/plain": [
       "'model_I.fit(\\n    train_df,\\n    validation_data=test_df,\\n    epochs=50,\\n    batch_size=32,\\n    steps_per_epoch=len(train_df),\\n    validation_steps=len(test_df),\\n    callbacks=callbacks\\n)'"
      ]
     },
     "execution_count": 32,
     "metadata": {},
     "output_type": "execute_result"
    }
   ],
   "source": [
    "#training\n",
    "'''model_I.fit(\n",
    "    train_df,\n",
    "    validation_data=test_df,\n",
    "    epochs=50,\n",
    "    batch_size=32,\n",
    "    steps_per_epoch=len(train_df),\n",
    "    validation_steps=len(test_df),\n",
    "    callbacks=callbacks\n",
    ")'''"
   ]
  },
  {
   "cell_type": "code",
   "execution_count": 33,
   "id": "c5a8f87a",
   "metadata": {
    "execution": {
     "iopub.execute_input": "2023-03-01T20:38:46.621772Z",
     "iopub.status.busy": "2023-03-01T20:38:46.620956Z",
     "iopub.status.idle": "2023-03-01T21:18:00.063240Z",
     "shell.execute_reply": "2023-03-01T21:18:00.062314Z"
    },
    "papermill": {
     "duration": 2353.952855,
     "end_time": "2023-03-01T21:18:00.559913",
     "exception": false,
     "start_time": "2023-03-01T20:38:46.607058",
     "status": "completed"
    },
    "tags": []
   },
   "outputs": [
    {
     "name": "stdout",
     "output_type": "stream",
     "text": [
      "Epoch 1/20\n",
      "451/451 [==============================] - ETA: 0s - loss: 13.0157 - accuracy: 0.4958\n",
      "Epoch 1: val_loss improved from inf to 11.95609, saving model to /kaggle/working/dog-breed-inceptionV3.h5\n",
      "451/451 [==============================] - 181s 378ms/step - loss: 13.0157 - accuracy: 0.4958 - val_loss: 11.9561 - val_accuracy: 0.5977 - lr: 0.0010\n",
      "Epoch 2/20\n",
      "450/451 [============================>.] - ETA: 0s - loss: 5.6904 - accuracy: 0.7337\n",
      "Epoch 2: val_loss did not improve from 11.95609\n",
      "451/451 [==============================] - 92s 205ms/step - loss: 5.6882 - accuracy: 0.7337 - val_loss: 13.4840 - val_accuracy: 0.6058 - lr: 0.0010\n",
      "Epoch 3/20\n",
      "450/451 [============================>.] - ETA: 0s - loss: 3.4890 - accuracy: 0.8236\n",
      "Epoch 3: val_loss did not improve from 11.95609\n",
      "451/451 [==============================] - 92s 204ms/step - loss: 3.4875 - accuracy: 0.8237 - val_loss: 17.2010 - val_accuracy: 0.5933 - lr: 0.0010\n",
      "Epoch 4/20\n",
      "450/451 [============================>.] - ETA: 0s - loss: 2.3951 - accuracy: 0.8729\n",
      "Epoch 4: val_loss did not improve from 11.95609\n",
      "451/451 [==============================] - 94s 208ms/step - loss: 2.3941 - accuracy: 0.8730 - val_loss: 15.0756 - val_accuracy: 0.6304 - lr: 0.0010\n",
      "Epoch 5/20\n",
      "450/451 [============================>.] - ETA: 0s - loss: 2.0851 - accuracy: 0.8965\n",
      "Epoch 5: val_loss did not improve from 11.95609\n",
      "451/451 [==============================] - 93s 207ms/step - loss: 2.0842 - accuracy: 0.8965 - val_loss: 16.5799 - val_accuracy: 0.6309 - lr: 0.0010\n",
      "Epoch 6/20\n",
      "450/451 [============================>.] - ETA: 0s - loss: 1.8789 - accuracy: 0.9084\n",
      "Epoch 6: val_loss did not improve from 11.95609\n",
      "\n",
      "Epoch 6: ReduceLROnPlateau reducing learning rate to 0.00010000000474974513.\n",
      "451/451 [==============================] - 94s 208ms/step - loss: 1.8782 - accuracy: 0.9084 - val_loss: 20.1765 - val_accuracy: 0.6087 - lr: 0.0010\n",
      "Epoch 7/20\n",
      "450/451 [============================>.] - ETA: 0s - loss: 0.6444 - accuracy: 0.9613\n",
      "Epoch 7: val_loss did not improve from 11.95609\n",
      "451/451 [==============================] - 93s 206ms/step - loss: 0.6442 - accuracy: 0.9613 - val_loss: 14.3444 - val_accuracy: 0.6683 - lr: 1.0000e-04\n",
      "Epoch 8/20\n",
      "450/451 [============================>.] - ETA: 0s - loss: 0.2494 - accuracy: 0.9797\n",
      "Epoch 8: val_loss did not improve from 11.95609\n",
      "451/451 [==============================] - 94s 207ms/step - loss: 0.2493 - accuracy: 0.9797 - val_loss: 14.1051 - val_accuracy: 0.6701 - lr: 1.0000e-04\n",
      "Epoch 9/20\n",
      "450/451 [============================>.] - ETA: 0s - loss: 0.1429 - accuracy: 0.9855\n",
      "Epoch 9: val_loss did not improve from 11.95609\n",
      "451/451 [==============================] - 92s 204ms/step - loss: 0.1429 - accuracy: 0.9855 - val_loss: 13.9479 - val_accuracy: 0.6717 - lr: 1.0000e-04\n",
      "Epoch 10/20\n",
      "450/451 [============================>.] - ETA: 0s - loss: 0.0907 - accuracy: 0.9893\n",
      "Epoch 10: val_loss did not improve from 11.95609\n",
      "451/451 [==============================] - 93s 206ms/step - loss: 0.0907 - accuracy: 0.9893 - val_loss: 13.7837 - val_accuracy: 0.6756 - lr: 1.0000e-04\n",
      "Epoch 11/20\n",
      "450/451 [============================>.] - ETA: 0s - loss: 0.1051 - accuracy: 0.9891\n",
      "Epoch 11: val_loss did not improve from 11.95609\n",
      "\n",
      "Epoch 11: ReduceLROnPlateau reducing learning rate to 1.0000000474974514e-05.\n",
      "451/451 [==============================] - 93s 205ms/step - loss: 0.1051 - accuracy: 0.9891 - val_loss: 13.6814 - val_accuracy: 0.6744 - lr: 1.0000e-04\n",
      "Epoch 12/20\n",
      "450/451 [============================>.] - ETA: 0s - loss: 0.0853 - accuracy: 0.9906\n",
      "Epoch 12: val_loss did not improve from 11.95609\n",
      "451/451 [==============================] - 93s 206ms/step - loss: 0.0853 - accuracy: 0.9906 - val_loss: 13.6000 - val_accuracy: 0.6772 - lr: 1.0000e-05\n",
      "Epoch 13/20\n",
      "450/451 [============================>.] - ETA: 0s - loss: 0.0594 - accuracy: 0.9934\n",
      "Epoch 13: val_loss did not improve from 11.95609\n",
      "451/451 [==============================] - 93s 206ms/step - loss: 0.0593 - accuracy: 0.9934 - val_loss: 13.5620 - val_accuracy: 0.6774 - lr: 1.0000e-05\n",
      "Epoch 14/20\n",
      "450/451 [============================>.] - ETA: 0s - loss: 0.0368 - accuracy: 0.9946\n",
      "Epoch 14: val_loss did not improve from 11.95609\n",
      "451/451 [==============================] - 92s 204ms/step - loss: 0.0368 - accuracy: 0.9946 - val_loss: 13.5447 - val_accuracy: 0.6783 - lr: 1.0000e-05\n",
      "Epoch 15/20\n",
      "450/451 [============================>.] - ETA: 0s - loss: 0.0515 - accuracy: 0.9934\n",
      "Epoch 15: val_loss did not improve from 11.95609\n",
      "451/451 [==============================] - 92s 205ms/step - loss: 0.0515 - accuracy: 0.9934 - val_loss: 13.5264 - val_accuracy: 0.6770 - lr: 1.0000e-05\n",
      "Epoch 16/20\n",
      "450/451 [============================>.] - ETA: 0s - loss: 0.0317 - accuracy: 0.9951\n",
      "Epoch 16: val_loss did not improve from 11.95609\n",
      "\n",
      "Epoch 16: ReduceLROnPlateau reducing learning rate to 1.0000000656873453e-06.\n",
      "451/451 [==============================] - 92s 204ms/step - loss: 0.0317 - accuracy: 0.9951 - val_loss: 13.4994 - val_accuracy: 0.6780 - lr: 1.0000e-05\n",
      "Epoch 17/20\n",
      "450/451 [============================>.] - ETA: 0s - loss: 0.0408 - accuracy: 0.9947\n",
      "Epoch 17: val_loss did not improve from 11.95609\n",
      "451/451 [==============================] - 107s 237ms/step - loss: 0.0408 - accuracy: 0.9947 - val_loss: 13.4970 - val_accuracy: 0.6774 - lr: 1.0000e-06\n",
      "Epoch 18/20\n",
      "450/451 [============================>.] - ETA: 0s - loss: 0.0296 - accuracy: 0.9951\n",
      "Epoch 18: val_loss did not improve from 11.95609\n",
      "451/451 [==============================] - 94s 209ms/step - loss: 0.0296 - accuracy: 0.9951 - val_loss: 13.4946 - val_accuracy: 0.6770 - lr: 1.0000e-06\n",
      "Epoch 19/20\n",
      "450/451 [============================>.] - ETA: 0s - loss: 0.0385 - accuracy: 0.9947\n",
      "Epoch 19: val_loss did not improve from 11.95609\n",
      "451/451 [==============================] - 94s 209ms/step - loss: 0.0385 - accuracy: 0.9947 - val_loss: 13.4956 - val_accuracy: 0.6767 - lr: 1.0000e-06\n",
      "Epoch 20/20\n",
      "450/451 [============================>.] - ETA: 0s - loss: 0.0378 - accuracy: 0.9951\n",
      "Epoch 20: val_loss did not improve from 11.95609\n",
      "451/451 [==============================] - 95s 211ms/step - loss: 0.0378 - accuracy: 0.9951 - val_loss: 13.4903 - val_accuracy: 0.6767 - lr: 1.0000e-06\n"
     ]
    },
    {
     "data": {
      "text/plain": [
       "<keras.callbacks.History at 0x7f4c12013a50>"
      ]
     },
     "execution_count": 33,
     "metadata": {},
     "output_type": "execute_result"
    }
   ],
   "source": [
    "#training\n",
    "model_II.fit(\n",
    "    train_df,\n",
    "    validation_data=test_df,\n",
    "    steps_per_epoch=len(train_df),\n",
    "    validation_steps=len(test_df),\n",
    "    epochs=20,\n",
    "    batch_size=32,\n",
    "    callbacks=callbacks\n",
    ")"
   ]
  },
  {
   "cell_type": "markdown",
   "id": "ad698bc0",
   "metadata": {
    "papermill": {
     "duration": 0.55155,
     "end_time": "2023-03-01T21:18:01.610017",
     "exception": false,
     "start_time": "2023-03-01T21:18:01.058467",
     "status": "completed"
    },
    "tags": []
   },
   "source": [
    "# Evaluate the model"
   ]
  },
  {
   "cell_type": "code",
   "execution_count": 34,
   "id": "180db6c5",
   "metadata": {
    "execution": {
     "iopub.execute_input": "2023-03-01T21:18:02.837793Z",
     "iopub.status.busy": "2023-03-01T21:18:02.837394Z",
     "iopub.status.idle": "2023-03-01T21:18:43.817280Z",
     "shell.execute_reply": "2023-03-01T21:18:43.816308Z"
    },
    "papermill": {
     "duration": 42.463111,
     "end_time": "2023-03-01T21:18:44.614846",
     "exception": false,
     "start_time": "2023-03-01T21:18:02.151735",
     "status": "completed"
    },
    "tags": []
   },
   "outputs": [
    {
     "name": "stdout",
     "output_type": "stream",
     "text": [
      "193/193 [==============================] - 29s 149ms/step - loss: 13.4903 - accuracy: 0.6767\n"
     ]
    },
    {
     "data": {
      "text/plain": [
       "[13.49027156829834, 0.6767087578773499]"
      ]
     },
     "execution_count": 34,
     "metadata": {},
     "output_type": "execute_result"
    }
   ],
   "source": [
    "model_II.evaluate(test_df)"
   ]
  },
  {
   "cell_type": "code",
   "execution_count": 35,
   "id": "b2acf069",
   "metadata": {
    "execution": {
     "iopub.execute_input": "2023-03-01T21:18:45.842938Z",
     "iopub.status.busy": "2023-03-01T21:18:45.842560Z",
     "iopub.status.idle": "2023-03-01T21:18:45.848202Z",
     "shell.execute_reply": "2023-03-01T21:18:45.847318Z"
    },
    "papermill": {
     "duration": 0.503268,
     "end_time": "2023-03-01T21:18:45.850314",
     "exception": false,
     "start_time": "2023-03-01T21:18:45.347046",
     "status": "completed"
    },
    "tags": []
   },
   "outputs": [],
   "source": [
    "#function for get labels of test set\n",
    "def get_test_data_class(test_path):\n",
    "  names = []\n",
    "  for i in test_path:\n",
    "    name = i.split(\"/\")[-2].split('-')[-1]\n",
    "    name_idx = labels_list.index(name)\n",
    "    names.append(name_idx)\n",
    "  names = np.array(names, dtype=np.int32)\n",
    "  return names"
   ]
  },
  {
   "cell_type": "code",
   "execution_count": 36,
   "id": "57a99888",
   "metadata": {
    "execution": {
     "iopub.execute_input": "2023-03-01T21:18:47.113198Z",
     "iopub.status.busy": "2023-03-01T21:18:47.112828Z",
     "iopub.status.idle": "2023-03-01T21:18:47.130179Z",
     "shell.execute_reply": "2023-03-01T21:18:47.129295Z"
    },
    "papermill": {
     "duration": 0.517045,
     "end_time": "2023-03-01T21:18:47.132268",
     "exception": false,
     "start_time": "2023-03-01T21:18:46.615223",
     "status": "completed"
    },
    "tags": []
   },
   "outputs": [],
   "source": [
    "classes = get_test_data_class(test_data)"
   ]
  },
  {
   "cell_type": "markdown",
   "id": "00d226c3",
   "metadata": {
    "papermill": {
     "duration": 0.54763,
     "end_time": "2023-03-01T21:18:48.176868",
     "exception": false,
     "start_time": "2023-03-01T21:18:47.629238",
     "status": "completed"
    },
    "tags": []
   },
   "source": [
    "# test the model"
   ]
  },
  {
   "cell_type": "code",
   "execution_count": 37,
   "id": "4aa596f6",
   "metadata": {
    "execution": {
     "iopub.execute_input": "2023-03-01T21:18:49.246094Z",
     "iopub.status.busy": "2023-03-01T21:18:49.245722Z",
     "iopub.status.idle": "2023-03-01T21:18:49.252618Z",
     "shell.execute_reply": "2023-03-01T21:18:49.251506Z"
    },
    "papermill": {
     "duration": 0.582578,
     "end_time": "2023-03-01T21:18:49.256228",
     "exception": false,
     "start_time": "2023-03-01T21:18:48.673650",
     "status": "completed"
    },
    "tags": []
   },
   "outputs": [
    {
     "data": {
      "text/plain": [
       "'/kaggle/input/120-dog-breeds-breed-classification/Images/n02110806-basenji/n02110806_4156.jpg'"
      ]
     },
     "execution_count": 37,
     "metadata": {},
     "output_type": "execute_result"
    }
   ],
   "source": [
    "#image and name\n",
    "test_data[0]"
   ]
  },
  {
   "cell_type": "code",
   "execution_count": 38,
   "id": "3d10032f",
   "metadata": {
    "execution": {
     "iopub.execute_input": "2023-03-01T21:18:50.259411Z",
     "iopub.status.busy": "2023-03-01T21:18:50.259025Z",
     "iopub.status.idle": "2023-03-01T21:18:50.566805Z",
     "shell.execute_reply": "2023-03-01T21:18:50.565805Z"
    },
    "papermill": {
     "duration": 0.816454,
     "end_time": "2023-03-01T21:18:50.570450",
     "exception": false,
     "start_time": "2023-03-01T21:18:49.753996",
     "status": "completed"
    },
    "tags": []
   },
   "outputs": [
    {
     "data": {
      "text/plain": [
       "<matplotlib.image.AxesImage at 0x7f4ba863bf90>"
      ]
     },
     "execution_count": 38,
     "metadata": {},
     "output_type": "execute_result"
    },
    {
     "data": {
      "image/png": "[encoded data removed]",
      "text/plain": [
       "<Figure size 640x480 with 1 Axes>"
      ]
     },
     "metadata": {},
     "output_type": "display_data"
    }
   ],
   "source": [
    "#read the image \n",
    "img = cv2.imread(test_data[0], cv2.IMREAD_COLOR)\n",
    "plt.imshow(img)"
   ]
  },
  {
   "cell_type": "code",
   "execution_count": 39,
   "id": "b6fc7870",
   "metadata": {
    "execution": {
     "iopub.execute_input": "2023-03-01T21:18:51.618609Z",
     "iopub.status.busy": "2023-03-01T21:18:51.618234Z",
     "iopub.status.idle": "2023-03-01T21:18:51.623528Z",
     "shell.execute_reply": "2023-03-01T21:18:51.622492Z"
    },
    "papermill": {
     "duration": 0.50453,
     "end_time": "2023-03-01T21:18:51.625526",
     "exception": false,
     "start_time": "2023-03-01T21:18:51.120996",
     "status": "completed"
    },
    "tags": []
   },
   "outputs": [],
   "source": [
    "img_new = cv2.resize(img, (224,224))\n",
    "img = np.array(img_new).reshape(-1, 224, 224, 3)"
   ]
  },
  {
   "cell_type": "code",
   "execution_count": 40,
   "id": "5f771155",
   "metadata": {
    "execution": {
     "iopub.execute_input": "2023-03-01T21:18:52.676604Z",
     "iopub.status.busy": "2023-03-01T21:18:52.676136Z",
     "iopub.status.idle": "2023-03-01T21:18:52.681828Z",
     "shell.execute_reply": "2023-03-01T21:18:52.680530Z"
    },
    "papermill": {
     "duration": 0.562365,
     "end_time": "2023-03-01T21:18:52.684062",
     "exception": false,
     "start_time": "2023-03-01T21:18:52.121697",
     "status": "completed"
    },
    "tags": []
   },
   "outputs": [],
   "source": [
    "img = img.astype('float32')\n",
    "img /= 255"
   ]
  },
  {
   "cell_type": "code",
   "execution_count": 41,
   "id": "6281fa5c",
   "metadata": {
    "execution": {
     "iopub.execute_input": "2023-03-01T21:18:53.759926Z",
     "iopub.status.busy": "2023-03-01T21:18:53.759529Z",
     "iopub.status.idle": "2023-03-01T21:18:55.211161Z",
     "shell.execute_reply": "2023-03-01T21:18:55.210182Z"
    },
    "papermill": {
     "duration": 1.976978,
     "end_time": "2023-03-01T21:18:55.213395",
     "exception": false,
     "start_time": "2023-03-01T21:18:53.236417",
     "status": "completed"
    },
    "tags": []
   },
   "outputs": [
    {
     "data": {
      "text/plain": [
       "array([[0.0000000e+00, 0.0000000e+00, 0.0000000e+00, 0.0000000e+00,\n",
       "        0.0000000e+00, 0.0000000e+00, 0.0000000e+00, 0.0000000e+00,\n",
       "        0.0000000e+00, 0.0000000e+00, 0.0000000e+00, 0.0000000e+00,\n",
       "        0.0000000e+00, 0.0000000e+00, 0.0000000e+00, 0.0000000e+00,\n",
       "        0.0000000e+00, 0.0000000e+00, 0.0000000e+00, 0.0000000e+00,\n",
       "        0.0000000e+00, 0.0000000e+00, 0.0000000e+00, 0.0000000e+00,\n",
       "        0.0000000e+00, 0.0000000e+00, 0.0000000e+00, 0.0000000e+00,\n",
       "        0.0000000e+00, 0.0000000e+00, 0.0000000e+00, 0.0000000e+00,\n",
       "        0.0000000e+00, 0.0000000e+00, 0.0000000e+00, 0.0000000e+00,\n",
       "        0.0000000e+00, 0.0000000e+00, 4.0013398e-26, 0.0000000e+00,\n",
       "        0.0000000e+00, 0.0000000e+00, 0.0000000e+00, 0.0000000e+00,\n",
       "        1.0000000e+00, 0.0000000e+00, 0.0000000e+00, 0.0000000e+00,\n",
       "        0.0000000e+00, 0.0000000e+00, 0.0000000e+00, 0.0000000e+00,\n",
       "        0.0000000e+00, 0.0000000e+00, 0.0000000e+00, 0.0000000e+00,\n",
       "        0.0000000e+00, 0.0000000e+00, 0.0000000e+00, 0.0000000e+00,\n",
       "        0.0000000e+00, 0.0000000e+00, 0.0000000e+00, 0.0000000e+00,\n",
       "        0.0000000e+00, 0.0000000e+00, 0.0000000e+00, 0.0000000e+00,\n",
       "        0.0000000e+00, 0.0000000e+00, 0.0000000e+00, 0.0000000e+00,\n",
       "        0.0000000e+00, 0.0000000e+00, 0.0000000e+00, 0.0000000e+00,\n",
       "        0.0000000e+00, 0.0000000e+00, 0.0000000e+00, 0.0000000e+00,\n",
       "        0.0000000e+00, 0.0000000e+00, 0.0000000e+00, 0.0000000e+00,\n",
       "        0.0000000e+00, 0.0000000e+00, 0.0000000e+00, 0.0000000e+00,\n",
       "        0.0000000e+00, 0.0000000e+00, 0.0000000e+00, 0.0000000e+00,\n",
       "        0.0000000e+00, 0.0000000e+00, 0.0000000e+00, 0.0000000e+00,\n",
       "        0.0000000e+00, 0.0000000e+00, 0.0000000e+00, 0.0000000e+00,\n",
       "        0.0000000e+00, 0.0000000e+00, 0.0000000e+00, 0.0000000e+00,\n",
       "        0.0000000e+00, 0.0000000e+00, 0.0000000e+00, 0.0000000e+00,\n",
       "        0.0000000e+00, 0.0000000e+00, 0.0000000e+00, 0.0000000e+00,\n",
       "        0.0000000e+00, 0.0000000e+00, 0.0000000e+00, 0.0000000e+00,\n",
       "        0.0000000e+00, 0.0000000e+00, 0.0000000e+00, 0.0000000e+00]],\n",
       "      dtype=float32)"
      ]
     },
     "execution_count": 41,
     "metadata": {},
     "output_type": "execute_result"
    }
   ],
   "source": [
    "pred = model_II.predict(img, verbose=0)\n",
    "pred"
   ]
  },
  {
   "cell_type": "code",
   "execution_count": 42,
   "id": "4afa62a5",
   "metadata": {
    "execution": {
     "iopub.execute_input": "2023-03-01T21:18:56.309045Z",
     "iopub.status.busy": "2023-03-01T21:18:56.308689Z",
     "iopub.status.idle": "2023-03-01T21:18:56.314892Z",
     "shell.execute_reply": "2023-03-01T21:18:56.313962Z"
    },
    "papermill": {
     "duration": 0.546423,
     "end_time": "2023-03-01T21:18:56.316826",
     "exception": false,
     "start_time": "2023-03-01T21:18:55.770403",
     "status": "completed"
    },
    "tags": []
   },
   "outputs": [
    {
     "data": {
      "text/plain": [
       "44"
      ]
     },
     "execution_count": 42,
     "metadata": {},
     "output_type": "execute_result"
    }
   ],
   "source": [
    "val = np.argmax(pred)\n",
    "val"
   ]
  },
  {
   "cell_type": "code",
   "execution_count": 43,
   "id": "5da365ef",
   "metadata": {
    "execution": {
     "iopub.execute_input": "2023-03-01T21:18:57.560716Z",
     "iopub.status.busy": "2023-03-01T21:18:57.560126Z",
     "iopub.status.idle": "2023-03-01T21:18:57.567401Z",
     "shell.execute_reply": "2023-03-01T21:18:57.566552Z"
    },
    "papermill": {
     "duration": 0.754359,
     "end_time": "2023-03-01T21:18:57.572301",
     "exception": false,
     "start_time": "2023-03-01T21:18:56.817942",
     "status": "completed"
    },
    "tags": []
   },
   "outputs": [
    {
     "data": {
      "text/plain": [
       "'basenji'"
      ]
     },
     "execution_count": 43,
     "metadata": {},
     "output_type": "execute_result"
    }
   ],
   "source": [
    "name = int(val)\n",
    "labels_list[name]"
   ]
  },
  {
   "cell_type": "code",
   "execution_count": null,
   "id": "b79b2f66",
   "metadata": {
    "papermill": {
     "duration": 0.502381,
     "end_time": "2023-03-01T21:18:58.598827",
     "exception": false,
     "start_time": "2023-03-01T21:18:58.096446",
     "status": "completed"
    },
    "tags": []
   },
   "outputs": [],
   "source": []
  }
 ],
 "metadata": {
  "kernelspec": {
   "display_name": "Python 3",
   "language": "python",
   "name": "python3"
  },
  "language_info": {
   "codemirror_mode": {
    "name": "ipython",
    "version": 3
   },
   "file_extension": ".py",
   "mimetype": "text/x-python",
   "name": "python",
   "nbconvert_exporter": "python",
   "pygments_lexer": "ipython3",
   "version": "3.7.12"
  },
  "papermill": {
   "default_parameters": {},
   "duration": 2444.949641,
   "end_time": "2023-03-01T21:19:03.109449",
   "environment_variables": {},
   "exception": null,
   "input_path": "__notebook__.ipynb",
   "output_path": "__notebook__.ipynb",
   "parameters": {},
   "start_time": "2023-03-01T20:38:18.159808",
   "version": "2.3.4"
  }
 },
 "nbformat": 4,
 "nbformat_minor": 5
}
