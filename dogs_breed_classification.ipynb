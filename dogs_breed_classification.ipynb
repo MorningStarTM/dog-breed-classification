{
  "nbformat": 4,
  "nbformat_minor": 0,
  "metadata": {
    "colab": {
      "provenance": [],
      "mount_file_id": "1rAN1RlPjyBppyxejOW2gk1j56rmz2Pb9",
      "authorship_tag": "ABX9TyOzrZSzJw95WHfQngpS1k0h",
      "include_colab_link": true
    },
    "kernelspec": {
      "name": "python3",
      "display_name": "Python 3"
    },
    "language_info": {
      "name": "python"
    },
    "accelerator": "GPU",
    "gpuClass": "standard"
  },
  "cells": [
    {
      "cell_type": "markdown",
      "metadata": {
        "id": "view-in-github",
        "colab_type": "text"
      },
      "source": [
        "<a href=\"https://colab.research.google.com/github/MorningStarTM/dog-breed-classification/blob/main/dogs_breed_classification.ipynb\" target=\"_parent\"><img src=\"https://colab.research.google.com/assets/colab-badge.svg\" alt=\"Open In Colab\"/></a>"
      ]
    },
    {
      "cell_type": "code",
      "execution_count": 1,
      "metadata": {
        "id": "B3cH0ta-VMYU"
      },
      "outputs": [],
      "source": [
        "#!unzip \"/content/drive/MyDrive/DataSet/rar/archive - 2023-02-15T073054.348.zip\" -d \"/content/drive/MyDrive/DataSet/dogs_breeds/\""
      ]
    },
    {
      "cell_type": "code",
      "source": [
        "#import libraries\n",
        "import numpy as np\n",
        "import os\n",
        "import cv2\n",
        "import matplotlib.pyplot as plt\n",
        "import tensorflow as tf\n",
        "from glob import glob\n",
        "from tensorflow.keras.layers import Dense, Conv2D, MaxPooling2D, Flatten, Dropout, Input\n",
        "from tensorflow.keras.models import Model\n",
        "from tensorflow.keras.callbacks import Callback, ReduceLROnPlateau, ModelCheckpoint, CSVLogger\n",
        "from sklearn.model_selection import train_test_split\n",
        "from sklearn.metrics import confusion_matrix\n",
        "from sklearn import metrics\n",
        "from sklearn.utils import shuffle"
      ],
      "metadata": {
        "id": "pIdEo55gWLtF"
      },
      "execution_count": 2,
      "outputs": []
    },
    {
      "cell_type": "code",
      "source": [
        "#dataset directory\n",
        "path = \"/content/drive/MyDrive/DataSet/dogs_breeds/Images\""
      ],
      "metadata": {
        "id": "dqJUGMKaZAqA"
      },
      "execution_count": 3,
      "outputs": []
    },
    {
      "cell_type": "code",
      "source": [
        "#parameters\n",
        "H, W = 224, 224\n",
        "channel = 3\n",
        "num_class = 120\n",
        "batch_size = 64"
      ],
      "metadata": {
        "id": "dRKVXTRXZUHz"
      },
      "execution_count": 4,
      "outputs": []
    },
    {
      "cell_type": "markdown",
      "source": [
        "#basic functions"
      ],
      "metadata": {
        "id": "8PpxW4NUc8Yl"
      }
    },
    {
      "cell_type": "code",
      "source": [
        "#get directory of images\n",
        "def get_labels(path):\n",
        "  files = os.listdir(path)\n",
        "  return files"
      ],
      "metadata": {
        "id": "wR_0SApOc_bQ"
      },
      "execution_count": 5,
      "outputs": []
    },
    {
      "cell_type": "code",
      "source": [
        "#split the name and unique address\n",
        "def get_splited_name(labels):\n",
        "  splited_list = []\n",
        "  labels_list = []\n",
        "  for i in labels:\n",
        "    splited = i.split('-')\n",
        "    labels_list.append(splited[-1])\n",
        "    splited_list.append(splited)\n",
        "  \n",
        "  return splited_list, labels_list"
      ],
      "metadata": {
        "id": "aAcCBPx8eUTD"
      },
      "execution_count": 6,
      "outputs": []
    },
    {
      "cell_type": "code",
      "source": [
        "#create dictionary for name and unique address\n",
        "def get_name_index(splited_list):\n",
        "  new_list = [{item[0]: item[1]} for item in splited_list]\n",
        "  return new_list"
      ],
      "metadata": {
        "id": "y50Y0pFim11d"
      },
      "execution_count": 7,
      "outputs": []
    },
    {
      "cell_type": "code",
      "source": [
        "folder = get_labels(path)\n",
        "splited_list, labels_list = get_splited_name(folder)\n",
        "index_list = get_name_index(splited_list)"
      ],
      "metadata": {
        "id": "3TndpK-mnbTv"
      },
      "execution_count": 8,
      "outputs": []
    },
    {
      "cell_type": "code",
      "source": [
        "labels_list"
      ],
      "metadata": {
        "colab": {
          "base_uri": "https://localhost:8080/"
        },
        "id": "z-Fjgf2R4SK-",
        "outputId": "e3d00606-282f-448f-c502-2fea98562800"
      },
      "execution_count": 9,
      "outputs": [
        {
          "output_type": "execute_result",
          "data": {
            "text/plain": [
              "['Chihuahua',\n",
              " 'Japanese_spaniel',\n",
              " 'Maltese_dog',\n",
              " 'Pekinese',\n",
              " 'Tzu',\n",
              " 'Blenheim_spaniel',\n",
              " 'papillon',\n",
              " 'toy_terrier',\n",
              " 'Rhodesian_ridgeback',\n",
              " 'Afghan_hound',\n",
              " 'basset',\n",
              " 'beagle',\n",
              " 'bloodhound',\n",
              " 'bluetick',\n",
              " 'tan_coonhound',\n",
              " 'Walker_hound',\n",
              " 'English_foxhound',\n",
              " 'redbone',\n",
              " 'borzoi',\n",
              " 'Irish_wolfhound',\n",
              " 'Italian_greyhound',\n",
              " 'whippet',\n",
              " 'Ibizan_hound',\n",
              " 'Norwegian_elkhound',\n",
              " 'otterhound',\n",
              " 'Saluki',\n",
              " 'Scottish_deerhound',\n",
              " 'Weimaraner',\n",
              " 'Staffordshire_bullterrier',\n",
              " 'American_Staffordshire_terrier',\n",
              " 'Bedlington_terrier',\n",
              " 'Border_terrier',\n",
              " 'Kerry_blue_terrier',\n",
              " 'Irish_terrier',\n",
              " 'Norfolk_terrier',\n",
              " 'Norwich_terrier',\n",
              " 'Yorkshire_terrier',\n",
              " 'haired_fox_terrier',\n",
              " 'Lakeland_terrier',\n",
              " 'Sealyham_terrier',\n",
              " 'Airedale',\n",
              " 'cairn',\n",
              " 'Australian_terrier',\n",
              " 'Dandie_Dinmont',\n",
              " 'Boston_bull',\n",
              " 'miniature_schnauzer',\n",
              " 'giant_schnauzer',\n",
              " 'standard_schnauzer',\n",
              " 'Scotch_terrier',\n",
              " 'Tibetan_terrier',\n",
              " 'silky_terrier',\n",
              " 'coated_wheaten_terrier',\n",
              " 'West_Highland_white_terrier',\n",
              " 'Lhasa',\n",
              " 'coated_retriever',\n",
              " 'coated_retriever',\n",
              " 'golden_retriever',\n",
              " 'Labrador_retriever',\n",
              " 'Chesapeake_Bay_retriever',\n",
              " 'haired_pointer',\n",
              " 'vizsla',\n",
              " 'English_setter',\n",
              " 'Irish_setter',\n",
              " 'Gordon_setter',\n",
              " 'Brittany_spaniel',\n",
              " 'clumber',\n",
              " 'English_springer',\n",
              " 'Welsh_springer_spaniel',\n",
              " 'cocker_spaniel',\n",
              " 'Sussex_spaniel',\n",
              " 'Irish_water_spaniel',\n",
              " 'kuvasz',\n",
              " 'schipperke',\n",
              " 'groenendael',\n",
              " 'malinois',\n",
              " 'briard',\n",
              " 'kelpie',\n",
              " 'komondor',\n",
              " 'Old_English_sheepdog',\n",
              " 'Shetland_sheepdog',\n",
              " 'collie',\n",
              " 'Border_collie',\n",
              " 'Bouvier_des_Flandres',\n",
              " 'Rottweiler',\n",
              " 'German_shepherd',\n",
              " 'Doberman',\n",
              " 'miniature_pinscher',\n",
              " 'Greater_Swiss_Mountain_dog',\n",
              " 'Bernese_mountain_dog',\n",
              " 'Appenzeller',\n",
              " 'EntleBucher',\n",
              " 'boxer',\n",
              " 'bull_mastiff',\n",
              " 'Tibetan_mastiff',\n",
              " 'French_bulldog',\n",
              " 'Great_Dane',\n",
              " 'Saint_Bernard',\n",
              " 'Eskimo_dog',\n",
              " 'malamute',\n",
              " 'Siberian_husky',\n",
              " 'affenpinscher',\n",
              " 'basenji',\n",
              " 'pug',\n",
              " 'Leonberg',\n",
              " 'Newfoundland',\n",
              " 'Great_Pyrenees',\n",
              " 'Samoyed',\n",
              " 'Pomeranian',\n",
              " 'chow',\n",
              " 'keeshond',\n",
              " 'Brabancon_griffon',\n",
              " 'Pembroke',\n",
              " 'Cardigan',\n",
              " 'toy_poodle',\n",
              " 'miniature_poodle',\n",
              " 'standard_poodle',\n",
              " 'Mexican_hairless',\n",
              " 'dingo',\n",
              " 'dhole',\n",
              " 'African_hunting_dog']"
            ]
          },
          "metadata": {},
          "execution_count": 9
        }
      ]
    },
    {
      "cell_type": "code",
      "source": [
        "index_list"
      ],
      "metadata": {
        "colab": {
          "base_uri": "https://localhost:8080/"
        },
        "id": "TGq4M-pPnuVN",
        "outputId": "be79bc24-080b-4815-ad2f-a018a73799ad"
      },
      "execution_count": 10,
      "outputs": [
        {
          "output_type": "execute_result",
          "data": {
            "text/plain": [
              "[{'n02085620': 'Chihuahua'},\n",
              " {'n02085782': 'Japanese_spaniel'},\n",
              " {'n02085936': 'Maltese_dog'},\n",
              " {'n02086079': 'Pekinese'},\n",
              " {'n02086240': 'Shih'},\n",
              " {'n02086646': 'Blenheim_spaniel'},\n",
              " {'n02086910': 'papillon'},\n",
              " {'n02087046': 'toy_terrier'},\n",
              " {'n02087394': 'Rhodesian_ridgeback'},\n",
              " {'n02088094': 'Afghan_hound'},\n",
              " {'n02088238': 'basset'},\n",
              " {'n02088364': 'beagle'},\n",
              " {'n02088466': 'bloodhound'},\n",
              " {'n02088632': 'bluetick'},\n",
              " {'n02089078': 'black'},\n",
              " {'n02089867': 'Walker_hound'},\n",
              " {'n02089973': 'English_foxhound'},\n",
              " {'n02090379': 'redbone'},\n",
              " {'n02090622': 'borzoi'},\n",
              " {'n02090721': 'Irish_wolfhound'},\n",
              " {'n02091032': 'Italian_greyhound'},\n",
              " {'n02091134': 'whippet'},\n",
              " {'n02091244': 'Ibizan_hound'},\n",
              " {'n02091467': 'Norwegian_elkhound'},\n",
              " {'n02091635': 'otterhound'},\n",
              " {'n02091831': 'Saluki'},\n",
              " {'n02092002': 'Scottish_deerhound'},\n",
              " {'n02092339': 'Weimaraner'},\n",
              " {'n02093256': 'Staffordshire_bullterrier'},\n",
              " {'n02093428': 'American_Staffordshire_terrier'},\n",
              " {'n02093647': 'Bedlington_terrier'},\n",
              " {'n02093754': 'Border_terrier'},\n",
              " {'n02093859': 'Kerry_blue_terrier'},\n",
              " {'n02093991': 'Irish_terrier'},\n",
              " {'n02094114': 'Norfolk_terrier'},\n",
              " {'n02094258': 'Norwich_terrier'},\n",
              " {'n02094433': 'Yorkshire_terrier'},\n",
              " {'n02095314': 'wire'},\n",
              " {'n02095570': 'Lakeland_terrier'},\n",
              " {'n02095889': 'Sealyham_terrier'},\n",
              " {'n02096051': 'Airedale'},\n",
              " {'n02096177': 'cairn'},\n",
              " {'n02096294': 'Australian_terrier'},\n",
              " {'n02096437': 'Dandie_Dinmont'},\n",
              " {'n02096585': 'Boston_bull'},\n",
              " {'n02097047': 'miniature_schnauzer'},\n",
              " {'n02097130': 'giant_schnauzer'},\n",
              " {'n02097209': 'standard_schnauzer'},\n",
              " {'n02097298': 'Scotch_terrier'},\n",
              " {'n02097474': 'Tibetan_terrier'},\n",
              " {'n02097658': 'silky_terrier'},\n",
              " {'n02098105': 'soft'},\n",
              " {'n02098286': 'West_Highland_white_terrier'},\n",
              " {'n02098413': 'Lhasa'},\n",
              " {'n02099267': 'flat'},\n",
              " {'n02099429': 'curly'},\n",
              " {'n02099601': 'golden_retriever'},\n",
              " {'n02099712': 'Labrador_retriever'},\n",
              " {'n02099849': 'Chesapeake_Bay_retriever'},\n",
              " {'n02100236': 'German_short'},\n",
              " {'n02100583': 'vizsla'},\n",
              " {'n02100735': 'English_setter'},\n",
              " {'n02100877': 'Irish_setter'},\n",
              " {'n02101006': 'Gordon_setter'},\n",
              " {'n02101388': 'Brittany_spaniel'},\n",
              " {'n02101556': 'clumber'},\n",
              " {'n02102040': 'English_springer'},\n",
              " {'n02102177': 'Welsh_springer_spaniel'},\n",
              " {'n02102318': 'cocker_spaniel'},\n",
              " {'n02102480': 'Sussex_spaniel'},\n",
              " {'n02102973': 'Irish_water_spaniel'},\n",
              " {'n02104029': 'kuvasz'},\n",
              " {'n02104365': 'schipperke'},\n",
              " {'n02105056': 'groenendael'},\n",
              " {'n02105162': 'malinois'},\n",
              " {'n02105251': 'briard'},\n",
              " {'n02105412': 'kelpie'},\n",
              " {'n02105505': 'komondor'},\n",
              " {'n02105641': 'Old_English_sheepdog'},\n",
              " {'n02105855': 'Shetland_sheepdog'},\n",
              " {'n02106030': 'collie'},\n",
              " {'n02106166': 'Border_collie'},\n",
              " {'n02106382': 'Bouvier_des_Flandres'},\n",
              " {'n02106550': 'Rottweiler'},\n",
              " {'n02106662': 'German_shepherd'},\n",
              " {'n02107142': 'Doberman'},\n",
              " {'n02107312': 'miniature_pinscher'},\n",
              " {'n02107574': 'Greater_Swiss_Mountain_dog'},\n",
              " {'n02107683': 'Bernese_mountain_dog'},\n",
              " {'n02107908': 'Appenzeller'},\n",
              " {'n02108000': 'EntleBucher'},\n",
              " {'n02108089': 'boxer'},\n",
              " {'n02108422': 'bull_mastiff'},\n",
              " {'n02108551': 'Tibetan_mastiff'},\n",
              " {'n02108915': 'French_bulldog'},\n",
              " {'n02109047': 'Great_Dane'},\n",
              " {'n02109525': 'Saint_Bernard'},\n",
              " {'n02109961': 'Eskimo_dog'},\n",
              " {'n02110063': 'malamute'},\n",
              " {'n02110185': 'Siberian_husky'},\n",
              " {'n02110627': 'affenpinscher'},\n",
              " {'n02110806': 'basenji'},\n",
              " {'n02110958': 'pug'},\n",
              " {'n02111129': 'Leonberg'},\n",
              " {'n02111277': 'Newfoundland'},\n",
              " {'n02111500': 'Great_Pyrenees'},\n",
              " {'n02111889': 'Samoyed'},\n",
              " {'n02112018': 'Pomeranian'},\n",
              " {'n02112137': 'chow'},\n",
              " {'n02112350': 'keeshond'},\n",
              " {'n02112706': 'Brabancon_griffon'},\n",
              " {'n02113023': 'Pembroke'},\n",
              " {'n02113186': 'Cardigan'},\n",
              " {'n02113624': 'toy_poodle'},\n",
              " {'n02113712': 'miniature_poodle'},\n",
              " {'n02113799': 'standard_poodle'},\n",
              " {'n02113978': 'Mexican_hairless'},\n",
              " {'n02115641': 'dingo'},\n",
              " {'n02115913': 'dhole'},\n",
              " {'n02116738': 'African_hunting_dog'}]"
            ]
          },
          "metadata": {},
          "execution_count": 10
        }
      ]
    },
    {
      "cell_type": "code",
      "source": [
        "len(index_list)"
      ],
      "metadata": {
        "colab": {
          "base_uri": "https://localhost:8080/"
        },
        "id": "ETxBJP-fpsKe",
        "outputId": "df138775-f44d-4f54-f563-51c4e6d0592d"
      },
      "execution_count": 11,
      "outputs": [
        {
          "output_type": "execute_result",
          "data": {
            "text/plain": [
              "120"
            ]
          },
          "metadata": {},
          "execution_count": 11
        }
      ]
    },
    {
      "cell_type": "markdown",
      "source": [
        "#Data Pipeline"
      ],
      "metadata": {
        "id": "QafaPcYhZ-5f"
      }
    },
    {
      "cell_type": "code",
      "source": [
        "def load_data(path, split=0.2):\n",
        "  images = shuffle(glob(os.path.join(path,\"*\",\"*.jpg\")))\n",
        "  split_size = int(len(images)*split)\n",
        "  #split data\n",
        "  train_data, valid_data = train_test_split(images, test_size=split_size, random_state=42)\n",
        "  train_data, test_data = train_test_split(train_data, test_size=split_size, random_state=42)\n",
        "\n",
        "  return train_data, valid_data, test_data"
      ],
      "metadata": {
        "id": "owQ8oHnGZ7iu"
      },
      "execution_count": 12,
      "outputs": []
    },
    {
      "cell_type": "code",
      "source": [
        "train_data, valid_data, test_data = load_data(path)"
      ],
      "metadata": {
        "id": "u1-nISTrbS8q"
      },
      "execution_count": 13,
      "outputs": []
    },
    {
      "cell_type": "code",
      "source": [
        "print(f'train data: {len(train_data)}')\n",
        "print(f'test data: {len(test_data)}')\n",
        "print(f'valid data: {len(valid_data)}')"
      ],
      "metadata": {
        "colab": {
          "base_uri": "https://localhost:8080/"
        },
        "id": "beoIe4U0bZJy",
        "outputId": "01768b1c-bca2-4853-f8ce-1e8c63b695b2"
      },
      "execution_count": 14,
      "outputs": [
        {
          "output_type": "stream",
          "name": "stdout",
          "text": [
            "train data: 12348\n",
            "test data: 4116\n",
            "valid data: 4116\n"
          ]
        }
      ]
    },
    {
      "cell_type": "code",
      "source": [
        "train_data[0]"
      ],
      "metadata": {
        "colab": {
          "base_uri": "https://localhost:8080/",
          "height": 35
        },
        "id": "HZZCkf9AqJ7d",
        "outputId": "6f1d01e2-a761-4507-d750-04e41e78cf58"
      },
      "execution_count": 15,
      "outputs": [
        {
          "output_type": "execute_result",
          "data": {
            "text/plain": [
              "'/content/drive/MyDrive/DataSet/dogs_breeds/Images/n02088238-basset/n02088238_7233.jpg'"
            ],
            "application/vnd.google.colaboratory.intrinsic+json": {
              "type": "string"
            }
          },
          "metadata": {},
          "execution_count": 15
        }
      ]
    },
    {
      "cell_type": "code",
      "source": [
        "def process_image(path):\n",
        "    #decode the path\n",
        "    path = path.decode()\n",
        "    #read image\n",
        "    image = cv2.imread(path, cv2.IMREAD_COLOR)\n",
        "    #resize the image\n",
        "    image = cv2.resize(image, [W, H])\n",
        "    #scale the image\n",
        "    image = image / 255.0\n",
        "    #change the data type of image\n",
        "    image = image.astype(np.float32)\n",
        "\n",
        "    #labeling the image\n",
        "    class_name = path.split(\"/\")[-2].split('-')[-1]\n",
        "    class_idx = labels_list.index(class_name)\n",
        "    class_idx = np.array(class_idx, dtype=np.int32)\n",
        "\n",
        "    return image, class_idx"
      ],
      "metadata": {
        "id": "3S_WXhexbmqU"
      },
      "execution_count": 16,
      "outputs": []
    },
    {
      "cell_type": "code",
      "source": [
        "def parse(path):\n",
        "    image, labels = tf.numpy_function(process_image, [path], (tf.float32, tf.int32))\n",
        "    labels = tf.one_hot(labels, num_class)\n",
        "    image.set_shape([224, 224, 3])\n",
        "    labels.set_shape(num_class)\n",
        "  \n",
        "    return image, labels"
      ],
      "metadata": {
        "id": "1QMhn8xZ4wFQ"
      },
      "execution_count": 17,
      "outputs": []
    },
    {
      "cell_type": "code",
      "source": [
        "#tensorflow dataset\n",
        "def tf_dataset(images, batch=64):\n",
        "    dataset = tf.data.Dataset.from_tensor_slices((images))\n",
        "    dataset = dataset.map(parse)\n",
        "    dataset = dataset.batch(batch_size)\n",
        "    dataset = dataset.prefetch(64)\n",
        "    return dataset"
      ],
      "metadata": {
        "id": "3mqfefrR9zWa"
      },
      "execution_count": 18,
      "outputs": []
    },
    {
      "cell_type": "code",
      "source": [
        "#Model (CNN)"
      ],
      "metadata": {
        "id": "IdutSPca952P"
      },
      "execution_count": 19,
      "outputs": []
    },
    {
      "cell_type": "code",
      "source": [
        "#input layer\n",
        "inputs = Input(shape=(W, H, channel))"
      ],
      "metadata": {
        "id": "HmHhOEeF928w"
      },
      "execution_count": 20,
      "outputs": []
    },
    {
      "cell_type": "code",
      "source": [
        "#convolutional layer\n",
        "conv_x = Conv2D(16, (3,3), activation='relu', padding='same', strides=(1,1), kernel_initializer='he_normal')(inputs)\n",
        "conv_x = MaxPooling2D((2,2), strides=(2,2))(conv_x)\n",
        "conv_x = Conv2D(16, (3,3), activation='relu', padding='same', strides=(1,1), kernel_initializer='he_normal')(conv_x)\n",
        "\n",
        "conv_x = Conv2D(32, (3,3), activation='relu', padding='same', strides=(1,1), kernel_initializer='he_normal')(conv_x)\n",
        "conv_x = MaxPooling2D((2,2), strides=(1,1))(conv_x)\n",
        "\n",
        "conv_x = Conv2D(64, (3,3), activation='relu', padding='same', strides=(1,1), kernel_initializer='he_normal')(conv_x)\n",
        "conv_x = MaxPooling2D((2,2), strides=(2,2))(conv_x)\n",
        "conv_x = Conv2D(64, (3,3), activation='relu', padding='same', strides=(1,1), kernel_initializer='he_normal')(conv_x)\n",
        "\n",
        "conv_x = Conv2D(128, (3,3), activation='relu', padding='same', strides=(1,1), kernel_initializer='he_normal')(conv_x)\n",
        "conv_x = MaxPooling2D((2,2), strides=(2,2))(conv_x)\n",
        "conv_x = Conv2D(128, (3,3), activation='relu', padding='same', strides=(1,1), kernel_initializer='he_normal')(conv_x)\n",
        "\n",
        "conv_x = Conv2D(256, (3,3), activation='relu', padding='same', strides=(1,1), kernel_initializer='he_normal')(conv_x)\n",
        "conv_x = MaxPooling2D((2,2), strides=(2,2))(conv_x)\n",
        "conv_x = Conv2D(256, (3,3), activation='relu', padding='same', strides=(1,1), kernel_initializer='he_normal')(conv_x)\n",
        "\n",
        "conv_x = Conv2D(512, (3,3), activation='relu', padding='same', strides=(1,1), kernel_initializer='he_normal')(conv_x)\n",
        "conv_x = MaxPooling2D((2,2), strides=(2,2))(conv_x)\n",
        "conv_x = Conv2D(512, (3,3), activation='relu', padding='same', strides=(1,1), kernel_initializer='he_normal')(conv_x)\n",
        "\n",
        "#flatting\n",
        "flatten = Flatten()(conv_x)\n",
        "conv_x = Dense(64, activation='relu')(flatten)\n",
        "\n",
        "#adding Dense layer with number of class \n",
        "outputs = Dense(num_class, activation='softmax')(conv_x)"
      ],
      "metadata": {
        "id": "dpaASdZR9-kv"
      },
      "execution_count": 21,
      "outputs": []
    },
    {
      "cell_type": "code",
      "source": [
        "model = Model(inputs=inputs, outputs=outputs)"
      ],
      "metadata": {
        "id": "358koOFR-QcW"
      },
      "execution_count": 22,
      "outputs": []
    },
    {
      "cell_type": "code",
      "source": [
        "#summary of model\n",
        "model.summary()"
      ],
      "metadata": {
        "colab": {
          "base_uri": "https://localhost:8080/"
        },
        "id": "vRtnVDEbLHo1",
        "outputId": "e3735abb-e8e0-4be3-8e33-571dcf67d9b5"
      },
      "execution_count": 23,
      "outputs": [
        {
          "output_type": "stream",
          "name": "stdout",
          "text": [
            "Model: \"model\"\n",
            "_________________________________________________________________\n",
            " Layer (type)                Output Shape              Param #   \n",
            "=================================================================\n",
            " input_1 (InputLayer)        [(None, 224, 224, 3)]     0         \n",
            "                                                                 \n",
            " conv2d (Conv2D)             (None, 224, 224, 16)      448       \n",
            "                                                                 \n",
            " max_pooling2d (MaxPooling2D  (None, 112, 112, 16)     0         \n",
            " )                                                               \n",
            "                                                                 \n",
            " conv2d_1 (Conv2D)           (None, 112, 112, 16)      2320      \n",
            "                                                                 \n",
            " conv2d_2 (Conv2D)           (None, 112, 112, 32)      4640      \n",
            "                                                                 \n",
            " max_pooling2d_1 (MaxPooling  (None, 111, 111, 32)     0         \n",
            " 2D)                                                             \n",
            "                                                                 \n",
            " conv2d_3 (Conv2D)           (None, 111, 111, 64)      18496     \n",
            "                                                                 \n",
            " max_pooling2d_2 (MaxPooling  (None, 55, 55, 64)       0         \n",
            " 2D)                                                             \n",
            "                                                                 \n",
            " conv2d_4 (Conv2D)           (None, 55, 55, 64)        36928     \n",
            "                                                                 \n",
            " conv2d_5 (Conv2D)           (None, 55, 55, 128)       73856     \n",
            "                                                                 \n",
            " max_pooling2d_3 (MaxPooling  (None, 27, 27, 128)      0         \n",
            " 2D)                                                             \n",
            "                                                                 \n",
            " conv2d_6 (Conv2D)           (None, 27, 27, 128)       147584    \n",
            "                                                                 \n",
            " conv2d_7 (Conv2D)           (None, 27, 27, 256)       295168    \n",
            "                                                                 \n",
            " max_pooling2d_4 (MaxPooling  (None, 13, 13, 256)      0         \n",
            " 2D)                                                             \n",
            "                                                                 \n",
            " conv2d_8 (Conv2D)           (None, 13, 13, 256)       590080    \n",
            "                                                                 \n",
            " conv2d_9 (Conv2D)           (None, 13, 13, 512)       1180160   \n",
            "                                                                 \n",
            " max_pooling2d_5 (MaxPooling  (None, 6, 6, 512)        0         \n",
            " 2D)                                                             \n",
            "                                                                 \n",
            " conv2d_10 (Conv2D)          (None, 6, 6, 512)         2359808   \n",
            "                                                                 \n",
            " flatten (Flatten)           (None, 18432)             0         \n",
            "                                                                 \n",
            " dense (Dense)               (None, 64)                1179712   \n",
            "                                                                 \n",
            " dense_1 (Dense)             (None, 120)               7800      \n",
            "                                                                 \n",
            "=================================================================\n",
            "Total params: 5,897,000\n",
            "Trainable params: 5,897,000\n",
            "Non-trainable params: 0\n",
            "_________________________________________________________________\n"
          ]
        }
      ]
    },
    {
      "cell_type": "code",
      "source": [
        "#callbacks parameter //paths\n",
        "model_path = \"/content/drive/MyDrive/CNN_Models/dog_breed.h5\"\n",
        "csv_path = \"/content/drive/MyDrive/Model CSV/dog_breed.csv\""
      ],
      "metadata": {
        "id": "8dBWNSHwMdGo"
      },
      "execution_count": 24,
      "outputs": []
    },
    {
      "cell_type": "code",
      "source": [
        "#initalize callbacks\n",
        "callbacks = [\n",
        "    ModelCheckpoint(model_path, verbose=1, save_best_only=True),\n",
        "    CSVLogger(csv_path),\n",
        "    ReduceLROnPlateau(monitor='val_accuracy', factor=0.1, patience=5, min_lr=1e-7, verbose=1)\n",
        "]"
      ],
      "metadata": {
        "id": "7sblazmALLyG"
      },
      "execution_count": 25,
      "outputs": []
    },
    {
      "cell_type": "code",
      "source": [
        "#compile the model\n",
        "model.compile(optimizer='adam', loss='categorical_crossentropy', metrics=['accuracy'])"
      ],
      "metadata": {
        "id": "WxkQimN6MQne"
      },
      "execution_count": 26,
      "outputs": []
    },
    {
      "cell_type": "code",
      "source": [
        "#tensor dataset\n",
        "train_df = tf_dataset(train_data)\n",
        "test_df = tf_dataset(test_data)\n",
        "valid_df = tf_dataset(valid_data) "
      ],
      "metadata": {
        "id": "S2R_-V4fMtlc"
      },
      "execution_count": 27,
      "outputs": []
    },
    {
      "cell_type": "code",
      "source": [
        "#training\n",
        "model.fit(\n",
        "    train_df,\n",
        "    validation_data=valid_df,\n",
        "    epochs=20,\n",
        "    batch_size=128,\n",
        "    callbacks=callbacks\n",
        ")"
      ],
      "metadata": {
        "colab": {
          "base_uri": "https://localhost:8080/"
        },
        "id": "gq7LXZ_CODWi",
        "outputId": "d6aa9906-5525-43ce-9ba6-12db63fdb51c"
      },
      "execution_count": null,
      "outputs": [
        {
          "output_type": "stream",
          "name": "stdout",
          "text": [
            "Epoch 1/20\n",
            " 24/193 [==>...........................] - ETA: 1:59:50 - loss: 4.8660 - accuracy: 0.0091"
          ]
        }
      ]
    },
    {
      "cell_type": "code",
      "source": [],
      "metadata": {
        "id": "aY4kFNh1OjCa"
      },
      "execution_count": null,
      "outputs": []
    }
  ]
}